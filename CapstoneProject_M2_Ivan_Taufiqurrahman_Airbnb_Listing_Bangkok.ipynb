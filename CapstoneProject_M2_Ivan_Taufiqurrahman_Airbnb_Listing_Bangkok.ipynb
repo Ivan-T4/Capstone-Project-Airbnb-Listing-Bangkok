{
 "cells": [
  {
   "cell_type": "markdown",
   "id": "de633292",
   "metadata": {},
   "source": [
    "# Latar Belakang\n",
    "Airbnb listing Bangkok adalah perusahaan pihak ketiga yang membantu menemukan orang yang ingin menyewa tempat di bangkok dengan orang yang memiliki tempat untuk disewa. Selama ini perusahaan tidak memiliki data yang kuat untuk mempetakan daerah potential yang sering di pilih sebagai tempat tinggal sementara dan perilaku customer terhadap tempat yang disewakan (jumlah, harga, tipe, waktu)."
   ]
  },
  {
   "cell_type": "markdown",
   "id": "53301ad4",
   "metadata": {},
   "source": [
    "# Permasalahan\n",
    "Perusahaan ingin mengetahui bagaimana cara perusahaan dan host yang ada di bangkok untuk beradapatasi dan mengakomodasi peningkatan permintaan akan tempat menginap di tahun depan dan juga membantu mempetakan daerah yang memiliki jumlah listing yang besar. Informasi ini dapat membantu perusahaan airbnb listing bangkok dalam mengoptimalkan daerah lain yang belum banyak memiliki tempat untuk disewakan di airbnb dan juga membantu meratakan pertumbuhan ekonomi di daerah lain di bangkok.\n",
    "\n",
    "Permasalahan yang ingin diangkat pada kasus ini adalah:\n",
    "\n",
    "**Bagaimana Airbnb listing di bangkok berusaha beradaptasi dan mengakomodasi peningkatan permintaan akan tempat untuk menginap di tahun 2023 kedepan, sekaligus tetap menjaga keseimbangan pertumbuhan listing di semua daerah di bangkok?**"
   ]
  },
  {
   "cell_type": "code",
   "execution_count": 1,
   "id": "fc623586",
   "metadata": {},
   "outputs": [],
   "source": [
    "import numpy as np\n",
    "import pandas as pd\n",
    "import matplotlib.pyplot as plt\n",
    "import seaborn as sns\n",
    "pd.set_option('display.max_columns', None)"
   ]
  },
  {
   "cell_type": "markdown",
   "id": "1c942712",
   "metadata": {},
   "source": [
    "# 1. Data Preprocessing"
   ]
  },
  {
   "cell_type": "markdown",
   "id": "27e74711",
   "metadata": {},
   "source": []
  },
  {
   "cell_type": "markdown",
   "id": "4918ca7a",
   "metadata": {},
   "source": [
    "## Load the data "
   ]
  },
  {
   "cell_type": "code",
   "execution_count": 2,
   "id": "8366de67",
   "metadata": {},
   "outputs": [],
   "source": [
    "df1 = pd.read_csv(\"Airbnb Listings Bangkok.csv\", index_col=None)\n",
    "df2 = pd.read_csv(\"Airbnb Listings Bangkok.csv\", index_col=False)"
   ]
  },
  {
   "cell_type": "code",
   "execution_count": 3,
   "id": "b22c0bb5",
   "metadata": {},
   "outputs": [
    {
     "data": {
      "text/html": [
       "<div>\n",
       "<style scoped>\n",
       "    .dataframe tbody tr th:only-of-type {\n",
       "        vertical-align: middle;\n",
       "    }\n",
       "\n",
       "    .dataframe tbody tr th {\n",
       "        vertical-align: top;\n",
       "    }\n",
       "\n",
       "    .dataframe thead th {\n",
       "        text-align: right;\n",
       "    }\n",
       "</style>\n",
       "<table border=\"1\" class=\"dataframe\">\n",
       "  <thead>\n",
       "    <tr style=\"text-align: right;\">\n",
       "      <th></th>\n",
       "      <th>id</th>\n",
       "      <th>name</th>\n",
       "      <th>host_id</th>\n",
       "      <th>host_name</th>\n",
       "      <th>neighbourhood</th>\n",
       "      <th>latitude</th>\n",
       "      <th>longitude</th>\n",
       "      <th>room_type</th>\n",
       "      <th>price</th>\n",
       "      <th>minimum_nights</th>\n",
       "      <th>number_of_reviews</th>\n",
       "      <th>last_review</th>\n",
       "      <th>reviews_per_month</th>\n",
       "      <th>calculated_host_listings_count</th>\n",
       "      <th>availability_365</th>\n",
       "      <th>number_of_reviews_ltm</th>\n",
       "    </tr>\n",
       "  </thead>\n",
       "  <tbody>\n",
       "    <tr>\n",
       "      <th>0</th>\n",
       "      <td>27934</td>\n",
       "      <td>Nice room with superb city view</td>\n",
       "      <td>120437</td>\n",
       "      <td>Nuttee</td>\n",
       "      <td>Ratchathewi</td>\n",
       "      <td>13.759830</td>\n",
       "      <td>100.541340</td>\n",
       "      <td>Entire home/apt</td>\n",
       "      <td>1905</td>\n",
       "      <td>3</td>\n",
       "      <td>65</td>\n",
       "      <td>2020-01-06</td>\n",
       "      <td>0.50</td>\n",
       "      <td>2</td>\n",
       "      <td>353</td>\n",
       "      <td>0</td>\n",
       "    </tr>\n",
       "    <tr>\n",
       "      <th>1</th>\n",
       "      <td>27979</td>\n",
       "      <td>Easy going landlord,easy place</td>\n",
       "      <td>120541</td>\n",
       "      <td>Emy</td>\n",
       "      <td>Bang Na</td>\n",
       "      <td>13.668180</td>\n",
       "      <td>100.616740</td>\n",
       "      <td>Private room</td>\n",
       "      <td>1316</td>\n",
       "      <td>1</td>\n",
       "      <td>0</td>\n",
       "      <td>NaN</td>\n",
       "      <td>NaN</td>\n",
       "      <td>2</td>\n",
       "      <td>358</td>\n",
       "      <td>0</td>\n",
       "    </tr>\n",
       "    <tr>\n",
       "      <th>2</th>\n",
       "      <td>28745</td>\n",
       "      <td>modern-style apartment in Bangkok</td>\n",
       "      <td>123784</td>\n",
       "      <td>Familyroom</td>\n",
       "      <td>Bang Kapi</td>\n",
       "      <td>13.752320</td>\n",
       "      <td>100.624020</td>\n",
       "      <td>Private room</td>\n",
       "      <td>800</td>\n",
       "      <td>60</td>\n",
       "      <td>0</td>\n",
       "      <td>NaN</td>\n",
       "      <td>NaN</td>\n",
       "      <td>1</td>\n",
       "      <td>365</td>\n",
       "      <td>0</td>\n",
       "    </tr>\n",
       "    <tr>\n",
       "      <th>3</th>\n",
       "      <td>35780</td>\n",
       "      <td>Spacious one bedroom at The Kris Condo Bldg. 3</td>\n",
       "      <td>153730</td>\n",
       "      <td>Sirilak</td>\n",
       "      <td>Din Daeng</td>\n",
       "      <td>13.788230</td>\n",
       "      <td>100.572560</td>\n",
       "      <td>Private room</td>\n",
       "      <td>1286</td>\n",
       "      <td>7</td>\n",
       "      <td>2</td>\n",
       "      <td>2022-04-01</td>\n",
       "      <td>0.03</td>\n",
       "      <td>1</td>\n",
       "      <td>323</td>\n",
       "      <td>1</td>\n",
       "    </tr>\n",
       "    <tr>\n",
       "      <th>4</th>\n",
       "      <td>941865</td>\n",
       "      <td>Suite Room 3 at MetroPoint</td>\n",
       "      <td>610315</td>\n",
       "      <td>Kasem</td>\n",
       "      <td>Bang Kapi</td>\n",
       "      <td>13.768720</td>\n",
       "      <td>100.633380</td>\n",
       "      <td>Private room</td>\n",
       "      <td>1905</td>\n",
       "      <td>1</td>\n",
       "      <td>0</td>\n",
       "      <td>NaN</td>\n",
       "      <td>NaN</td>\n",
       "      <td>3</td>\n",
       "      <td>365</td>\n",
       "      <td>0</td>\n",
       "    </tr>\n",
       "    <tr>\n",
       "      <th>...</th>\n",
       "      <td>...</td>\n",
       "      <td>...</td>\n",
       "      <td>...</td>\n",
       "      <td>...</td>\n",
       "      <td>...</td>\n",
       "      <td>...</td>\n",
       "      <td>...</td>\n",
       "      <td>...</td>\n",
       "      <td>...</td>\n",
       "      <td>...</td>\n",
       "      <td>...</td>\n",
       "      <td>...</td>\n",
       "      <td>...</td>\n",
       "      <td>...</td>\n",
       "      <td>...</td>\n",
       "      <td>...</td>\n",
       "    </tr>\n",
       "    <tr>\n",
       "      <th>15849</th>\n",
       "      <td>790465040741092826</td>\n",
       "      <td>素坤逸核心两房公寓42楼，靠近BTSon nut/无边天际泳池观赏曼谷夜景/出门当地美食街</td>\n",
       "      <td>94899359</td>\n",
       "      <td>Renee</td>\n",
       "      <td>Pra Wet</td>\n",
       "      <td>13.715132</td>\n",
       "      <td>100.653458</td>\n",
       "      <td>Private room</td>\n",
       "      <td>2298</td>\n",
       "      <td>28</td>\n",
       "      <td>0</td>\n",
       "      <td>NaN</td>\n",
       "      <td>NaN</td>\n",
       "      <td>1</td>\n",
       "      <td>362</td>\n",
       "      <td>0</td>\n",
       "    </tr>\n",
       "    <tr>\n",
       "      <th>15850</th>\n",
       "      <td>790474503157243541</td>\n",
       "      <td>Euro LuxuryHotel PratunamMKt TripleBdNrShoping...</td>\n",
       "      <td>491526222</td>\n",
       "      <td>Phakhamon</td>\n",
       "      <td>Ratchathewi</td>\n",
       "      <td>13.753052</td>\n",
       "      <td>100.538738</td>\n",
       "      <td>Private room</td>\n",
       "      <td>1429</td>\n",
       "      <td>1</td>\n",
       "      <td>0</td>\n",
       "      <td>NaN</td>\n",
       "      <td>NaN</td>\n",
       "      <td>14</td>\n",
       "      <td>365</td>\n",
       "      <td>0</td>\n",
       "    </tr>\n",
       "    <tr>\n",
       "      <th>15851</th>\n",
       "      <td>790475335086864240</td>\n",
       "      <td>Euro LuxuryHotel PratunamMKt TwinBedNrShopingArea</td>\n",
       "      <td>491526222</td>\n",
       "      <td>Phakhamon</td>\n",
       "      <td>Ratchathewi</td>\n",
       "      <td>13.753169</td>\n",
       "      <td>100.538700</td>\n",
       "      <td>Private room</td>\n",
       "      <td>1214</td>\n",
       "      <td>1</td>\n",
       "      <td>0</td>\n",
       "      <td>NaN</td>\n",
       "      <td>NaN</td>\n",
       "      <td>14</td>\n",
       "      <td>365</td>\n",
       "      <td>0</td>\n",
       "    </tr>\n",
       "    <tr>\n",
       "      <th>15852</th>\n",
       "      <td>790475546213717328</td>\n",
       "      <td>Euro LuxuryHotel PratunamMKt TwinBedNrShopingArea</td>\n",
       "      <td>491526222</td>\n",
       "      <td>Phakhamon</td>\n",
       "      <td>Ratchathewi</td>\n",
       "      <td>13.754789</td>\n",
       "      <td>100.538757</td>\n",
       "      <td>Private room</td>\n",
       "      <td>1214</td>\n",
       "      <td>1</td>\n",
       "      <td>0</td>\n",
       "      <td>NaN</td>\n",
       "      <td>NaN</td>\n",
       "      <td>14</td>\n",
       "      <td>365</td>\n",
       "      <td>0</td>\n",
       "    </tr>\n",
       "    <tr>\n",
       "      <th>15853</th>\n",
       "      <td>790476492384199044</td>\n",
       "      <td>Euro LuxuryHotel PratunamMKt TwinBedNrShopingArea</td>\n",
       "      <td>491526222</td>\n",
       "      <td>Phakhamon</td>\n",
       "      <td>Ratchathewi</td>\n",
       "      <td>13.752960</td>\n",
       "      <td>100.540820</td>\n",
       "      <td>Private room</td>\n",
       "      <td>1214</td>\n",
       "      <td>1</td>\n",
       "      <td>0</td>\n",
       "      <td>NaN</td>\n",
       "      <td>NaN</td>\n",
       "      <td>14</td>\n",
       "      <td>365</td>\n",
       "      <td>0</td>\n",
       "    </tr>\n",
       "  </tbody>\n",
       "</table>\n",
       "<p>15854 rows × 16 columns</p>\n",
       "</div>"
      ],
      "text/plain": [
       "                       id                                               name  \\\n",
       "0                   27934                    Nice room with superb city view   \n",
       "1                   27979                     Easy going landlord,easy place   \n",
       "2                   28745                  modern-style apartment in Bangkok   \n",
       "3                   35780     Spacious one bedroom at The Kris Condo Bldg. 3   \n",
       "4                  941865                         Suite Room 3 at MetroPoint   \n",
       "...                   ...                                                ...   \n",
       "15849  790465040741092826      素坤逸核心两房公寓42楼，靠近BTSon nut/无边天际泳池观赏曼谷夜景/出门当地美食街   \n",
       "15850  790474503157243541  Euro LuxuryHotel PratunamMKt TripleBdNrShoping...   \n",
       "15851  790475335086864240  Euro LuxuryHotel PratunamMKt TwinBedNrShopingArea   \n",
       "15852  790475546213717328  Euro LuxuryHotel PratunamMKt TwinBedNrShopingArea   \n",
       "15853  790476492384199044  Euro LuxuryHotel PratunamMKt TwinBedNrShopingArea   \n",
       "\n",
       "         host_id   host_name neighbourhood   latitude   longitude  \\\n",
       "0         120437      Nuttee   Ratchathewi  13.759830  100.541340   \n",
       "1         120541         Emy       Bang Na  13.668180  100.616740   \n",
       "2         123784  Familyroom     Bang Kapi  13.752320  100.624020   \n",
       "3         153730     Sirilak     Din Daeng  13.788230  100.572560   \n",
       "4         610315       Kasem     Bang Kapi  13.768720  100.633380   \n",
       "...          ...         ...           ...        ...         ...   \n",
       "15849   94899359       Renee       Pra Wet  13.715132  100.653458   \n",
       "15850  491526222   Phakhamon   Ratchathewi  13.753052  100.538738   \n",
       "15851  491526222   Phakhamon   Ratchathewi  13.753169  100.538700   \n",
       "15852  491526222   Phakhamon   Ratchathewi  13.754789  100.538757   \n",
       "15853  491526222   Phakhamon   Ratchathewi  13.752960  100.540820   \n",
       "\n",
       "             room_type  price  minimum_nights  number_of_reviews last_review  \\\n",
       "0      Entire home/apt   1905               3                 65  2020-01-06   \n",
       "1         Private room   1316               1                  0         NaN   \n",
       "2         Private room    800              60                  0         NaN   \n",
       "3         Private room   1286               7                  2  2022-04-01   \n",
       "4         Private room   1905               1                  0         NaN   \n",
       "...                ...    ...             ...                ...         ...   \n",
       "15849     Private room   2298              28                  0         NaN   \n",
       "15850     Private room   1429               1                  0         NaN   \n",
       "15851     Private room   1214               1                  0         NaN   \n",
       "15852     Private room   1214               1                  0         NaN   \n",
       "15853     Private room   1214               1                  0         NaN   \n",
       "\n",
       "       reviews_per_month  calculated_host_listings_count  availability_365  \\\n",
       "0                   0.50                               2               353   \n",
       "1                    NaN                               2               358   \n",
       "2                    NaN                               1               365   \n",
       "3                   0.03                               1               323   \n",
       "4                    NaN                               3               365   \n",
       "...                  ...                             ...               ...   \n",
       "15849                NaN                               1               362   \n",
       "15850                NaN                              14               365   \n",
       "15851                NaN                              14               365   \n",
       "15852                NaN                              14               365   \n",
       "15853                NaN                              14               365   \n",
       "\n",
       "       number_of_reviews_ltm  \n",
       "0                          0  \n",
       "1                          0  \n",
       "2                          0  \n",
       "3                          1  \n",
       "4                          0  \n",
       "...                      ...  \n",
       "15849                      0  \n",
       "15850                      0  \n",
       "15851                      0  \n",
       "15852                      0  \n",
       "15853                      0  \n",
       "\n",
       "[15854 rows x 16 columns]"
      ]
     },
     "execution_count": 3,
     "metadata": {},
     "output_type": "execute_result"
    }
   ],
   "source": [
    "df1 = df1.drop(columns=['Unnamed: 0'])\n",
    "df1"
   ]
  },
  {
   "cell_type": "markdown",
   "id": "d04930a4",
   "metadata": {},
   "source": [
    "Data raw Airbnb Listings Bnagkok terdari 16 coloumn dan 15854 row\n",
    "16 coloumn seperti:\n",
    "- id : unique id tiap listing (property)\n",
    "- name : nama user di aplikasi listing airbnb bangkok\n",
    "- host_id : username/host yang menyewakan propertynya untuk digunain\n",
    "- neighborhood : kabupaten/kota\n",
    "- latitude : garis lintang\n",
    "- longitude : garis lintang\n",
    "- room_type : jenis kamar [entire place: 1 rumah/apt, private rooms: 1 ruangan di dalam sebuah rumah/apt, shared rooms: berada di ruangan yang sama dengan orang lain]\n",
    "- price : harga sewa dalam mata uang thailand (bhat)\n",
    "- minimum_nights : minimal waktu(malam) untuk menyewa\n",
    "- number_of_reviews : jumlah review yang dimiliki listing\n",
    "- last_review : tanggal terakhir listing di review\n",
    "- review_per_month : jumlah rata-rata review listing per bulannya\n",
    "- calculated_host_listings_count : jumlah review yang dimiliki host/penyewa di kota bangkok\n",
    "- availability_365 : jumlah hari yang masih tersedia dalam 1 tahun kedepan\n",
    "- number_of_reviews_ltm : jumlah review yang dimiliki listing dalam 12 bulan terakhir"
   ]
  },
  {
   "cell_type": "markdown",
   "id": "1bd65871",
   "metadata": {},
   "source": [
    "# Data Understanding and Cleaning\n",
    "## Checking Column Value\n",
    "- bagaimana deskripsi dan info data yang dipakai?\n",
    "- apakah semua column perlu atau penting?\n",
    "- apakah ada anomaly dalam data/column?\n",
    "- apakah datanya make sense?\n",
    "- berapa banyak NaN atau nilai 0 yang tidak berarti yang dapat mengurangi nilai baris\n",
    "- berapa banyak data yang terduplicate"
   ]
  },
  {
   "cell_type": "code",
   "execution_count": 4,
   "id": "f9f758ed",
   "metadata": {},
   "outputs": [
    {
     "data": {
      "text/html": [
       "<div>\n",
       "<style scoped>\n",
       "    .dataframe tbody tr th:only-of-type {\n",
       "        vertical-align: middle;\n",
       "    }\n",
       "\n",
       "    .dataframe tbody tr th {\n",
       "        vertical-align: top;\n",
       "    }\n",
       "\n",
       "    .dataframe thead th {\n",
       "        text-align: right;\n",
       "    }\n",
       "</style>\n",
       "<table border=\"1\" class=\"dataframe\">\n",
       "  <thead>\n",
       "    <tr style=\"text-align: right;\">\n",
       "      <th></th>\n",
       "      <th>id</th>\n",
       "      <th>host_id</th>\n",
       "      <th>latitude</th>\n",
       "      <th>longitude</th>\n",
       "      <th>price</th>\n",
       "      <th>minimum_nights</th>\n",
       "      <th>number_of_reviews</th>\n",
       "      <th>reviews_per_month</th>\n",
       "      <th>calculated_host_listings_count</th>\n",
       "      <th>availability_365</th>\n",
       "      <th>number_of_reviews_ltm</th>\n",
       "    </tr>\n",
       "  </thead>\n",
       "  <tbody>\n",
       "    <tr>\n",
       "      <th>count</th>\n",
       "      <td>1.585400e+04</td>\n",
       "      <td>1.585400e+04</td>\n",
       "      <td>15854.000000</td>\n",
       "      <td>15854.000000</td>\n",
       "      <td>1.585400e+04</td>\n",
       "      <td>15854.000000</td>\n",
       "      <td>15854.000000</td>\n",
       "      <td>10064.000000</td>\n",
       "      <td>15854.000000</td>\n",
       "      <td>15854.000000</td>\n",
       "      <td>15854.000000</td>\n",
       "    </tr>\n",
       "    <tr>\n",
       "      <th>mean</th>\n",
       "      <td>1.579397e+17</td>\n",
       "      <td>1.541058e+08</td>\n",
       "      <td>13.745144</td>\n",
       "      <td>100.559903</td>\n",
       "      <td>3.217704e+03</td>\n",
       "      <td>15.292355</td>\n",
       "      <td>16.654157</td>\n",
       "      <td>0.813145</td>\n",
       "      <td>13.889618</td>\n",
       "      <td>244.378643</td>\n",
       "      <td>3.481519</td>\n",
       "    </tr>\n",
       "    <tr>\n",
       "      <th>std</th>\n",
       "      <td>2.946015e+17</td>\n",
       "      <td>1.318726e+08</td>\n",
       "      <td>0.043040</td>\n",
       "      <td>0.050911</td>\n",
       "      <td>2.497212e+04</td>\n",
       "      <td>50.815020</td>\n",
       "      <td>40.613331</td>\n",
       "      <td>1.090196</td>\n",
       "      <td>30.269848</td>\n",
       "      <td>125.843224</td>\n",
       "      <td>8.916937</td>\n",
       "    </tr>\n",
       "    <tr>\n",
       "      <th>min</th>\n",
       "      <td>2.793400e+04</td>\n",
       "      <td>5.892000e+04</td>\n",
       "      <td>13.527300</td>\n",
       "      <td>100.329550</td>\n",
       "      <td>0.000000e+00</td>\n",
       "      <td>1.000000</td>\n",
       "      <td>0.000000</td>\n",
       "      <td>0.010000</td>\n",
       "      <td>1.000000</td>\n",
       "      <td>0.000000</td>\n",
       "      <td>0.000000</td>\n",
       "    </tr>\n",
       "    <tr>\n",
       "      <th>25%</th>\n",
       "      <td>2.104509e+07</td>\n",
       "      <td>3.974431e+07</td>\n",
       "      <td>13.720090</td>\n",
       "      <td>100.529690</td>\n",
       "      <td>9.000000e+02</td>\n",
       "      <td>1.000000</td>\n",
       "      <td>0.000000</td>\n",
       "      <td>0.120000</td>\n",
       "      <td>1.000000</td>\n",
       "      <td>138.000000</td>\n",
       "      <td>0.000000</td>\n",
       "    </tr>\n",
       "    <tr>\n",
       "      <th>50%</th>\n",
       "      <td>3.503734e+07</td>\n",
       "      <td>1.224556e+08</td>\n",
       "      <td>13.738490</td>\n",
       "      <td>100.561415</td>\n",
       "      <td>1.429000e+03</td>\n",
       "      <td>1.000000</td>\n",
       "      <td>2.000000</td>\n",
       "      <td>0.435000</td>\n",
       "      <td>4.000000</td>\n",
       "      <td>309.000000</td>\n",
       "      <td>0.000000</td>\n",
       "    </tr>\n",
       "    <tr>\n",
       "      <th>75%</th>\n",
       "      <td>5.256154e+07</td>\n",
       "      <td>2.390547e+08</td>\n",
       "      <td>13.759497</td>\n",
       "      <td>100.585150</td>\n",
       "      <td>2.429000e+03</td>\n",
       "      <td>7.000000</td>\n",
       "      <td>13.000000</td>\n",
       "      <td>1.060000</td>\n",
       "      <td>13.000000</td>\n",
       "      <td>360.000000</td>\n",
       "      <td>3.000000</td>\n",
       "    </tr>\n",
       "    <tr>\n",
       "      <th>max</th>\n",
       "      <td>7.908162e+17</td>\n",
       "      <td>4.926659e+08</td>\n",
       "      <td>13.953540</td>\n",
       "      <td>100.923440</td>\n",
       "      <td>1.100000e+06</td>\n",
       "      <td>1125.000000</td>\n",
       "      <td>1224.000000</td>\n",
       "      <td>19.130000</td>\n",
       "      <td>228.000000</td>\n",
       "      <td>365.000000</td>\n",
       "      <td>325.000000</td>\n",
       "    </tr>\n",
       "  </tbody>\n",
       "</table>\n",
       "</div>"
      ],
      "text/plain": [
       "                 id       host_id      latitude     longitude         price  \\\n",
       "count  1.585400e+04  1.585400e+04  15854.000000  15854.000000  1.585400e+04   \n",
       "mean   1.579397e+17  1.541058e+08     13.745144    100.559903  3.217704e+03   \n",
       "std    2.946015e+17  1.318726e+08      0.043040      0.050911  2.497212e+04   \n",
       "min    2.793400e+04  5.892000e+04     13.527300    100.329550  0.000000e+00   \n",
       "25%    2.104509e+07  3.974431e+07     13.720090    100.529690  9.000000e+02   \n",
       "50%    3.503734e+07  1.224556e+08     13.738490    100.561415  1.429000e+03   \n",
       "75%    5.256154e+07  2.390547e+08     13.759497    100.585150  2.429000e+03   \n",
       "max    7.908162e+17  4.926659e+08     13.953540    100.923440  1.100000e+06   \n",
       "\n",
       "       minimum_nights  number_of_reviews  reviews_per_month  \\\n",
       "count    15854.000000       15854.000000       10064.000000   \n",
       "mean        15.292355          16.654157           0.813145   \n",
       "std         50.815020          40.613331           1.090196   \n",
       "min          1.000000           0.000000           0.010000   \n",
       "25%          1.000000           0.000000           0.120000   \n",
       "50%          1.000000           2.000000           0.435000   \n",
       "75%          7.000000          13.000000           1.060000   \n",
       "max       1125.000000        1224.000000          19.130000   \n",
       "\n",
       "       calculated_host_listings_count  availability_365  number_of_reviews_ltm  \n",
       "count                    15854.000000      15854.000000           15854.000000  \n",
       "mean                        13.889618        244.378643               3.481519  \n",
       "std                         30.269848        125.843224               8.916937  \n",
       "min                          1.000000          0.000000               0.000000  \n",
       "25%                          1.000000        138.000000               0.000000  \n",
       "50%                          4.000000        309.000000               0.000000  \n",
       "75%                         13.000000        360.000000               3.000000  \n",
       "max                        228.000000        365.000000             325.000000  "
      ]
     },
     "execution_count": 4,
     "metadata": {},
     "output_type": "execute_result"
    }
   ],
   "source": [
    "df1.describe()"
   ]
  },
  {
   "cell_type": "code",
   "execution_count": 5,
   "id": "4bc8ec63",
   "metadata": {},
   "outputs": [
    {
     "data": {
      "text/html": [
       "<div>\n",
       "<style scoped>\n",
       "    .dataframe tbody tr th:only-of-type {\n",
       "        vertical-align: middle;\n",
       "    }\n",
       "\n",
       "    .dataframe tbody tr th {\n",
       "        vertical-align: top;\n",
       "    }\n",
       "\n",
       "    .dataframe thead th {\n",
       "        text-align: right;\n",
       "    }\n",
       "</style>\n",
       "<table border=\"1\" class=\"dataframe\">\n",
       "  <thead>\n",
       "    <tr style=\"text-align: right;\">\n",
       "      <th></th>\n",
       "      <th>name</th>\n",
       "      <th>host_name</th>\n",
       "      <th>neighbourhood</th>\n",
       "      <th>room_type</th>\n",
       "      <th>last_review</th>\n",
       "    </tr>\n",
       "  </thead>\n",
       "  <tbody>\n",
       "    <tr>\n",
       "      <th>count</th>\n",
       "      <td>15846</td>\n",
       "      <td>15853</td>\n",
       "      <td>15854</td>\n",
       "      <td>15854</td>\n",
       "      <td>10064</td>\n",
       "    </tr>\n",
       "    <tr>\n",
       "      <th>unique</th>\n",
       "      <td>14794</td>\n",
       "      <td>5312</td>\n",
       "      <td>50</td>\n",
       "      <td>4</td>\n",
       "      <td>1669</td>\n",
       "    </tr>\n",
       "    <tr>\n",
       "      <th>top</th>\n",
       "      <td>New!  La Chada Night Market studio 2PPL near MRT</td>\n",
       "      <td>Curry</td>\n",
       "      <td>Vadhana</td>\n",
       "      <td>Entire home/apt</td>\n",
       "      <td>2022-12-11</td>\n",
       "    </tr>\n",
       "    <tr>\n",
       "      <th>freq</th>\n",
       "      <td>45</td>\n",
       "      <td>228</td>\n",
       "      <td>2153</td>\n",
       "      <td>8912</td>\n",
       "      <td>189</td>\n",
       "    </tr>\n",
       "  </tbody>\n",
       "</table>\n",
       "</div>"
      ],
      "text/plain": [
       "                                                    name host_name  \\\n",
       "count                                              15846     15853   \n",
       "unique                                             14794      5312   \n",
       "top     New!  La Chada Night Market studio 2PPL near MRT     Curry   \n",
       "freq                                                  45       228   \n",
       "\n",
       "       neighbourhood        room_type last_review  \n",
       "count          15854            15854       10064  \n",
       "unique            50                4        1669  \n",
       "top          Vadhana  Entire home/apt  2022-12-11  \n",
       "freq            2153             8912         189  "
      ]
     },
     "execution_count": 5,
     "metadata": {},
     "output_type": "execute_result"
    }
   ],
   "source": [
    "df1.describe(include='object')"
   ]
  },
  {
   "cell_type": "code",
   "execution_count": 6,
   "id": "9d261ddf",
   "metadata": {},
   "outputs": [
    {
     "name": "stdout",
     "output_type": "stream",
     "text": [
      "<class 'pandas.core.frame.DataFrame'>\n",
      "RangeIndex: 15854 entries, 0 to 15853\n",
      "Data columns (total 16 columns):\n",
      " #   Column                          Non-Null Count  Dtype  \n",
      "---  ------                          --------------  -----  \n",
      " 0   id                              15854 non-null  int64  \n",
      " 1   name                            15846 non-null  object \n",
      " 2   host_id                         15854 non-null  int64  \n",
      " 3   host_name                       15853 non-null  object \n",
      " 4   neighbourhood                   15854 non-null  object \n",
      " 5   latitude                        15854 non-null  float64\n",
      " 6   longitude                       15854 non-null  float64\n",
      " 7   room_type                       15854 non-null  object \n",
      " 8   price                           15854 non-null  int64  \n",
      " 9   minimum_nights                  15854 non-null  int64  \n",
      " 10  number_of_reviews               15854 non-null  int64  \n",
      " 11  last_review                     10064 non-null  object \n",
      " 12  reviews_per_month               10064 non-null  float64\n",
      " 13  calculated_host_listings_count  15854 non-null  int64  \n",
      " 14  availability_365                15854 non-null  int64  \n",
      " 15  number_of_reviews_ltm           15854 non-null  int64  \n",
      "dtypes: float64(3), int64(8), object(5)\n",
      "memory usage: 1.9+ MB\n"
     ]
    }
   ],
   "source": [
    "df1.info()"
   ]
  },
  {
   "cell_type": "code",
   "execution_count": 7,
   "id": "94b84ad6",
   "metadata": {},
   "outputs": [
    {
     "data": {
      "text/plain": [
       "id                                   0\n",
       "name                                 8\n",
       "host_id                              0\n",
       "host_name                            1\n",
       "neighbourhood                        0\n",
       "latitude                             0\n",
       "longitude                            0\n",
       "room_type                            0\n",
       "price                                0\n",
       "minimum_nights                       0\n",
       "number_of_reviews                    0\n",
       "last_review                       5790\n",
       "reviews_per_month                 5790\n",
       "calculated_host_listings_count       0\n",
       "availability_365                     0\n",
       "number_of_reviews_ltm                0\n",
       "dtype: int64"
      ]
     },
     "execution_count": 7,
     "metadata": {},
     "output_type": "execute_result"
    }
   ],
   "source": [
    "df1.isna().sum()"
   ]
  },
  {
   "cell_type": "code",
   "execution_count": 8,
   "id": "bf35d1d8",
   "metadata": {},
   "outputs": [
    {
     "data": {
      "text/plain": [
       "id                                   0\n",
       "name                                 8\n",
       "host_id                              0\n",
       "host_name                            1\n",
       "neighbourhood                        0\n",
       "latitude                             0\n",
       "longitude                            0\n",
       "room_type                            0\n",
       "price                                0\n",
       "minimum_nights                       0\n",
       "number_of_reviews                    0\n",
       "last_review                       5790\n",
       "reviews_per_month                 5790\n",
       "calculated_host_listings_count       0\n",
       "availability_365                     0\n",
       "number_of_reviews_ltm                0\n",
       "dtype: int64"
      ]
     },
     "execution_count": 8,
     "metadata": {},
     "output_type": "execute_result"
    }
   ],
   "source": [
    "df1.isnull().sum()"
   ]
  },
  {
   "cell_type": "code",
   "execution_count": 9,
   "id": "6870c17c",
   "metadata": {},
   "outputs": [
    {
     "data": {
      "text/html": [
       "<div>\n",
       "<style scoped>\n",
       "    .dataframe tbody tr th:only-of-type {\n",
       "        vertical-align: middle;\n",
       "    }\n",
       "\n",
       "    .dataframe tbody tr th {\n",
       "        vertical-align: top;\n",
       "    }\n",
       "\n",
       "    .dataframe thead th {\n",
       "        text-align: right;\n",
       "    }\n",
       "</style>\n",
       "<table border=\"1\" class=\"dataframe\">\n",
       "  <thead>\n",
       "    <tr style=\"text-align: right;\">\n",
       "      <th></th>\n",
       "      <th>id</th>\n",
       "      <th>name</th>\n",
       "      <th>host_id</th>\n",
       "      <th>host_name</th>\n",
       "      <th>neighbourhood</th>\n",
       "      <th>latitude</th>\n",
       "      <th>longitude</th>\n",
       "      <th>room_type</th>\n",
       "      <th>price</th>\n",
       "      <th>minimum_nights</th>\n",
       "      <th>number_of_reviews</th>\n",
       "      <th>last_review</th>\n",
       "      <th>reviews_per_month</th>\n",
       "      <th>calculated_host_listings_count</th>\n",
       "      <th>availability_365</th>\n",
       "      <th>number_of_reviews_ltm</th>\n",
       "    </tr>\n",
       "  </thead>\n",
       "  <tbody>\n",
       "    <tr>\n",
       "      <th>count</th>\n",
       "      <td>1.585400e+04</td>\n",
       "      <td>15846</td>\n",
       "      <td>1.585400e+04</td>\n",
       "      <td>15853</td>\n",
       "      <td>15854</td>\n",
       "      <td>15854.000000</td>\n",
       "      <td>15854.000000</td>\n",
       "      <td>15854</td>\n",
       "      <td>1.585400e+04</td>\n",
       "      <td>15854.000000</td>\n",
       "      <td>15854.000000</td>\n",
       "      <td>10064</td>\n",
       "      <td>10064.000000</td>\n",
       "      <td>15854.000000</td>\n",
       "      <td>15854.000000</td>\n",
       "      <td>15854.000000</td>\n",
       "    </tr>\n",
       "    <tr>\n",
       "      <th>unique</th>\n",
       "      <td>NaN</td>\n",
       "      <td>14794</td>\n",
       "      <td>NaN</td>\n",
       "      <td>5312</td>\n",
       "      <td>50</td>\n",
       "      <td>NaN</td>\n",
       "      <td>NaN</td>\n",
       "      <td>4</td>\n",
       "      <td>NaN</td>\n",
       "      <td>NaN</td>\n",
       "      <td>NaN</td>\n",
       "      <td>1669</td>\n",
       "      <td>NaN</td>\n",
       "      <td>NaN</td>\n",
       "      <td>NaN</td>\n",
       "      <td>NaN</td>\n",
       "    </tr>\n",
       "    <tr>\n",
       "      <th>top</th>\n",
       "      <td>NaN</td>\n",
       "      <td>New!  La Chada Night Market studio 2PPL near MRT</td>\n",
       "      <td>NaN</td>\n",
       "      <td>Curry</td>\n",
       "      <td>Vadhana</td>\n",
       "      <td>NaN</td>\n",
       "      <td>NaN</td>\n",
       "      <td>Entire home/apt</td>\n",
       "      <td>NaN</td>\n",
       "      <td>NaN</td>\n",
       "      <td>NaN</td>\n",
       "      <td>2022-12-11</td>\n",
       "      <td>NaN</td>\n",
       "      <td>NaN</td>\n",
       "      <td>NaN</td>\n",
       "      <td>NaN</td>\n",
       "    </tr>\n",
       "    <tr>\n",
       "      <th>freq</th>\n",
       "      <td>NaN</td>\n",
       "      <td>45</td>\n",
       "      <td>NaN</td>\n",
       "      <td>228</td>\n",
       "      <td>2153</td>\n",
       "      <td>NaN</td>\n",
       "      <td>NaN</td>\n",
       "      <td>8912</td>\n",
       "      <td>NaN</td>\n",
       "      <td>NaN</td>\n",
       "      <td>NaN</td>\n",
       "      <td>189</td>\n",
       "      <td>NaN</td>\n",
       "      <td>NaN</td>\n",
       "      <td>NaN</td>\n",
       "      <td>NaN</td>\n",
       "    </tr>\n",
       "    <tr>\n",
       "      <th>mean</th>\n",
       "      <td>1.579397e+17</td>\n",
       "      <td>NaN</td>\n",
       "      <td>1.541058e+08</td>\n",
       "      <td>NaN</td>\n",
       "      <td>NaN</td>\n",
       "      <td>13.745144</td>\n",
       "      <td>100.559903</td>\n",
       "      <td>NaN</td>\n",
       "      <td>3.217704e+03</td>\n",
       "      <td>15.292355</td>\n",
       "      <td>16.654157</td>\n",
       "      <td>NaN</td>\n",
       "      <td>0.813145</td>\n",
       "      <td>13.889618</td>\n",
       "      <td>244.378643</td>\n",
       "      <td>3.481519</td>\n",
       "    </tr>\n",
       "    <tr>\n",
       "      <th>std</th>\n",
       "      <td>2.946015e+17</td>\n",
       "      <td>NaN</td>\n",
       "      <td>1.318726e+08</td>\n",
       "      <td>NaN</td>\n",
       "      <td>NaN</td>\n",
       "      <td>0.043040</td>\n",
       "      <td>0.050911</td>\n",
       "      <td>NaN</td>\n",
       "      <td>2.497212e+04</td>\n",
       "      <td>50.815020</td>\n",
       "      <td>40.613331</td>\n",
       "      <td>NaN</td>\n",
       "      <td>1.090196</td>\n",
       "      <td>30.269848</td>\n",
       "      <td>125.843224</td>\n",
       "      <td>8.916937</td>\n",
       "    </tr>\n",
       "    <tr>\n",
       "      <th>min</th>\n",
       "      <td>2.793400e+04</td>\n",
       "      <td>NaN</td>\n",
       "      <td>5.892000e+04</td>\n",
       "      <td>NaN</td>\n",
       "      <td>NaN</td>\n",
       "      <td>13.527300</td>\n",
       "      <td>100.329550</td>\n",
       "      <td>NaN</td>\n",
       "      <td>0.000000e+00</td>\n",
       "      <td>1.000000</td>\n",
       "      <td>0.000000</td>\n",
       "      <td>NaN</td>\n",
       "      <td>0.010000</td>\n",
       "      <td>1.000000</td>\n",
       "      <td>0.000000</td>\n",
       "      <td>0.000000</td>\n",
       "    </tr>\n",
       "    <tr>\n",
       "      <th>25%</th>\n",
       "      <td>2.104509e+07</td>\n",
       "      <td>NaN</td>\n",
       "      <td>3.974431e+07</td>\n",
       "      <td>NaN</td>\n",
       "      <td>NaN</td>\n",
       "      <td>13.720090</td>\n",
       "      <td>100.529690</td>\n",
       "      <td>NaN</td>\n",
       "      <td>9.000000e+02</td>\n",
       "      <td>1.000000</td>\n",
       "      <td>0.000000</td>\n",
       "      <td>NaN</td>\n",
       "      <td>0.120000</td>\n",
       "      <td>1.000000</td>\n",
       "      <td>138.000000</td>\n",
       "      <td>0.000000</td>\n",
       "    </tr>\n",
       "    <tr>\n",
       "      <th>50%</th>\n",
       "      <td>3.503734e+07</td>\n",
       "      <td>NaN</td>\n",
       "      <td>1.224556e+08</td>\n",
       "      <td>NaN</td>\n",
       "      <td>NaN</td>\n",
       "      <td>13.738490</td>\n",
       "      <td>100.561415</td>\n",
       "      <td>NaN</td>\n",
       "      <td>1.429000e+03</td>\n",
       "      <td>1.000000</td>\n",
       "      <td>2.000000</td>\n",
       "      <td>NaN</td>\n",
       "      <td>0.435000</td>\n",
       "      <td>4.000000</td>\n",
       "      <td>309.000000</td>\n",
       "      <td>0.000000</td>\n",
       "    </tr>\n",
       "    <tr>\n",
       "      <th>75%</th>\n",
       "      <td>5.256154e+07</td>\n",
       "      <td>NaN</td>\n",
       "      <td>2.390547e+08</td>\n",
       "      <td>NaN</td>\n",
       "      <td>NaN</td>\n",
       "      <td>13.759497</td>\n",
       "      <td>100.585150</td>\n",
       "      <td>NaN</td>\n",
       "      <td>2.429000e+03</td>\n",
       "      <td>7.000000</td>\n",
       "      <td>13.000000</td>\n",
       "      <td>NaN</td>\n",
       "      <td>1.060000</td>\n",
       "      <td>13.000000</td>\n",
       "      <td>360.000000</td>\n",
       "      <td>3.000000</td>\n",
       "    </tr>\n",
       "    <tr>\n",
       "      <th>max</th>\n",
       "      <td>7.908162e+17</td>\n",
       "      <td>NaN</td>\n",
       "      <td>4.926659e+08</td>\n",
       "      <td>NaN</td>\n",
       "      <td>NaN</td>\n",
       "      <td>13.953540</td>\n",
       "      <td>100.923440</td>\n",
       "      <td>NaN</td>\n",
       "      <td>1.100000e+06</td>\n",
       "      <td>1125.000000</td>\n",
       "      <td>1224.000000</td>\n",
       "      <td>NaN</td>\n",
       "      <td>19.130000</td>\n",
       "      <td>228.000000</td>\n",
       "      <td>365.000000</td>\n",
       "      <td>325.000000</td>\n",
       "    </tr>\n",
       "  </tbody>\n",
       "</table>\n",
       "</div>"
      ],
      "text/plain": [
       "                  id                                              name  \\\n",
       "count   1.585400e+04                                             15846   \n",
       "unique           NaN                                             14794   \n",
       "top              NaN  New!  La Chada Night Market studio 2PPL near MRT   \n",
       "freq             NaN                                                45   \n",
       "mean    1.579397e+17                                               NaN   \n",
       "std     2.946015e+17                                               NaN   \n",
       "min     2.793400e+04                                               NaN   \n",
       "25%     2.104509e+07                                               NaN   \n",
       "50%     3.503734e+07                                               NaN   \n",
       "75%     5.256154e+07                                               NaN   \n",
       "max     7.908162e+17                                               NaN   \n",
       "\n",
       "             host_id host_name neighbourhood      latitude     longitude  \\\n",
       "count   1.585400e+04     15853         15854  15854.000000  15854.000000   \n",
       "unique           NaN      5312            50           NaN           NaN   \n",
       "top              NaN     Curry       Vadhana           NaN           NaN   \n",
       "freq             NaN       228          2153           NaN           NaN   \n",
       "mean    1.541058e+08       NaN           NaN     13.745144    100.559903   \n",
       "std     1.318726e+08       NaN           NaN      0.043040      0.050911   \n",
       "min     5.892000e+04       NaN           NaN     13.527300    100.329550   \n",
       "25%     3.974431e+07       NaN           NaN     13.720090    100.529690   \n",
       "50%     1.224556e+08       NaN           NaN     13.738490    100.561415   \n",
       "75%     2.390547e+08       NaN           NaN     13.759497    100.585150   \n",
       "max     4.926659e+08       NaN           NaN     13.953540    100.923440   \n",
       "\n",
       "              room_type         price  minimum_nights  number_of_reviews  \\\n",
       "count             15854  1.585400e+04    15854.000000       15854.000000   \n",
       "unique                4           NaN             NaN                NaN   \n",
       "top     Entire home/apt           NaN             NaN                NaN   \n",
       "freq               8912           NaN             NaN                NaN   \n",
       "mean                NaN  3.217704e+03       15.292355          16.654157   \n",
       "std                 NaN  2.497212e+04       50.815020          40.613331   \n",
       "min                 NaN  0.000000e+00        1.000000           0.000000   \n",
       "25%                 NaN  9.000000e+02        1.000000           0.000000   \n",
       "50%                 NaN  1.429000e+03        1.000000           2.000000   \n",
       "75%                 NaN  2.429000e+03        7.000000          13.000000   \n",
       "max                 NaN  1.100000e+06     1125.000000        1224.000000   \n",
       "\n",
       "       last_review  reviews_per_month  calculated_host_listings_count  \\\n",
       "count        10064       10064.000000                    15854.000000   \n",
       "unique        1669                NaN                             NaN   \n",
       "top     2022-12-11                NaN                             NaN   \n",
       "freq           189                NaN                             NaN   \n",
       "mean           NaN           0.813145                       13.889618   \n",
       "std            NaN           1.090196                       30.269848   \n",
       "min            NaN           0.010000                        1.000000   \n",
       "25%            NaN           0.120000                        1.000000   \n",
       "50%            NaN           0.435000                        4.000000   \n",
       "75%            NaN           1.060000                       13.000000   \n",
       "max            NaN          19.130000                      228.000000   \n",
       "\n",
       "        availability_365  number_of_reviews_ltm  \n",
       "count       15854.000000           15854.000000  \n",
       "unique               NaN                    NaN  \n",
       "top                  NaN                    NaN  \n",
       "freq                 NaN                    NaN  \n",
       "mean          244.378643               3.481519  \n",
       "std           125.843224               8.916937  \n",
       "min             0.000000               0.000000  \n",
       "25%           138.000000               0.000000  \n",
       "50%           309.000000               0.000000  \n",
       "75%           360.000000               3.000000  \n",
       "max           365.000000             325.000000  "
      ]
     },
     "execution_count": 9,
     "metadata": {},
     "output_type": "execute_result"
    }
   ],
   "source": [
    "df1.describe(include='all')"
   ]
  },
  {
   "cell_type": "code",
   "execution_count": 10,
   "id": "aa50e5a7",
   "metadata": {},
   "outputs": [
    {
     "data": {
      "text/plain": [
       "(15854, 16)"
      ]
     },
     "execution_count": 10,
     "metadata": {},
     "output_type": "execute_result"
    }
   ],
   "source": [
    "df1.shape"
   ]
  },
  {
   "cell_type": "code",
   "execution_count": 16,
   "id": "379e9524",
   "metadata": {},
   "outputs": [
    {
     "data": {
      "text/plain": [
       "array([   3,    1,   60,    7,  250,    2,   15,   30,   28,   21,   27,\n",
       "          4,  180,   90,    5,  358, 1125,   29,   14,  200,  365,  120,\n",
       "          9,   12,  300,  360,  100,   10,   45,   23,    6,   84,  370,\n",
       "         24,   31,   50,   19,   20,   75,    8,   25,   40,   26,   59,\n",
       "         58,  170,  399,  998,   13,   22,  356,   16,  183,  700,  150,\n",
       "         35,  355,  500,   89,   80,   18,   11,   85,  135,  198,   88,\n",
       "        160,  109,  148,   51, 1115,  113,   62,  450,  270,   55,  208,\n",
       "       1000,   17,  999,  400,   99, 1095,   39,  190,  364])"
      ]
     },
     "execution_count": 16,
     "metadata": {},
     "output_type": "execute_result"
    }
   ],
   "source": [
    "df1['minimum_nights'].unique()"
   ]
  },
  {
   "cell_type": "code",
   "execution_count": 17,
   "id": "f08fdca5",
   "metadata": {},
   "outputs": [
    {
     "data": {
      "text/html": [
       "<div>\n",
       "<style scoped>\n",
       "    .dataframe tbody tr th:only-of-type {\n",
       "        vertical-align: middle;\n",
       "    }\n",
       "\n",
       "    .dataframe tbody tr th {\n",
       "        vertical-align: top;\n",
       "    }\n",
       "\n",
       "    .dataframe thead th {\n",
       "        text-align: right;\n",
       "    }\n",
       "</style>\n",
       "<table border=\"1\" class=\"dataframe\">\n",
       "  <thead>\n",
       "    <tr style=\"text-align: right;\">\n",
       "      <th></th>\n",
       "      <th>id</th>\n",
       "      <th>name</th>\n",
       "      <th>host_id</th>\n",
       "      <th>host_name</th>\n",
       "      <th>neighbourhood</th>\n",
       "      <th>latitude</th>\n",
       "      <th>longitude</th>\n",
       "      <th>room_type</th>\n",
       "      <th>price</th>\n",
       "      <th>minimum_nights</th>\n",
       "      <th>number_of_reviews</th>\n",
       "      <th>last_review</th>\n",
       "      <th>reviews_per_month</th>\n",
       "      <th>calculated_host_listings_count</th>\n",
       "      <th>availability_365</th>\n",
       "      <th>number_of_reviews_ltm</th>\n",
       "      <th>year_last_review</th>\n",
       "    </tr>\n",
       "  </thead>\n",
       "  <tbody>\n",
       "    <tr>\n",
       "      <th>61</th>\n",
       "      <td>1041976</td>\n",
       "      <td>Long-stay special rate spacious entire floor Siam</td>\n",
       "      <td>5735895</td>\n",
       "      <td>Pariya</td>\n",
       "      <td>Parthum Wan</td>\n",
       "      <td>13.74814</td>\n",
       "      <td>100.52016</td>\n",
       "      <td>Entire home/apt</td>\n",
       "      <td>2900</td>\n",
       "      <td>1125</td>\n",
       "      <td>295</td>\n",
       "      <td>2021-08-21</td>\n",
       "      <td>2.61</td>\n",
       "      <td>3</td>\n",
       "      <td>0</td>\n",
       "      <td>0</td>\n",
       "      <td>2021</td>\n",
       "    </tr>\n",
       "    <tr>\n",
       "      <th>324</th>\n",
       "      <td>2489610</td>\n",
       "      <td>NEW 65Sqm 2BD 2BR Sukhumvit26 Emquartier Emporium</td>\n",
       "      <td>12743033</td>\n",
       "      <td>Thanan</td>\n",
       "      <td>Khlong Toei</td>\n",
       "      <td>13.72699</td>\n",
       "      <td>100.56988</td>\n",
       "      <td>Entire home/apt</td>\n",
       "      <td>2043</td>\n",
       "      <td>370</td>\n",
       "      <td>23</td>\n",
       "      <td>2017-10-21</td>\n",
       "      <td>0.23</td>\n",
       "      <td>2</td>\n",
       "      <td>365</td>\n",
       "      <td>0</td>\n",
       "      <td>2017</td>\n",
       "    </tr>\n",
       "    <tr>\n",
       "      <th>1134</th>\n",
       "      <td>7625178</td>\n",
       "      <td>วิวล่า สิขลา</td>\n",
       "      <td>39999413</td>\n",
       "      <td>อัครพล</td>\n",
       "      <td>Vadhana</td>\n",
       "      <td>13.74159</td>\n",
       "      <td>100.57977</td>\n",
       "      <td>Private room</td>\n",
       "      <td>65000</td>\n",
       "      <td>399</td>\n",
       "      <td>0</td>\n",
       "      <td>0</td>\n",
       "      <td>NaN</td>\n",
       "      <td>1</td>\n",
       "      <td>365</td>\n",
       "      <td>0</td>\n",
       "      <td>0</td>\n",
       "    </tr>\n",
       "    <tr>\n",
       "      <th>1200</th>\n",
       "      <td>8801560</td>\n",
       "      <td>30th floor, 10 min to BTS, Seaview</td>\n",
       "      <td>4517723</td>\n",
       "      <td>Kannicha</td>\n",
       "      <td>Bang Na</td>\n",
       "      <td>13.66417</td>\n",
       "      <td>100.64955</td>\n",
       "      <td>Entire home/apt</td>\n",
       "      <td>35000</td>\n",
       "      <td>998</td>\n",
       "      <td>20</td>\n",
       "      <td>2022-10-30</td>\n",
       "      <td>0.26</td>\n",
       "      <td>7</td>\n",
       "      <td>365</td>\n",
       "      <td>5</td>\n",
       "      <td>2022</td>\n",
       "    </tr>\n",
       "    <tr>\n",
       "      <th>1592</th>\n",
       "      <td>10709131</td>\n",
       "      <td>34Fl 2, M Ladprao Condo,MRT &amp; Malls</td>\n",
       "      <td>32398198</td>\n",
       "      <td>Touchapon</td>\n",
       "      <td>Chatu Chak</td>\n",
       "      <td>13.81699</td>\n",
       "      <td>100.56292</td>\n",
       "      <td>Entire home/apt</td>\n",
       "      <td>760</td>\n",
       "      <td>700</td>\n",
       "      <td>61</td>\n",
       "      <td>2019-08-25</td>\n",
       "      <td>0.73</td>\n",
       "      <td>2</td>\n",
       "      <td>364</td>\n",
       "      <td>0</td>\n",
       "      <td>2019</td>\n",
       "    </tr>\n",
       "    <tr>\n",
       "      <th>1833</th>\n",
       "      <td>12046101</td>\n",
       "      <td>Near BTS Onnut Convenience house</td>\n",
       "      <td>22676472</td>\n",
       "      <td>Kuan</td>\n",
       "      <td>Suanluang</td>\n",
       "      <td>13.71161</td>\n",
       "      <td>100.60344</td>\n",
       "      <td>Entire home/apt</td>\n",
       "      <td>1300</td>\n",
       "      <td>500</td>\n",
       "      <td>2</td>\n",
       "      <td>2016-07-30</td>\n",
       "      <td>0.02</td>\n",
       "      <td>3</td>\n",
       "      <td>363</td>\n",
       "      <td>0</td>\n",
       "      <td>2016</td>\n",
       "    </tr>\n",
       "    <tr>\n",
       "      <th>3694</th>\n",
       "      <td>19893829</td>\n",
       "      <td>2 Bedroom Suite@Kirthana Residence</td>\n",
       "      <td>64131143</td>\n",
       "      <td>Chetna</td>\n",
       "      <td>Vadhana</td>\n",
       "      <td>13.73917</td>\n",
       "      <td>100.56616</td>\n",
       "      <td>Entire home/apt</td>\n",
       "      <td>7286</td>\n",
       "      <td>500</td>\n",
       "      <td>0</td>\n",
       "      <td>0</td>\n",
       "      <td>NaN</td>\n",
       "      <td>3</td>\n",
       "      <td>48</td>\n",
       "      <td>0</td>\n",
       "      <td>0</td>\n",
       "    </tr>\n",
       "    <tr>\n",
       "      <th>4194</th>\n",
       "      <td>22059876</td>\n",
       "      <td>C</td>\n",
       "      <td>160989331</td>\n",
       "      <td>Annchalee</td>\n",
       "      <td>Thon buri</td>\n",
       "      <td>13.71693</td>\n",
       "      <td>100.48330</td>\n",
       "      <td>Private room</td>\n",
       "      <td>161516</td>\n",
       "      <td>500</td>\n",
       "      <td>3</td>\n",
       "      <td>2018-07-31</td>\n",
       "      <td>0.05</td>\n",
       "      <td>1</td>\n",
       "      <td>0</td>\n",
       "      <td>0</td>\n",
       "      <td>2018</td>\n",
       "    </tr>\n",
       "    <tr>\n",
       "      <th>7986</th>\n",
       "      <td>35165443</td>\n",
       "      <td>Wonderful apartment for you holiday in Thai</td>\n",
       "      <td>86991723</td>\n",
       "      <td>Yang</td>\n",
       "      <td>Bang Na</td>\n",
       "      <td>13.67260</td>\n",
       "      <td>100.60352</td>\n",
       "      <td>Entire home/apt</td>\n",
       "      <td>2000</td>\n",
       "      <td>1115</td>\n",
       "      <td>0</td>\n",
       "      <td>0</td>\n",
       "      <td>NaN</td>\n",
       "      <td>2</td>\n",
       "      <td>358</td>\n",
       "      <td>0</td>\n",
       "      <td>0</td>\n",
       "    </tr>\n",
       "    <tr>\n",
       "      <th>8608</th>\n",
       "      <td>37270784</td>\n",
       "      <td>นพกรณ์ แมนชั่น Noppakorn Mansion</td>\n",
       "      <td>271222372</td>\n",
       "      <td>Noppakorn</td>\n",
       "      <td>Lat Phrao</td>\n",
       "      <td>13.81852</td>\n",
       "      <td>100.59248</td>\n",
       "      <td>Entire home/apt</td>\n",
       "      <td>450</td>\n",
       "      <td>450</td>\n",
       "      <td>0</td>\n",
       "      <td>0</td>\n",
       "      <td>NaN</td>\n",
       "      <td>1</td>\n",
       "      <td>364</td>\n",
       "      <td>0</td>\n",
       "      <td>0</td>\n",
       "    </tr>\n",
       "    <tr>\n",
       "      <th>10153</th>\n",
       "      <td>41623113</td>\n",
       "      <td>blossom condo舒适双床房摩天轮夜市周边免费泳池健身房@Sathon surasa...</td>\n",
       "      <td>162537040</td>\n",
       "      <td>Songnya</td>\n",
       "      <td>Sathon</td>\n",
       "      <td>13.71195</td>\n",
       "      <td>100.52055</td>\n",
       "      <td>Entire home/apt</td>\n",
       "      <td>650</td>\n",
       "      <td>1000</td>\n",
       "      <td>2</td>\n",
       "      <td>2020-03-08</td>\n",
       "      <td>0.06</td>\n",
       "      <td>13</td>\n",
       "      <td>179</td>\n",
       "      <td>0</td>\n",
       "      <td>2020</td>\n",
       "    </tr>\n",
       "    <tr>\n",
       "      <th>10644</th>\n",
       "      <td>42685153</td>\n",
       "      <td>The Prime Sukhumvit 11 - Room 29/150</td>\n",
       "      <td>337709866</td>\n",
       "      <td>Vatiaz</td>\n",
       "      <td>Vadhana</td>\n",
       "      <td>13.74426</td>\n",
       "      <td>100.55758</td>\n",
       "      <td>Private room</td>\n",
       "      <td>15143</td>\n",
       "      <td>999</td>\n",
       "      <td>0</td>\n",
       "      <td>0</td>\n",
       "      <td>NaN</td>\n",
       "      <td>1</td>\n",
       "      <td>89</td>\n",
       "      <td>0</td>\n",
       "      <td>0</td>\n",
       "    </tr>\n",
       "    <tr>\n",
       "      <th>11243</th>\n",
       "      <td>45051929</td>\n",
       "      <td>Bellevue Boutique Bangkok | Airport Link HUA-MAK</td>\n",
       "      <td>165329146</td>\n",
       "      <td>Sataporn</td>\n",
       "      <td>Suanluang</td>\n",
       "      <td>13.73633</td>\n",
       "      <td>100.63836</td>\n",
       "      <td>Private room</td>\n",
       "      <td>1314</td>\n",
       "      <td>999</td>\n",
       "      <td>0</td>\n",
       "      <td>0</td>\n",
       "      <td>NaN</td>\n",
       "      <td>2</td>\n",
       "      <td>181</td>\n",
       "      <td>0</td>\n",
       "      <td>0</td>\n",
       "    </tr>\n",
       "    <tr>\n",
       "      <th>11416</th>\n",
       "      <td>48046291</td>\n",
       "      <td>โฮมสเตย์บ้านมิตรภาพ</td>\n",
       "      <td>387329237</td>\n",
       "      <td>ไตรทศ</td>\n",
       "      <td>Dusit</td>\n",
       "      <td>13.78270</td>\n",
       "      <td>100.51733</td>\n",
       "      <td>Private room</td>\n",
       "      <td>400</td>\n",
       "      <td>400</td>\n",
       "      <td>0</td>\n",
       "      <td>0</td>\n",
       "      <td>NaN</td>\n",
       "      <td>1</td>\n",
       "      <td>365</td>\n",
       "      <td>0</td>\n",
       "      <td>0</td>\n",
       "    </tr>\n",
       "    <tr>\n",
       "      <th>11524</th>\n",
       "      <td>49032568</td>\n",
       "      <td>Freehold  Condo near Bangsue Grand Station</td>\n",
       "      <td>4661237</td>\n",
       "      <td>Chayanid</td>\n",
       "      <td>Bang Sue</td>\n",
       "      <td>13.80697</td>\n",
       "      <td>100.52362</td>\n",
       "      <td>Entire home/apt</td>\n",
       "      <td>554</td>\n",
       "      <td>1095</td>\n",
       "      <td>0</td>\n",
       "      <td>0</td>\n",
       "      <td>NaN</td>\n",
       "      <td>1</td>\n",
       "      <td>358</td>\n",
       "      <td>0</td>\n",
       "      <td>0</td>\n",
       "    </tr>\n",
       "  </tbody>\n",
       "</table>\n",
       "</div>"
      ],
      "text/plain": [
       "             id                                               name    host_id  \\\n",
       "61      1041976  Long-stay special rate spacious entire floor Siam    5735895   \n",
       "324     2489610  NEW 65Sqm 2BD 2BR Sukhumvit26 Emquartier Emporium   12743033   \n",
       "1134    7625178                                       วิวล่า สิขลา   39999413   \n",
       "1200    8801560                 30th floor, 10 min to BTS, Seaview    4517723   \n",
       "1592   10709131                34Fl 2, M Ladprao Condo,MRT & Malls   32398198   \n",
       "1833   12046101                   Near BTS Onnut Convenience house   22676472   \n",
       "3694   19893829                 2 Bedroom Suite@Kirthana Residence   64131143   \n",
       "4194   22059876                                                  C  160989331   \n",
       "7986   35165443        Wonderful apartment for you holiday in Thai   86991723   \n",
       "8608   37270784                   นพกรณ์ แมนชั่น Noppakorn Mansion  271222372   \n",
       "10153  41623113  blossom condo舒适双床房摩天轮夜市周边免费泳池健身房@Sathon surasa...  162537040   \n",
       "10644  42685153               The Prime Sukhumvit 11 - Room 29/150  337709866   \n",
       "11243  45051929   Bellevue Boutique Bangkok | Airport Link HUA-MAK  165329146   \n",
       "11416  48046291                                โฮมสเตย์บ้านมิตรภาพ  387329237   \n",
       "11524  49032568         Freehold  Condo near Bangsue Grand Station    4661237   \n",
       "\n",
       "       host_name neighbourhood  latitude  longitude        room_type   price  \\\n",
       "61        Pariya   Parthum Wan  13.74814  100.52016  Entire home/apt    2900   \n",
       "324       Thanan   Khlong Toei  13.72699  100.56988  Entire home/apt    2043   \n",
       "1134      อัครพล       Vadhana  13.74159  100.57977     Private room   65000   \n",
       "1200    Kannicha       Bang Na  13.66417  100.64955  Entire home/apt   35000   \n",
       "1592   Touchapon    Chatu Chak  13.81699  100.56292  Entire home/apt     760   \n",
       "1833        Kuan     Suanluang  13.71161  100.60344  Entire home/apt    1300   \n",
       "3694      Chetna       Vadhana  13.73917  100.56616  Entire home/apt    7286   \n",
       "4194   Annchalee     Thon buri  13.71693  100.48330     Private room  161516   \n",
       "7986        Yang       Bang Na  13.67260  100.60352  Entire home/apt    2000   \n",
       "8608   Noppakorn     Lat Phrao  13.81852  100.59248  Entire home/apt     450   \n",
       "10153    Songnya        Sathon  13.71195  100.52055  Entire home/apt     650   \n",
       "10644     Vatiaz       Vadhana  13.74426  100.55758     Private room   15143   \n",
       "11243   Sataporn     Suanluang  13.73633  100.63836     Private room    1314   \n",
       "11416      ไตรทศ         Dusit  13.78270  100.51733     Private room     400   \n",
       "11524   Chayanid      Bang Sue  13.80697  100.52362  Entire home/apt     554   \n",
       "\n",
       "       minimum_nights  number_of_reviews last_review  reviews_per_month  \\\n",
       "61               1125                295  2021-08-21               2.61   \n",
       "324               370                 23  2017-10-21               0.23   \n",
       "1134              399                  0           0                NaN   \n",
       "1200              998                 20  2022-10-30               0.26   \n",
       "1592              700                 61  2019-08-25               0.73   \n",
       "1833              500                  2  2016-07-30               0.02   \n",
       "3694              500                  0           0                NaN   \n",
       "4194              500                  3  2018-07-31               0.05   \n",
       "7986             1115                  0           0                NaN   \n",
       "8608              450                  0           0                NaN   \n",
       "10153            1000                  2  2020-03-08               0.06   \n",
       "10644             999                  0           0                NaN   \n",
       "11243             999                  0           0                NaN   \n",
       "11416             400                  0           0                NaN   \n",
       "11524            1095                  0           0                NaN   \n",
       "\n",
       "       calculated_host_listings_count  availability_365  \\\n",
       "61                                  3                 0   \n",
       "324                                 2               365   \n",
       "1134                                1               365   \n",
       "1200                                7               365   \n",
       "1592                                2               364   \n",
       "1833                                3               363   \n",
       "3694                                3                48   \n",
       "4194                                1                 0   \n",
       "7986                                2               358   \n",
       "8608                                1               364   \n",
       "10153                              13               179   \n",
       "10644                               1                89   \n",
       "11243                               2               181   \n",
       "11416                               1               365   \n",
       "11524                               1               358   \n",
       "\n",
       "       number_of_reviews_ltm  year_last_review  \n",
       "61                         0              2021  \n",
       "324                        0              2017  \n",
       "1134                       0                 0  \n",
       "1200                       5              2022  \n",
       "1592                       0              2019  \n",
       "1833                       0              2016  \n",
       "3694                       0                 0  \n",
       "4194                       0              2018  \n",
       "7986                       0                 0  \n",
       "8608                       0                 0  \n",
       "10153                      0              2020  \n",
       "10644                      0                 0  \n",
       "11243                      0                 0  \n",
       "11416                      0                 0  \n",
       "11524                      0                 0  "
      ]
     },
     "execution_count": 17,
     "metadata": {},
     "output_type": "execute_result"
    }
   ],
   "source": [
    "df1[df1['minimum_nights']> 365]"
   ]
  },
  {
   "cell_type": "markdown",
   "id": "6c872add",
   "metadata": {},
   "source": [
    "Ada data listing yang memiliki minimum night untuk di sewa lebih dari 365 tahun, karena tidak terlalu banyak mungkin dapat di sesuaikan dengan mengkategorikannya supaya lebih masuk akal"
   ]
  },
  {
   "cell_type": "markdown",
   "id": "05229552",
   "metadata": {},
   "source": [
    "### Drop last_review & reviews_per_month column with checkpoint"
   ]
  },
  {
   "cell_type": "code",
   "execution_count": 18,
   "id": "38d45c1e",
   "metadata": {},
   "outputs": [],
   "source": [
    "df1d = df1.copy()"
   ]
  },
  {
   "cell_type": "code",
   "execution_count": 19,
   "id": "b764d6aa",
   "metadata": {},
   "outputs": [],
   "source": [
    "df1d = df1d.drop(columns=['reviews_per_month', 'last_review'])"
   ]
  },
  {
   "cell_type": "markdown",
   "id": "48a02b97",
   "metadata": {},
   "source": [
    "### Drop Duplicate"
   ]
  },
  {
   "cell_type": "code",
   "execution_count": 20,
   "id": "6566a79e",
   "metadata": {},
   "outputs": [
    {
     "data": {
      "text/plain": [
       "np.int64(0)"
      ]
     },
     "execution_count": 20,
     "metadata": {},
     "output_type": "execute_result"
    }
   ],
   "source": [
    "df1d.duplicated().sum()"
   ]
  },
  {
   "cell_type": "code",
   "execution_count": 21,
   "id": "bc41472e",
   "metadata": {},
   "outputs": [
    {
     "data": {
      "text/html": [
       "<div>\n",
       "<style scoped>\n",
       "    .dataframe tbody tr th:only-of-type {\n",
       "        vertical-align: middle;\n",
       "    }\n",
       "\n",
       "    .dataframe tbody tr th {\n",
       "        vertical-align: top;\n",
       "    }\n",
       "\n",
       "    .dataframe thead th {\n",
       "        text-align: right;\n",
       "    }\n",
       "</style>\n",
       "<table border=\"1\" class=\"dataframe\">\n",
       "  <thead>\n",
       "    <tr style=\"text-align: right;\">\n",
       "      <th></th>\n",
       "      <th>id</th>\n",
       "      <th>name</th>\n",
       "      <th>host_id</th>\n",
       "      <th>host_name</th>\n",
       "      <th>neighbourhood</th>\n",
       "      <th>latitude</th>\n",
       "      <th>longitude</th>\n",
       "      <th>room_type</th>\n",
       "      <th>price</th>\n",
       "      <th>minimum_nights</th>\n",
       "      <th>number_of_reviews</th>\n",
       "      <th>calculated_host_listings_count</th>\n",
       "      <th>availability_365</th>\n",
       "      <th>number_of_reviews_ltm</th>\n",
       "      <th>year_last_review</th>\n",
       "    </tr>\n",
       "  </thead>\n",
       "  <tbody>\n",
       "    <tr>\n",
       "      <th>0</th>\n",
       "      <td>27934</td>\n",
       "      <td>Nice room with superb city view</td>\n",
       "      <td>120437</td>\n",
       "      <td>Nuttee</td>\n",
       "      <td>Ratchathewi</td>\n",
       "      <td>13.759830</td>\n",
       "      <td>100.541340</td>\n",
       "      <td>Entire home/apt</td>\n",
       "      <td>1905</td>\n",
       "      <td>3</td>\n",
       "      <td>65</td>\n",
       "      <td>2</td>\n",
       "      <td>353</td>\n",
       "      <td>0</td>\n",
       "      <td>2020</td>\n",
       "    </tr>\n",
       "    <tr>\n",
       "      <th>1</th>\n",
       "      <td>27979</td>\n",
       "      <td>Easy going landlord,easy place</td>\n",
       "      <td>120541</td>\n",
       "      <td>Emy</td>\n",
       "      <td>Bang Na</td>\n",
       "      <td>13.668180</td>\n",
       "      <td>100.616740</td>\n",
       "      <td>Private room</td>\n",
       "      <td>1316</td>\n",
       "      <td>1</td>\n",
       "      <td>0</td>\n",
       "      <td>2</td>\n",
       "      <td>358</td>\n",
       "      <td>0</td>\n",
       "      <td>0</td>\n",
       "    </tr>\n",
       "    <tr>\n",
       "      <th>2</th>\n",
       "      <td>28745</td>\n",
       "      <td>modern-style apartment in Bangkok</td>\n",
       "      <td>123784</td>\n",
       "      <td>Familyroom</td>\n",
       "      <td>Bang Kapi</td>\n",
       "      <td>13.752320</td>\n",
       "      <td>100.624020</td>\n",
       "      <td>Private room</td>\n",
       "      <td>800</td>\n",
       "      <td>60</td>\n",
       "      <td>0</td>\n",
       "      <td>1</td>\n",
       "      <td>365</td>\n",
       "      <td>0</td>\n",
       "      <td>0</td>\n",
       "    </tr>\n",
       "    <tr>\n",
       "      <th>3</th>\n",
       "      <td>35780</td>\n",
       "      <td>Spacious one bedroom at The Kris Condo Bldg. 3</td>\n",
       "      <td>153730</td>\n",
       "      <td>Sirilak</td>\n",
       "      <td>Din Daeng</td>\n",
       "      <td>13.788230</td>\n",
       "      <td>100.572560</td>\n",
       "      <td>Private room</td>\n",
       "      <td>1286</td>\n",
       "      <td>7</td>\n",
       "      <td>2</td>\n",
       "      <td>1</td>\n",
       "      <td>323</td>\n",
       "      <td>1</td>\n",
       "      <td>2022</td>\n",
       "    </tr>\n",
       "    <tr>\n",
       "      <th>4</th>\n",
       "      <td>941865</td>\n",
       "      <td>Suite Room 3 at MetroPoint</td>\n",
       "      <td>610315</td>\n",
       "      <td>Kasem</td>\n",
       "      <td>Bang Kapi</td>\n",
       "      <td>13.768720</td>\n",
       "      <td>100.633380</td>\n",
       "      <td>Private room</td>\n",
       "      <td>1905</td>\n",
       "      <td>1</td>\n",
       "      <td>0</td>\n",
       "      <td>3</td>\n",
       "      <td>365</td>\n",
       "      <td>0</td>\n",
       "      <td>0</td>\n",
       "    </tr>\n",
       "    <tr>\n",
       "      <th>...</th>\n",
       "      <td>...</td>\n",
       "      <td>...</td>\n",
       "      <td>...</td>\n",
       "      <td>...</td>\n",
       "      <td>...</td>\n",
       "      <td>...</td>\n",
       "      <td>...</td>\n",
       "      <td>...</td>\n",
       "      <td>...</td>\n",
       "      <td>...</td>\n",
       "      <td>...</td>\n",
       "      <td>...</td>\n",
       "      <td>...</td>\n",
       "      <td>...</td>\n",
       "      <td>...</td>\n",
       "    </tr>\n",
       "    <tr>\n",
       "      <th>15849</th>\n",
       "      <td>790465040741092826</td>\n",
       "      <td>素坤逸核心两房公寓42楼，靠近BTSon nut/无边天际泳池观赏曼谷夜景/出门当地美食街</td>\n",
       "      <td>94899359</td>\n",
       "      <td>Renee</td>\n",
       "      <td>Pra Wet</td>\n",
       "      <td>13.715132</td>\n",
       "      <td>100.653458</td>\n",
       "      <td>Private room</td>\n",
       "      <td>2298</td>\n",
       "      <td>28</td>\n",
       "      <td>0</td>\n",
       "      <td>1</td>\n",
       "      <td>362</td>\n",
       "      <td>0</td>\n",
       "      <td>0</td>\n",
       "    </tr>\n",
       "    <tr>\n",
       "      <th>15850</th>\n",
       "      <td>790474503157243541</td>\n",
       "      <td>Euro LuxuryHotel PratunamMKt TripleBdNrShoping...</td>\n",
       "      <td>491526222</td>\n",
       "      <td>Phakhamon</td>\n",
       "      <td>Ratchathewi</td>\n",
       "      <td>13.753052</td>\n",
       "      <td>100.538738</td>\n",
       "      <td>Private room</td>\n",
       "      <td>1429</td>\n",
       "      <td>1</td>\n",
       "      <td>0</td>\n",
       "      <td>14</td>\n",
       "      <td>365</td>\n",
       "      <td>0</td>\n",
       "      <td>0</td>\n",
       "    </tr>\n",
       "    <tr>\n",
       "      <th>15851</th>\n",
       "      <td>790475335086864240</td>\n",
       "      <td>Euro LuxuryHotel PratunamMKt TwinBedNrShopingArea</td>\n",
       "      <td>491526222</td>\n",
       "      <td>Phakhamon</td>\n",
       "      <td>Ratchathewi</td>\n",
       "      <td>13.753169</td>\n",
       "      <td>100.538700</td>\n",
       "      <td>Private room</td>\n",
       "      <td>1214</td>\n",
       "      <td>1</td>\n",
       "      <td>0</td>\n",
       "      <td>14</td>\n",
       "      <td>365</td>\n",
       "      <td>0</td>\n",
       "      <td>0</td>\n",
       "    </tr>\n",
       "    <tr>\n",
       "      <th>15852</th>\n",
       "      <td>790475546213717328</td>\n",
       "      <td>Euro LuxuryHotel PratunamMKt TwinBedNrShopingArea</td>\n",
       "      <td>491526222</td>\n",
       "      <td>Phakhamon</td>\n",
       "      <td>Ratchathewi</td>\n",
       "      <td>13.754789</td>\n",
       "      <td>100.538757</td>\n",
       "      <td>Private room</td>\n",
       "      <td>1214</td>\n",
       "      <td>1</td>\n",
       "      <td>0</td>\n",
       "      <td>14</td>\n",
       "      <td>365</td>\n",
       "      <td>0</td>\n",
       "      <td>0</td>\n",
       "    </tr>\n",
       "    <tr>\n",
       "      <th>15853</th>\n",
       "      <td>790476492384199044</td>\n",
       "      <td>Euro LuxuryHotel PratunamMKt TwinBedNrShopingArea</td>\n",
       "      <td>491526222</td>\n",
       "      <td>Phakhamon</td>\n",
       "      <td>Ratchathewi</td>\n",
       "      <td>13.752960</td>\n",
       "      <td>100.540820</td>\n",
       "      <td>Private room</td>\n",
       "      <td>1214</td>\n",
       "      <td>1</td>\n",
       "      <td>0</td>\n",
       "      <td>14</td>\n",
       "      <td>365</td>\n",
       "      <td>0</td>\n",
       "      <td>0</td>\n",
       "    </tr>\n",
       "  </tbody>\n",
       "</table>\n",
       "<p>15854 rows × 15 columns</p>\n",
       "</div>"
      ],
      "text/plain": [
       "                       id                                               name  \\\n",
       "0                   27934                    Nice room with superb city view   \n",
       "1                   27979                     Easy going landlord,easy place   \n",
       "2                   28745                  modern-style apartment in Bangkok   \n",
       "3                   35780     Spacious one bedroom at The Kris Condo Bldg. 3   \n",
       "4                  941865                         Suite Room 3 at MetroPoint   \n",
       "...                   ...                                                ...   \n",
       "15849  790465040741092826      素坤逸核心两房公寓42楼，靠近BTSon nut/无边天际泳池观赏曼谷夜景/出门当地美食街   \n",
       "15850  790474503157243541  Euro LuxuryHotel PratunamMKt TripleBdNrShoping...   \n",
       "15851  790475335086864240  Euro LuxuryHotel PratunamMKt TwinBedNrShopingArea   \n",
       "15852  790475546213717328  Euro LuxuryHotel PratunamMKt TwinBedNrShopingArea   \n",
       "15853  790476492384199044  Euro LuxuryHotel PratunamMKt TwinBedNrShopingArea   \n",
       "\n",
       "         host_id   host_name neighbourhood   latitude   longitude  \\\n",
       "0         120437      Nuttee   Ratchathewi  13.759830  100.541340   \n",
       "1         120541         Emy       Bang Na  13.668180  100.616740   \n",
       "2         123784  Familyroom     Bang Kapi  13.752320  100.624020   \n",
       "3         153730     Sirilak     Din Daeng  13.788230  100.572560   \n",
       "4         610315       Kasem     Bang Kapi  13.768720  100.633380   \n",
       "...          ...         ...           ...        ...         ...   \n",
       "15849   94899359       Renee       Pra Wet  13.715132  100.653458   \n",
       "15850  491526222   Phakhamon   Ratchathewi  13.753052  100.538738   \n",
       "15851  491526222   Phakhamon   Ratchathewi  13.753169  100.538700   \n",
       "15852  491526222   Phakhamon   Ratchathewi  13.754789  100.538757   \n",
       "15853  491526222   Phakhamon   Ratchathewi  13.752960  100.540820   \n",
       "\n",
       "             room_type  price  minimum_nights  number_of_reviews  \\\n",
       "0      Entire home/apt   1905               3                 65   \n",
       "1         Private room   1316               1                  0   \n",
       "2         Private room    800              60                  0   \n",
       "3         Private room   1286               7                  2   \n",
       "4         Private room   1905               1                  0   \n",
       "...                ...    ...             ...                ...   \n",
       "15849     Private room   2298              28                  0   \n",
       "15850     Private room   1429               1                  0   \n",
       "15851     Private room   1214               1                  0   \n",
       "15852     Private room   1214               1                  0   \n",
       "15853     Private room   1214               1                  0   \n",
       "\n",
       "       calculated_host_listings_count  availability_365  \\\n",
       "0                                   2               353   \n",
       "1                                   2               358   \n",
       "2                                   1               365   \n",
       "3                                   1               323   \n",
       "4                                   3               365   \n",
       "...                               ...               ...   \n",
       "15849                               1               362   \n",
       "15850                              14               365   \n",
       "15851                              14               365   \n",
       "15852                              14               365   \n",
       "15853                              14               365   \n",
       "\n",
       "       number_of_reviews_ltm  year_last_review  \n",
       "0                          0              2020  \n",
       "1                          0                 0  \n",
       "2                          0                 0  \n",
       "3                          1              2022  \n",
       "4                          0                 0  \n",
       "...                      ...               ...  \n",
       "15849                      0                 0  \n",
       "15850                      0                 0  \n",
       "15851                      0                 0  \n",
       "15852                      0                 0  \n",
       "15853                      0                 0  \n",
       "\n",
       "[15854 rows x 15 columns]"
      ]
     },
     "execution_count": 21,
     "metadata": {},
     "output_type": "execute_result"
    }
   ],
   "source": [
    "df1d.drop_duplicates() # JUST To Make Sure"
   ]
  },
  {
   "cell_type": "code",
   "execution_count": 22,
   "id": "d0ba5655",
   "metadata": {},
   "outputs": [
    {
     "data": {
      "text/plain": [
       "np.int64(1059)"
      ]
     },
     "execution_count": 22,
     "metadata": {},
     "output_type": "execute_result"
    }
   ],
   "source": [
    "df1d['name'].duplicated().sum()"
   ]
  },
  {
   "cell_type": "markdown",
   "id": "62e0e759",
   "metadata": {},
   "source": [
    "same name still possible for agent or hotel company and same host_id is still also make sense "
   ]
  },
  {
   "cell_type": "code",
   "execution_count": 23,
   "id": "9046e823",
   "metadata": {},
   "outputs": [
    {
     "data": {
      "text/plain": [
       "np.int64(0)"
      ]
     },
     "execution_count": 23,
     "metadata": {},
     "output_type": "execute_result"
    }
   ],
   "source": [
    "df1d['id'].duplicated().sum()"
   ]
  },
  {
   "cell_type": "markdown",
   "id": "3b27a01c",
   "metadata": {},
   "source": [
    "wow no duplicate so far"
   ]
  },
  {
   "cell_type": "code",
   "execution_count": 24,
   "id": "68240361",
   "metadata": {},
   "outputs": [
    {
     "data": {
      "text/html": [
       "<div>\n",
       "<style scoped>\n",
       "    .dataframe tbody tr th:only-of-type {\n",
       "        vertical-align: middle;\n",
       "    }\n",
       "\n",
       "    .dataframe tbody tr th {\n",
       "        vertical-align: top;\n",
       "    }\n",
       "\n",
       "    .dataframe thead th {\n",
       "        text-align: right;\n",
       "    }\n",
       "</style>\n",
       "<table border=\"1\" class=\"dataframe\">\n",
       "  <thead>\n",
       "    <tr style=\"text-align: right;\">\n",
       "      <th></th>\n",
       "      <th>id</th>\n",
       "      <th>name</th>\n",
       "      <th>host_id</th>\n",
       "      <th>host_name</th>\n",
       "      <th>neighbourhood</th>\n",
       "      <th>latitude</th>\n",
       "      <th>longitude</th>\n",
       "      <th>room_type</th>\n",
       "      <th>price</th>\n",
       "      <th>minimum_nights</th>\n",
       "      <th>number_of_reviews</th>\n",
       "      <th>calculated_host_listings_count</th>\n",
       "      <th>availability_365</th>\n",
       "      <th>number_of_reviews_ltm</th>\n",
       "      <th>year_last_review</th>\n",
       "    </tr>\n",
       "  </thead>\n",
       "  <tbody>\n",
       "    <tr>\n",
       "      <th>11103</th>\n",
       "      <td>44563108</td>\n",
       "      <td>Somerset Maison Asoke Bangkok</td>\n",
       "      <td>360620448</td>\n",
       "      <td>Somerset Maison Asoke</td>\n",
       "      <td>Vadhana</td>\n",
       "      <td>13.738150</td>\n",
       "      <td>100.564200</td>\n",
       "      <td>Hotel room</td>\n",
       "      <td>0</td>\n",
       "      <td>1</td>\n",
       "      <td>0</td>\n",
       "      <td>1</td>\n",
       "      <td>0</td>\n",
       "      <td>0</td>\n",
       "      <td>0</td>\n",
       "    </tr>\n",
       "    <tr>\n",
       "      <th>15401</th>\n",
       "      <td>772815799000677300</td>\n",
       "      <td>Mixed Dorm 10 Bunkbed at Amazing khaosan Hostel 2</td>\n",
       "      <td>488818866</td>\n",
       "      <td>Thanet</td>\n",
       "      <td>Phra Nakhon</td>\n",
       "      <td>13.762439</td>\n",
       "      <td>100.503922</td>\n",
       "      <td>Shared room</td>\n",
       "      <td>280</td>\n",
       "      <td>1</td>\n",
       "      <td>0</td>\n",
       "      <td>12</td>\n",
       "      <td>356</td>\n",
       "      <td>0</td>\n",
       "      <td>0</td>\n",
       "    </tr>\n",
       "    <tr>\n",
       "      <th>15455</th>\n",
       "      <td>776042168224443103</td>\n",
       "      <td>1 Upper-Bunk Bed /w Shared Bath</td>\n",
       "      <td>219048748</td>\n",
       "      <td>Kay</td>\n",
       "      <td>Suanluang</td>\n",
       "      <td>13.712770</td>\n",
       "      <td>100.606230</td>\n",
       "      <td>Shared room</td>\n",
       "      <td>280</td>\n",
       "      <td>1</td>\n",
       "      <td>0</td>\n",
       "      <td>7</td>\n",
       "      <td>365</td>\n",
       "      <td>0</td>\n",
       "      <td>0</td>\n",
       "    </tr>\n",
       "    <tr>\n",
       "      <th>15456</th>\n",
       "      <td>776071884102373052</td>\n",
       "      <td>1 Lower-Bunk Bed /w Shared Bath</td>\n",
       "      <td>219048748</td>\n",
       "      <td>Kay</td>\n",
       "      <td>Suanluang</td>\n",
       "      <td>13.711320</td>\n",
       "      <td>100.605730</td>\n",
       "      <td>Shared room</td>\n",
       "      <td>280</td>\n",
       "      <td>1</td>\n",
       "      <td>0</td>\n",
       "      <td>7</td>\n",
       "      <td>365</td>\n",
       "      <td>0</td>\n",
       "      <td>0</td>\n",
       "    </tr>\n",
       "    <tr>\n",
       "      <th>15473</th>\n",
       "      <td>780103082979427963</td>\n",
       "      <td>Flourish Capsule Hostel</td>\n",
       "      <td>491129139</td>\n",
       "      <td>Chirapat</td>\n",
       "      <td>Bang Rak</td>\n",
       "      <td>13.732114</td>\n",
       "      <td>100.526675</td>\n",
       "      <td>Shared room</td>\n",
       "      <td>295</td>\n",
       "      <td>1</td>\n",
       "      <td>1</td>\n",
       "      <td>1</td>\n",
       "      <td>176</td>\n",
       "      <td>1</td>\n",
       "      <td>2022</td>\n",
       "    </tr>\n",
       "    <tr>\n",
       "      <th>15551</th>\n",
       "      <td>781516205530971982</td>\n",
       "      <td>Artist Private AirRoom 10min2SkytrainPetFriendly</td>\n",
       "      <td>11346360</td>\n",
       "      <td>Upside</td>\n",
       "      <td>Phasi Charoen</td>\n",
       "      <td>13.695918</td>\n",
       "      <td>100.432468</td>\n",
       "      <td>Private room</td>\n",
       "      <td>278</td>\n",
       "      <td>1</td>\n",
       "      <td>0</td>\n",
       "      <td>2</td>\n",
       "      <td>345</td>\n",
       "      <td>0</td>\n",
       "      <td>0</td>\n",
       "    </tr>\n",
       "  </tbody>\n",
       "</table>\n",
       "</div>"
      ],
      "text/plain": [
       "                       id                                               name  \\\n",
       "11103            44563108                      Somerset Maison Asoke Bangkok   \n",
       "15401  772815799000677300  Mixed Dorm 10 Bunkbed at Amazing khaosan Hostel 2   \n",
       "15455  776042168224443103                    1 Upper-Bunk Bed /w Shared Bath   \n",
       "15456  776071884102373052                    1 Lower-Bunk Bed /w Shared Bath   \n",
       "15473  780103082979427963                            Flourish Capsule Hostel   \n",
       "15551  781516205530971982   Artist Private AirRoom 10min2SkytrainPetFriendly   \n",
       "\n",
       "         host_id              host_name  neighbourhood   latitude   longitude  \\\n",
       "11103  360620448  Somerset Maison Asoke        Vadhana  13.738150  100.564200   \n",
       "15401  488818866                 Thanet    Phra Nakhon  13.762439  100.503922   \n",
       "15455  219048748                    Kay      Suanluang  13.712770  100.606230   \n",
       "15456  219048748                    Kay      Suanluang  13.711320  100.605730   \n",
       "15473  491129139               Chirapat       Bang Rak  13.732114  100.526675   \n",
       "15551   11346360                 Upside  Phasi Charoen  13.695918  100.432468   \n",
       "\n",
       "          room_type  price  minimum_nights  number_of_reviews  \\\n",
       "11103    Hotel room      0               1                  0   \n",
       "15401   Shared room    280               1                  0   \n",
       "15455   Shared room    280               1                  0   \n",
       "15456   Shared room    280               1                  0   \n",
       "15473   Shared room    295               1                  1   \n",
       "15551  Private room    278               1                  0   \n",
       "\n",
       "       calculated_host_listings_count  availability_365  \\\n",
       "11103                               1                 0   \n",
       "15401                              12               356   \n",
       "15455                               7               365   \n",
       "15456                               7               365   \n",
       "15473                               1               176   \n",
       "15551                               2               345   \n",
       "\n",
       "       number_of_reviews_ltm  year_last_review  \n",
       "11103                      0                 0  \n",
       "15401                      0                 0  \n",
       "15455                      0                 0  \n",
       "15456                      0                 0  \n",
       "15473                      1              2022  \n",
       "15551                      0                 0  "
      ]
     },
     "execution_count": 24,
     "metadata": {},
     "output_type": "execute_result"
    }
   ],
   "source": [
    "df1d[df1d['price']< 300]"
   ]
  },
  {
   "cell_type": "markdown",
   "id": "d505cd6b",
   "metadata": {},
   "source": [
    "this is anomaly that can be drop because there is no way people can get a hotel room free, but with price of 270 onward for shared room based on my research its make sense with lowest standard hostel"
   ]
  },
  {
   "cell_type": "code",
   "execution_count": 25,
   "id": "8264506d",
   "metadata": {},
   "outputs": [],
   "source": [
    "df1d = df1d[df1d['id'] != 44563108]"
   ]
  },
  {
   "cell_type": "markdown",
   "id": "272dc58c",
   "metadata": {},
   "source": [
    "because only 1 row specific"
   ]
  },
  {
   "cell_type": "code",
   "execution_count": 26,
   "id": "ee0edf28",
   "metadata": {},
   "outputs": [
    {
     "data": {
      "text/html": [
       "<div>\n",
       "<style scoped>\n",
       "    .dataframe tbody tr th:only-of-type {\n",
       "        vertical-align: middle;\n",
       "    }\n",
       "\n",
       "    .dataframe tbody tr th {\n",
       "        vertical-align: top;\n",
       "    }\n",
       "\n",
       "    .dataframe thead th {\n",
       "        text-align: right;\n",
       "    }\n",
       "</style>\n",
       "<table border=\"1\" class=\"dataframe\">\n",
       "  <thead>\n",
       "    <tr style=\"text-align: right;\">\n",
       "      <th></th>\n",
       "      <th>id</th>\n",
       "      <th>name</th>\n",
       "      <th>host_id</th>\n",
       "      <th>host_name</th>\n",
       "      <th>neighbourhood</th>\n",
       "      <th>latitude</th>\n",
       "      <th>longitude</th>\n",
       "      <th>room_type</th>\n",
       "      <th>price</th>\n",
       "      <th>minimum_nights</th>\n",
       "      <th>number_of_reviews</th>\n",
       "      <th>calculated_host_listings_count</th>\n",
       "      <th>availability_365</th>\n",
       "      <th>number_of_reviews_ltm</th>\n",
       "      <th>year_last_review</th>\n",
       "    </tr>\n",
       "  </thead>\n",
       "  <tbody>\n",
       "    <tr>\n",
       "      <th>15401</th>\n",
       "      <td>772815799000677300</td>\n",
       "      <td>Mixed Dorm 10 Bunkbed at Amazing khaosan Hostel 2</td>\n",
       "      <td>488818866</td>\n",
       "      <td>Thanet</td>\n",
       "      <td>Phra Nakhon</td>\n",
       "      <td>13.762439</td>\n",
       "      <td>100.503922</td>\n",
       "      <td>Shared room</td>\n",
       "      <td>280</td>\n",
       "      <td>1</td>\n",
       "      <td>0</td>\n",
       "      <td>12</td>\n",
       "      <td>356</td>\n",
       "      <td>0</td>\n",
       "      <td>0</td>\n",
       "    </tr>\n",
       "    <tr>\n",
       "      <th>15455</th>\n",
       "      <td>776042168224443103</td>\n",
       "      <td>1 Upper-Bunk Bed /w Shared Bath</td>\n",
       "      <td>219048748</td>\n",
       "      <td>Kay</td>\n",
       "      <td>Suanluang</td>\n",
       "      <td>13.712770</td>\n",
       "      <td>100.606230</td>\n",
       "      <td>Shared room</td>\n",
       "      <td>280</td>\n",
       "      <td>1</td>\n",
       "      <td>0</td>\n",
       "      <td>7</td>\n",
       "      <td>365</td>\n",
       "      <td>0</td>\n",
       "      <td>0</td>\n",
       "    </tr>\n",
       "    <tr>\n",
       "      <th>15456</th>\n",
       "      <td>776071884102373052</td>\n",
       "      <td>1 Lower-Bunk Bed /w Shared Bath</td>\n",
       "      <td>219048748</td>\n",
       "      <td>Kay</td>\n",
       "      <td>Suanluang</td>\n",
       "      <td>13.711320</td>\n",
       "      <td>100.605730</td>\n",
       "      <td>Shared room</td>\n",
       "      <td>280</td>\n",
       "      <td>1</td>\n",
       "      <td>0</td>\n",
       "      <td>7</td>\n",
       "      <td>365</td>\n",
       "      <td>0</td>\n",
       "      <td>0</td>\n",
       "    </tr>\n",
       "    <tr>\n",
       "      <th>15473</th>\n",
       "      <td>780103082979427963</td>\n",
       "      <td>Flourish Capsule Hostel</td>\n",
       "      <td>491129139</td>\n",
       "      <td>Chirapat</td>\n",
       "      <td>Bang Rak</td>\n",
       "      <td>13.732114</td>\n",
       "      <td>100.526675</td>\n",
       "      <td>Shared room</td>\n",
       "      <td>295</td>\n",
       "      <td>1</td>\n",
       "      <td>1</td>\n",
       "      <td>1</td>\n",
       "      <td>176</td>\n",
       "      <td>1</td>\n",
       "      <td>2022</td>\n",
       "    </tr>\n",
       "    <tr>\n",
       "      <th>15551</th>\n",
       "      <td>781516205530971982</td>\n",
       "      <td>Artist Private AirRoom 10min2SkytrainPetFriendly</td>\n",
       "      <td>11346360</td>\n",
       "      <td>Upside</td>\n",
       "      <td>Phasi Charoen</td>\n",
       "      <td>13.695918</td>\n",
       "      <td>100.432468</td>\n",
       "      <td>Private room</td>\n",
       "      <td>278</td>\n",
       "      <td>1</td>\n",
       "      <td>0</td>\n",
       "      <td>2</td>\n",
       "      <td>345</td>\n",
       "      <td>0</td>\n",
       "      <td>0</td>\n",
       "    </tr>\n",
       "  </tbody>\n",
       "</table>\n",
       "</div>"
      ],
      "text/plain": [
       "                       id                                               name  \\\n",
       "15401  772815799000677300  Mixed Dorm 10 Bunkbed at Amazing khaosan Hostel 2   \n",
       "15455  776042168224443103                    1 Upper-Bunk Bed /w Shared Bath   \n",
       "15456  776071884102373052                    1 Lower-Bunk Bed /w Shared Bath   \n",
       "15473  780103082979427963                            Flourish Capsule Hostel   \n",
       "15551  781516205530971982   Artist Private AirRoom 10min2SkytrainPetFriendly   \n",
       "\n",
       "         host_id host_name  neighbourhood   latitude   longitude  \\\n",
       "15401  488818866    Thanet    Phra Nakhon  13.762439  100.503922   \n",
       "15455  219048748       Kay      Suanluang  13.712770  100.606230   \n",
       "15456  219048748       Kay      Suanluang  13.711320  100.605730   \n",
       "15473  491129139  Chirapat       Bang Rak  13.732114  100.526675   \n",
       "15551   11346360    Upside  Phasi Charoen  13.695918  100.432468   \n",
       "\n",
       "          room_type  price  minimum_nights  number_of_reviews  \\\n",
       "15401   Shared room    280               1                  0   \n",
       "15455   Shared room    280               1                  0   \n",
       "15456   Shared room    280               1                  0   \n",
       "15473   Shared room    295               1                  1   \n",
       "15551  Private room    278               1                  0   \n",
       "\n",
       "       calculated_host_listings_count  availability_365  \\\n",
       "15401                              12               356   \n",
       "15455                               7               365   \n",
       "15456                               7               365   \n",
       "15473                               1               176   \n",
       "15551                               2               345   \n",
       "\n",
       "       number_of_reviews_ltm  year_last_review  \n",
       "15401                      0                 0  \n",
       "15455                      0                 0  \n",
       "15456                      0                 0  \n",
       "15473                      1              2022  \n",
       "15551                      0                 0  "
      ]
     },
     "execution_count": 26,
     "metadata": {},
     "output_type": "execute_result"
    }
   ],
   "source": [
    "df1d[df1d['price']< 300]"
   ]
  },
  {
   "cell_type": "code",
   "execution_count": 27,
   "id": "a6ee86ca",
   "metadata": {},
   "outputs": [
    {
     "data": {
      "text/html": [
       "<div>\n",
       "<style scoped>\n",
       "    .dataframe tbody tr th:only-of-type {\n",
       "        vertical-align: middle;\n",
       "    }\n",
       "\n",
       "    .dataframe tbody tr th {\n",
       "        vertical-align: top;\n",
       "    }\n",
       "\n",
       "    .dataframe thead th {\n",
       "        text-align: right;\n",
       "    }\n",
       "</style>\n",
       "<table border=\"1\" class=\"dataframe\">\n",
       "  <thead>\n",
       "    <tr style=\"text-align: right;\">\n",
       "      <th></th>\n",
       "      <th>id</th>\n",
       "      <th>name</th>\n",
       "      <th>host_id</th>\n",
       "      <th>host_name</th>\n",
       "      <th>neighbourhood</th>\n",
       "      <th>latitude</th>\n",
       "      <th>longitude</th>\n",
       "      <th>room_type</th>\n",
       "      <th>price</th>\n",
       "      <th>minimum_nights</th>\n",
       "      <th>number_of_reviews</th>\n",
       "      <th>calculated_host_listings_count</th>\n",
       "      <th>availability_365</th>\n",
       "      <th>number_of_reviews_ltm</th>\n",
       "      <th>year_last_review</th>\n",
       "    </tr>\n",
       "  </thead>\n",
       "  <tbody>\n",
       "    <tr>\n",
       "      <th>0</th>\n",
       "      <td>27934</td>\n",
       "      <td>Nice room with superb city view</td>\n",
       "      <td>120437</td>\n",
       "      <td>Nuttee</td>\n",
       "      <td>Ratchathewi</td>\n",
       "      <td>13.759830</td>\n",
       "      <td>100.541340</td>\n",
       "      <td>Entire home/apt</td>\n",
       "      <td>1905</td>\n",
       "      <td>3</td>\n",
       "      <td>65</td>\n",
       "      <td>2</td>\n",
       "      <td>353</td>\n",
       "      <td>0</td>\n",
       "      <td>2020</td>\n",
       "    </tr>\n",
       "    <tr>\n",
       "      <th>1</th>\n",
       "      <td>27979</td>\n",
       "      <td>Easy going landlord,easy place</td>\n",
       "      <td>120541</td>\n",
       "      <td>Emy</td>\n",
       "      <td>Bang Na</td>\n",
       "      <td>13.668180</td>\n",
       "      <td>100.616740</td>\n",
       "      <td>Private room</td>\n",
       "      <td>1316</td>\n",
       "      <td>1</td>\n",
       "      <td>0</td>\n",
       "      <td>2</td>\n",
       "      <td>358</td>\n",
       "      <td>0</td>\n",
       "      <td>0</td>\n",
       "    </tr>\n",
       "    <tr>\n",
       "      <th>3</th>\n",
       "      <td>35780</td>\n",
       "      <td>Spacious one bedroom at The Kris Condo Bldg. 3</td>\n",
       "      <td>153730</td>\n",
       "      <td>Sirilak</td>\n",
       "      <td>Din Daeng</td>\n",
       "      <td>13.788230</td>\n",
       "      <td>100.572560</td>\n",
       "      <td>Private room</td>\n",
       "      <td>1286</td>\n",
       "      <td>7</td>\n",
       "      <td>2</td>\n",
       "      <td>1</td>\n",
       "      <td>323</td>\n",
       "      <td>1</td>\n",
       "      <td>2022</td>\n",
       "    </tr>\n",
       "    <tr>\n",
       "      <th>9</th>\n",
       "      <td>952677</td>\n",
       "      <td>Standard Room Decor do Hostel</td>\n",
       "      <td>5171292</td>\n",
       "      <td>Somsak</td>\n",
       "      <td>Khlong San</td>\n",
       "      <td>13.720400</td>\n",
       "      <td>100.507570</td>\n",
       "      <td>Private room</td>\n",
       "      <td>700</td>\n",
       "      <td>2</td>\n",
       "      <td>4</td>\n",
       "      <td>10</td>\n",
       "      <td>87</td>\n",
       "      <td>0</td>\n",
       "      <td>2019</td>\n",
       "    </tr>\n",
       "    <tr>\n",
       "      <th>10</th>\n",
       "      <td>55681</td>\n",
       "      <td>Sathorn Terrace Apartment(61)</td>\n",
       "      <td>263049</td>\n",
       "      <td>Tor</td>\n",
       "      <td>Bang Rak</td>\n",
       "      <td>13.719340</td>\n",
       "      <td>100.517600</td>\n",
       "      <td>Private room</td>\n",
       "      <td>1150</td>\n",
       "      <td>2</td>\n",
       "      <td>27</td>\n",
       "      <td>7</td>\n",
       "      <td>320</td>\n",
       "      <td>0</td>\n",
       "      <td>2019</td>\n",
       "    </tr>\n",
       "    <tr>\n",
       "      <th>...</th>\n",
       "      <td>...</td>\n",
       "      <td>...</td>\n",
       "      <td>...</td>\n",
       "      <td>...</td>\n",
       "      <td>...</td>\n",
       "      <td>...</td>\n",
       "      <td>...</td>\n",
       "      <td>...</td>\n",
       "      <td>...</td>\n",
       "      <td>...</td>\n",
       "      <td>...</td>\n",
       "      <td>...</td>\n",
       "      <td>...</td>\n",
       "      <td>...</td>\n",
       "      <td>...</td>\n",
       "    </tr>\n",
       "    <tr>\n",
       "      <th>15839</th>\n",
       "      <td>790404714116491557</td>\n",
       "      <td>Ratchada Condo next To MRT</td>\n",
       "      <td>34432625</td>\n",
       "      <td>Alex</td>\n",
       "      <td>Huai Khwang</td>\n",
       "      <td>13.763732</td>\n",
       "      <td>100.569455</td>\n",
       "      <td>Entire home/apt</td>\n",
       "      <td>2100</td>\n",
       "      <td>28</td>\n",
       "      <td>0</td>\n",
       "      <td>2</td>\n",
       "      <td>332</td>\n",
       "      <td>0</td>\n",
       "      <td>0</td>\n",
       "    </tr>\n",
       "    <tr>\n",
       "      <th>15840</th>\n",
       "      <td>790441848994752308</td>\n",
       "      <td>Sukhumvit Condo Next to BTS</td>\n",
       "      <td>34432625</td>\n",
       "      <td>Alex</td>\n",
       "      <td>Bang Na</td>\n",
       "      <td>13.665395</td>\n",
       "      <td>100.603951</td>\n",
       "      <td>Entire home/apt</td>\n",
       "      <td>1400</td>\n",
       "      <td>28</td>\n",
       "      <td>0</td>\n",
       "      <td>2</td>\n",
       "      <td>364</td>\n",
       "      <td>0</td>\n",
       "      <td>0</td>\n",
       "    </tr>\n",
       "    <tr>\n",
       "      <th>15843</th>\n",
       "      <td>790458045665867830</td>\n",
       "      <td>Euro LuxuryHotel PratunamMKt TripleBdNrShoping...</td>\n",
       "      <td>491526222</td>\n",
       "      <td>Phakhamon</td>\n",
       "      <td>Ratchathewi</td>\n",
       "      <td>13.754421</td>\n",
       "      <td>100.538842</td>\n",
       "      <td>Private room</td>\n",
       "      <td>1529</td>\n",
       "      <td>1</td>\n",
       "      <td>0</td>\n",
       "      <td>14</td>\n",
       "      <td>363</td>\n",
       "      <td>0</td>\n",
       "      <td>0</td>\n",
       "    </tr>\n",
       "    <tr>\n",
       "      <th>15848</th>\n",
       "      <td>790460476887978054</td>\n",
       "      <td>Euro LuxuryHotel PratunamMKt TripleBdNrShoping...</td>\n",
       "      <td>491526222</td>\n",
       "      <td>Phakhamon</td>\n",
       "      <td>Ratchathewi</td>\n",
       "      <td>13.752904</td>\n",
       "      <td>100.540381</td>\n",
       "      <td>Private room</td>\n",
       "      <td>1400</td>\n",
       "      <td>1</td>\n",
       "      <td>0</td>\n",
       "      <td>14</td>\n",
       "      <td>357</td>\n",
       "      <td>0</td>\n",
       "      <td>0</td>\n",
       "    </tr>\n",
       "    <tr>\n",
       "      <th>15849</th>\n",
       "      <td>790465040741092826</td>\n",
       "      <td>素坤逸核心两房公寓42楼，靠近BTSon nut/无边天际泳池观赏曼谷夜景/出门当地美食街</td>\n",
       "      <td>94899359</td>\n",
       "      <td>Renee</td>\n",
       "      <td>Pra Wet</td>\n",
       "      <td>13.715132</td>\n",
       "      <td>100.653458</td>\n",
       "      <td>Private room</td>\n",
       "      <td>2298</td>\n",
       "      <td>28</td>\n",
       "      <td>0</td>\n",
       "      <td>1</td>\n",
       "      <td>362</td>\n",
       "      <td>0</td>\n",
       "      <td>0</td>\n",
       "    </tr>\n",
       "  </tbody>\n",
       "</table>\n",
       "<p>13461 rows × 15 columns</p>\n",
       "</div>"
      ],
      "text/plain": [
       "                       id                                               name  \\\n",
       "0                   27934                    Nice room with superb city view   \n",
       "1                   27979                     Easy going landlord,easy place   \n",
       "3                   35780     Spacious one bedroom at The Kris Condo Bldg. 3   \n",
       "9                  952677                      Standard Room Decor do Hostel   \n",
       "10                  55681                      Sathorn Terrace Apartment(61)   \n",
       "...                   ...                                                ...   \n",
       "15839  790404714116491557                         Ratchada Condo next To MRT   \n",
       "15840  790441848994752308                        Sukhumvit Condo Next to BTS   \n",
       "15843  790458045665867830  Euro LuxuryHotel PratunamMKt TripleBdNrShoping...   \n",
       "15848  790460476887978054  Euro LuxuryHotel PratunamMKt TripleBdNrShoping...   \n",
       "15849  790465040741092826      素坤逸核心两房公寓42楼，靠近BTSon nut/无边天际泳池观赏曼谷夜景/出门当地美食街   \n",
       "\n",
       "         host_id  host_name neighbourhood   latitude   longitude  \\\n",
       "0         120437     Nuttee   Ratchathewi  13.759830  100.541340   \n",
       "1         120541        Emy       Bang Na  13.668180  100.616740   \n",
       "3         153730    Sirilak     Din Daeng  13.788230  100.572560   \n",
       "9        5171292     Somsak    Khlong San  13.720400  100.507570   \n",
       "10        263049        Tor      Bang Rak  13.719340  100.517600   \n",
       "...          ...        ...           ...        ...         ...   \n",
       "15839   34432625       Alex   Huai Khwang  13.763732  100.569455   \n",
       "15840   34432625       Alex       Bang Na  13.665395  100.603951   \n",
       "15843  491526222  Phakhamon   Ratchathewi  13.754421  100.538842   \n",
       "15848  491526222  Phakhamon   Ratchathewi  13.752904  100.540381   \n",
       "15849   94899359      Renee       Pra Wet  13.715132  100.653458   \n",
       "\n",
       "             room_type  price  minimum_nights  number_of_reviews  \\\n",
       "0      Entire home/apt   1905               3                 65   \n",
       "1         Private room   1316               1                  0   \n",
       "3         Private room   1286               7                  2   \n",
       "9         Private room    700               2                  4   \n",
       "10        Private room   1150               2                 27   \n",
       "...                ...    ...             ...                ...   \n",
       "15839  Entire home/apt   2100              28                  0   \n",
       "15840  Entire home/apt   1400              28                  0   \n",
       "15843     Private room   1529               1                  0   \n",
       "15848     Private room   1400               1                  0   \n",
       "15849     Private room   2298              28                  0   \n",
       "\n",
       "       calculated_host_listings_count  availability_365  \\\n",
       "0                                   2               353   \n",
       "1                                   2               358   \n",
       "3                                   1               323   \n",
       "9                                  10                87   \n",
       "10                                  7               320   \n",
       "...                               ...               ...   \n",
       "15839                               2               332   \n",
       "15840                               2               364   \n",
       "15843                              14               363   \n",
       "15848                              14               357   \n",
       "15849                               1               362   \n",
       "\n",
       "       number_of_reviews_ltm  year_last_review  \n",
       "0                          0              2020  \n",
       "1                          0                 0  \n",
       "3                          1              2022  \n",
       "9                          0              2019  \n",
       "10                         0              2019  \n",
       "...                      ...               ...  \n",
       "15839                      0                 0  \n",
       "15840                      0                 0  \n",
       "15843                      0                 0  \n",
       "15848                      0                 0  \n",
       "15849                      0                 0  \n",
       "\n",
       "[13461 rows x 15 columns]"
      ]
     },
     "execution_count": 27,
     "metadata": {},
     "output_type": "execute_result"
    }
   ],
   "source": [
    "df1d[df1d['availability_365'] < 365]"
   ]
  },
  {
   "cell_type": "markdown",
   "id": "44eca2dd",
   "metadata": {},
   "source": [
    "many of data that not addup 365 in availability_365 + calculated_host_listings_count cant be necessarily wrong input/anomaly cause based on the community guideline of airbnb, the host can block the listings date, so the listings not always available 365 days"
   ]
  },
  {
   "cell_type": "code",
   "execution_count": 29,
   "id": "7b94acfa",
   "metadata": {},
   "outputs": [
    {
     "data": {
      "text/html": [
       "<div>\n",
       "<style scoped>\n",
       "    .dataframe tbody tr th:only-of-type {\n",
       "        vertical-align: middle;\n",
       "    }\n",
       "\n",
       "    .dataframe tbody tr th {\n",
       "        vertical-align: top;\n",
       "    }\n",
       "\n",
       "    .dataframe thead th {\n",
       "        text-align: right;\n",
       "    }\n",
       "</style>\n",
       "<table border=\"1\" class=\"dataframe\">\n",
       "  <thead>\n",
       "    <tr style=\"text-align: right;\">\n",
       "      <th></th>\n",
       "      <th>id</th>\n",
       "      <th>name</th>\n",
       "      <th>host_id</th>\n",
       "      <th>host_name</th>\n",
       "      <th>neighbourhood</th>\n",
       "      <th>latitude</th>\n",
       "      <th>longitude</th>\n",
       "      <th>room_type</th>\n",
       "      <th>price</th>\n",
       "      <th>minimum_nights</th>\n",
       "      <th>number_of_reviews</th>\n",
       "      <th>calculated_host_listings_count</th>\n",
       "      <th>availability_365</th>\n",
       "      <th>number_of_reviews_ltm</th>\n",
       "      <th>year_last_review</th>\n",
       "    </tr>\n",
       "  </thead>\n",
       "  <tbody>\n",
       "  </tbody>\n",
       "</table>\n",
       "</div>"
      ],
      "text/plain": [
       "Empty DataFrame\n",
       "Columns: [id, name, host_id, host_name, neighbourhood, latitude, longitude, room_type, price, minimum_nights, number_of_reviews, calculated_host_listings_count, availability_365, number_of_reviews_ltm, year_last_review]\n",
       "Index: []"
      ]
     },
     "execution_count": 29,
     "metadata": {},
     "output_type": "execute_result"
    }
   ],
   "source": [
    "df1d[df1d['number_of_reviews_ltm'] > df1d['number_of_reviews']]"
   ]
  },
  {
   "cell_type": "markdown",
   "id": "65e75343",
   "metadata": {},
   "source": [
    "no anomaly detected to see if any hickups when number_of_reviews_ltm bigger than overall number of reviews throught out many years"
   ]
  },
  {
   "cell_type": "code",
   "execution_count": 30,
   "id": "2ef0a976",
   "metadata": {},
   "outputs": [
    {
     "data": {
      "text/html": [
       "<div>\n",
       "<style scoped>\n",
       "    .dataframe tbody tr th:only-of-type {\n",
       "        vertical-align: middle;\n",
       "    }\n",
       "\n",
       "    .dataframe tbody tr th {\n",
       "        vertical-align: top;\n",
       "    }\n",
       "\n",
       "    .dataframe thead th {\n",
       "        text-align: right;\n",
       "    }\n",
       "</style>\n",
       "<table border=\"1\" class=\"dataframe\">\n",
       "  <thead>\n",
       "    <tr style=\"text-align: right;\">\n",
       "      <th></th>\n",
       "      <th>id</th>\n",
       "      <th>name</th>\n",
       "      <th>host_id</th>\n",
       "      <th>host_name</th>\n",
       "      <th>neighbourhood</th>\n",
       "      <th>latitude</th>\n",
       "      <th>longitude</th>\n",
       "      <th>room_type</th>\n",
       "      <th>price</th>\n",
       "      <th>minimum_nights</th>\n",
       "      <th>number_of_reviews</th>\n",
       "      <th>calculated_host_listings_count</th>\n",
       "      <th>availability_365</th>\n",
       "      <th>number_of_reviews_ltm</th>\n",
       "      <th>year_last_review</th>\n",
       "    </tr>\n",
       "  </thead>\n",
       "  <tbody>\n",
       "    <tr>\n",
       "      <th>17</th>\n",
       "      <td>66046</td>\n",
       "      <td>24Flr- 1br Apt near JJ, MRT, BTS</td>\n",
       "      <td>323158</td>\n",
       "      <td>Sue</td>\n",
       "      <td>Chatu Chak</td>\n",
       "      <td>13.822980</td>\n",
       "      <td>100.564840</td>\n",
       "      <td>Entire home/apt</td>\n",
       "      <td>122594</td>\n",
       "      <td>2</td>\n",
       "      <td>9</td>\n",
       "      <td>6</td>\n",
       "      <td>180</td>\n",
       "      <td>0</td>\n",
       "      <td>2020</td>\n",
       "    </tr>\n",
       "    <tr>\n",
       "      <th>1239</th>\n",
       "      <td>8880974</td>\n",
       "      <td>Modern,wifi,5m MRT&amp;2 Shopping Mall</td>\n",
       "      <td>30803267</td>\n",
       "      <td>Yasmine</td>\n",
       "      <td>Huai Khwang</td>\n",
       "      <td>13.759950</td>\n",
       "      <td>100.569360</td>\n",
       "      <td>Entire home/apt</td>\n",
       "      <td>1000000</td>\n",
       "      <td>100</td>\n",
       "      <td>45</td>\n",
       "      <td>4</td>\n",
       "      <td>180</td>\n",
       "      <td>0</td>\n",
       "      <td>2016</td>\n",
       "    </tr>\n",
       "    <tr>\n",
       "      <th>1779</th>\n",
       "      <td>11579635</td>\n",
       "      <td>2 Bedroom,wifi,5mMRT&amp;Shopping Mall</td>\n",
       "      <td>30803267</td>\n",
       "      <td>Yasmine</td>\n",
       "      <td>Huai Khwang</td>\n",
       "      <td>13.754710</td>\n",
       "      <td>100.565980</td>\n",
       "      <td>Entire home/apt</td>\n",
       "      <td>1000000</td>\n",
       "      <td>100</td>\n",
       "      <td>53</td>\n",
       "      <td>4</td>\n",
       "      <td>249</td>\n",
       "      <td>0</td>\n",
       "      <td>2018</td>\n",
       "    </tr>\n",
       "    <tr>\n",
       "      <th>1850</th>\n",
       "      <td>12056763</td>\n",
       "      <td>Charoenkrung Road House/Office Rent</td>\n",
       "      <td>62898498</td>\n",
       "      <td>Charlie</td>\n",
       "      <td>Bang Rak</td>\n",
       "      <td>13.727880</td>\n",
       "      <td>100.518720</td>\n",
       "      <td>Entire home/apt</td>\n",
       "      <td>300000</td>\n",
       "      <td>365</td>\n",
       "      <td>0</td>\n",
       "      <td>1</td>\n",
       "      <td>365</td>\n",
       "      <td>0</td>\n",
       "      <td>0</td>\n",
       "    </tr>\n",
       "    <tr>\n",
       "      <th>1986</th>\n",
       "      <td>13033135</td>\n",
       "      <td>Airport-MRT-ShowShopFood-FullFN</td>\n",
       "      <td>34158729</td>\n",
       "      <td>Chayakorn</td>\n",
       "      <td>Din Daeng</td>\n",
       "      <td>13.784330</td>\n",
       "      <td>100.570660</td>\n",
       "      <td>Private room</td>\n",
       "      <td>300000</td>\n",
       "      <td>120</td>\n",
       "      <td>0</td>\n",
       "      <td>1</td>\n",
       "      <td>358</td>\n",
       "      <td>0</td>\n",
       "      <td>0</td>\n",
       "    </tr>\n",
       "    <tr>\n",
       "      <th>2507</th>\n",
       "      <td>15380964</td>\n",
       "      <td>Resort Style Luxury apartment,5min to MRT,free...</td>\n",
       "      <td>30803267</td>\n",
       "      <td>Yasmine</td>\n",
       "      <td>Huai Khwang</td>\n",
       "      <td>13.758770</td>\n",
       "      <td>100.569430</td>\n",
       "      <td>Entire home/apt</td>\n",
       "      <td>100686</td>\n",
       "      <td>1</td>\n",
       "      <td>40</td>\n",
       "      <td>4</td>\n",
       "      <td>180</td>\n",
       "      <td>0</td>\n",
       "      <td>2019</td>\n",
       "    </tr>\n",
       "    <tr>\n",
       "      <th>2568</th>\n",
       "      <td>16045517</td>\n",
       "      <td>BTS Wongwianyai, Rooftop  Pool, Wifi</td>\n",
       "      <td>94426146</td>\n",
       "      <td>Wanlapatch</td>\n",
       "      <td>Khlong San</td>\n",
       "      <td>13.721550</td>\n",
       "      <td>100.495170</td>\n",
       "      <td>Entire home/apt</td>\n",
       "      <td>160000</td>\n",
       "      <td>3</td>\n",
       "      <td>20</td>\n",
       "      <td>1</td>\n",
       "      <td>179</td>\n",
       "      <td>0</td>\n",
       "      <td>2018</td>\n",
       "    </tr>\n",
       "    <tr>\n",
       "      <th>2668</th>\n",
       "      <td>16139502</td>\n",
       "      <td>Nice Check-in My Hostel (Private 2 beds)</td>\n",
       "      <td>51074483</td>\n",
       "      <td>Nuttawut</td>\n",
       "      <td>Ratchathewi</td>\n",
       "      <td>13.751130</td>\n",
       "      <td>100.527310</td>\n",
       "      <td>Hotel room</td>\n",
       "      <td>300000</td>\n",
       "      <td>1</td>\n",
       "      <td>2</td>\n",
       "      <td>5</td>\n",
       "      <td>365</td>\n",
       "      <td>0</td>\n",
       "      <td>2020</td>\n",
       "    </tr>\n",
       "    <tr>\n",
       "      <th>4194</th>\n",
       "      <td>22059876</td>\n",
       "      <td>C</td>\n",
       "      <td>160989331</td>\n",
       "      <td>Annchalee</td>\n",
       "      <td>Thon buri</td>\n",
       "      <td>13.716930</td>\n",
       "      <td>100.483300</td>\n",
       "      <td>Private room</td>\n",
       "      <td>161516</td>\n",
       "      <td>500</td>\n",
       "      <td>3</td>\n",
       "      <td>1</td>\n",
       "      <td>0</td>\n",
       "      <td>0</td>\n",
       "      <td>2018</td>\n",
       "    </tr>\n",
       "    <tr>\n",
       "      <th>4373</th>\n",
       "      <td>22633450</td>\n",
       "      <td>rm 1 : cozy &amp; comfy</td>\n",
       "      <td>117057915</td>\n",
       "      <td>Jeab</td>\n",
       "      <td>Bang Phlat</td>\n",
       "      <td>13.791630</td>\n",
       "      <td>100.490380</td>\n",
       "      <td>Private room</td>\n",
       "      <td>600700</td>\n",
       "      <td>1</td>\n",
       "      <td>9</td>\n",
       "      <td>5</td>\n",
       "      <td>330</td>\n",
       "      <td>0</td>\n",
       "      <td>2020</td>\n",
       "    </tr>\n",
       "    <tr>\n",
       "      <th>4620</th>\n",
       "      <td>23740993</td>\n",
       "      <td>Modern&amp;Luxury apartment,5min to MRT,freeWifi</td>\n",
       "      <td>30803267</td>\n",
       "      <td>Yasmine</td>\n",
       "      <td>Huai Khwang</td>\n",
       "      <td>13.760650</td>\n",
       "      <td>100.568980</td>\n",
       "      <td>Entire home/apt</td>\n",
       "      <td>1000000</td>\n",
       "      <td>1</td>\n",
       "      <td>12</td>\n",
       "      <td>4</td>\n",
       "      <td>336</td>\n",
       "      <td>0</td>\n",
       "      <td>2020</td>\n",
       "    </tr>\n",
       "    <tr>\n",
       "      <th>4622</th>\n",
       "      <td>23744398</td>\n",
       "      <td>Cozy 1bed, BTS Prakanon Sukumvit71 Netflix&amp;kit...</td>\n",
       "      <td>91426608</td>\n",
       "      <td>Jubjib</td>\n",
       "      <td>Vadhana</td>\n",
       "      <td>13.713510</td>\n",
       "      <td>100.594510</td>\n",
       "      <td>Entire home/apt</td>\n",
       "      <td>100194</td>\n",
       "      <td>3</td>\n",
       "      <td>4</td>\n",
       "      <td>3</td>\n",
       "      <td>14</td>\n",
       "      <td>1</td>\n",
       "      <td>2022</td>\n",
       "    </tr>\n",
       "    <tr>\n",
       "      <th>5086</th>\n",
       "      <td>25429707</td>\n",
       "      <td>Clean Check-in My Hostel (Private 4 beds)</td>\n",
       "      <td>51074483</td>\n",
       "      <td>Nuttawut</td>\n",
       "      <td>Ratchathewi</td>\n",
       "      <td>13.751150</td>\n",
       "      <td>100.527670</td>\n",
       "      <td>Private room</td>\n",
       "      <td>300000</td>\n",
       "      <td>1</td>\n",
       "      <td>1</td>\n",
       "      <td>5</td>\n",
       "      <td>365</td>\n",
       "      <td>0</td>\n",
       "      <td>2019</td>\n",
       "    </tr>\n",
       "    <tr>\n",
       "      <th>5092</th>\n",
       "      <td>25434238</td>\n",
       "      <td>Comfy Check-in My Hostel (Private 2 beds-deluxe)</td>\n",
       "      <td>51074483</td>\n",
       "      <td>Nuttawut</td>\n",
       "      <td>Ratchathewi</td>\n",
       "      <td>13.750980</td>\n",
       "      <td>100.529240</td>\n",
       "      <td>Private room</td>\n",
       "      <td>300000</td>\n",
       "      <td>1</td>\n",
       "      <td>6</td>\n",
       "      <td>5</td>\n",
       "      <td>365</td>\n",
       "      <td>0</td>\n",
       "      <td>2019</td>\n",
       "    </tr>\n",
       "    <tr>\n",
       "      <th>5093</th>\n",
       "      <td>25434663</td>\n",
       "      <td>Comfy Check-in My Hostel (Private 3 beds)</td>\n",
       "      <td>51074483</td>\n",
       "      <td>Nuttawut</td>\n",
       "      <td>Ratchathewi</td>\n",
       "      <td>13.749780</td>\n",
       "      <td>100.528960</td>\n",
       "      <td>Private room</td>\n",
       "      <td>300000</td>\n",
       "      <td>1</td>\n",
       "      <td>2</td>\n",
       "      <td>5</td>\n",
       "      <td>365</td>\n",
       "      <td>0</td>\n",
       "      <td>2019</td>\n",
       "    </tr>\n",
       "    <tr>\n",
       "      <th>6083</th>\n",
       "      <td>29526819</td>\n",
       "      <td>Modern Deluxe Private Double Bed (2 adults)</td>\n",
       "      <td>51074483</td>\n",
       "      <td>Nuttawut</td>\n",
       "      <td>Parthum Wan</td>\n",
       "      <td>13.749360</td>\n",
       "      <td>100.528930</td>\n",
       "      <td>Private room</td>\n",
       "      <td>300000</td>\n",
       "      <td>1</td>\n",
       "      <td>0</td>\n",
       "      <td>5</td>\n",
       "      <td>365</td>\n",
       "      <td>0</td>\n",
       "      <td>0</td>\n",
       "    </tr>\n",
       "    <tr>\n",
       "      <th>6289</th>\n",
       "      <td>29909847</td>\n",
       "      <td>BTS轻轨线on nut站，全新一房一厅，临Tesco商场市集!New cozy 1BR</td>\n",
       "      <td>210559448</td>\n",
       "      <td>Cora</td>\n",
       "      <td>Khlong Toei</td>\n",
       "      <td>13.703330</td>\n",
       "      <td>100.592470</td>\n",
       "      <td>Entire home/apt</td>\n",
       "      <td>1000000</td>\n",
       "      <td>2</td>\n",
       "      <td>69</td>\n",
       "      <td>6</td>\n",
       "      <td>90</td>\n",
       "      <td>0</td>\n",
       "      <td>2020</td>\n",
       "    </tr>\n",
       "    <tr>\n",
       "      <th>6547</th>\n",
       "      <td>31365499</td>\n",
       "      <td>WH (Container style, twin bed, 2ppl, citycente...</td>\n",
       "      <td>234881965</td>\n",
       "      <td>Napawadee</td>\n",
       "      <td>Khlong Toei</td>\n",
       "      <td>13.736350</td>\n",
       "      <td>100.552770</td>\n",
       "      <td>Private room</td>\n",
       "      <td>314841</td>\n",
       "      <td>1</td>\n",
       "      <td>16</td>\n",
       "      <td>4</td>\n",
       "      <td>147</td>\n",
       "      <td>0</td>\n",
       "      <td>2020</td>\n",
       "    </tr>\n",
       "    <tr>\n",
       "      <th>6549</th>\n",
       "      <td>31365769</td>\n",
       "      <td>WH (container, Double bed, 2ppl -F)</td>\n",
       "      <td>234881965</td>\n",
       "      <td>Napawadee</td>\n",
       "      <td>Khlong Toei</td>\n",
       "      <td>13.735140</td>\n",
       "      <td>100.552170</td>\n",
       "      <td>Private room</td>\n",
       "      <td>372227</td>\n",
       "      <td>1</td>\n",
       "      <td>24</td>\n",
       "      <td>4</td>\n",
       "      <td>147</td>\n",
       "      <td>0</td>\n",
       "      <td>2020</td>\n",
       "    </tr>\n",
       "    <tr>\n",
       "      <th>6578</th>\n",
       "      <td>31064616</td>\n",
       "      <td>【ExLN:9min to BTS/MRT&amp;Terminal21,Big Balcony,Q...</td>\n",
       "      <td>20904996</td>\n",
       "      <td>Alissa</td>\n",
       "      <td>Khlong Toei</td>\n",
       "      <td>13.704320</td>\n",
       "      <td>100.598260</td>\n",
       "      <td>Private room</td>\n",
       "      <td>158314</td>\n",
       "      <td>1</td>\n",
       "      <td>2</td>\n",
       "      <td>1</td>\n",
       "      <td>91</td>\n",
       "      <td>0</td>\n",
       "      <td>2019</td>\n",
       "    </tr>\n",
       "    <tr>\n",
       "      <th>6760</th>\n",
       "      <td>31364368</td>\n",
       "      <td>WH (Container style, twin bed, 2ppl, citycente...</td>\n",
       "      <td>234881965</td>\n",
       "      <td>Napawadee</td>\n",
       "      <td>Khlong Toei</td>\n",
       "      <td>13.735050</td>\n",
       "      <td>100.552390</td>\n",
       "      <td>Private room</td>\n",
       "      <td>314899</td>\n",
       "      <td>1</td>\n",
       "      <td>4</td>\n",
       "      <td>4</td>\n",
       "      <td>147</td>\n",
       "      <td>0</td>\n",
       "      <td>2020</td>\n",
       "    </tr>\n",
       "    <tr>\n",
       "      <th>9345</th>\n",
       "      <td>39858231</td>\n",
       "      <td>1BR cozy condo  close to ONNUT BTS.</td>\n",
       "      <td>210559448</td>\n",
       "      <td>Cora</td>\n",
       "      <td>Khlong Toei</td>\n",
       "      <td>13.704960</td>\n",
       "      <td>100.591510</td>\n",
       "      <td>Entire home/apt</td>\n",
       "      <td>1000000</td>\n",
       "      <td>25</td>\n",
       "      <td>2</td>\n",
       "      <td>6</td>\n",
       "      <td>88</td>\n",
       "      <td>0</td>\n",
       "      <td>2020</td>\n",
       "    </tr>\n",
       "    <tr>\n",
       "      <th>11691</th>\n",
       "      <td>49957878</td>\n",
       "      <td>The best view in Bangkok with largest park &amp; shop</td>\n",
       "      <td>62211407</td>\n",
       "      <td>May</td>\n",
       "      <td>Chatu Chak</td>\n",
       "      <td>13.804870</td>\n",
       "      <td>100.556000</td>\n",
       "      <td>Entire home/apt</td>\n",
       "      <td>120000</td>\n",
       "      <td>25</td>\n",
       "      <td>0</td>\n",
       "      <td>2</td>\n",
       "      <td>358</td>\n",
       "      <td>0</td>\n",
       "      <td>0</td>\n",
       "    </tr>\n",
       "    <tr>\n",
       "      <th>11885</th>\n",
       "      <td>52940323</td>\n",
       "      <td>🎗𝘾𝙝𝙚𝙬𝙖𝙩𝙝𝙖𝙞 𝙍𝙖𝙢𝙠𝙝𝙖𝙢𝙝𝙖𝙚𝙣𝙜\\nBy KhunGrape</td>\n",
       "      <td>99882630</td>\n",
       "      <td>Jiranuch</td>\n",
       "      <td>Bang Kapi</td>\n",
       "      <td>13.760820</td>\n",
       "      <td>100.633660</td>\n",
       "      <td>Private room</td>\n",
       "      <td>429443</td>\n",
       "      <td>1</td>\n",
       "      <td>0</td>\n",
       "      <td>1</td>\n",
       "      <td>313</td>\n",
       "      <td>0</td>\n",
       "      <td>0</td>\n",
       "    </tr>\n",
       "    <tr>\n",
       "      <th>12300</th>\n",
       "      <td>562972065309061724</td>\n",
       "      <td>3B中文No Guest Service Fee@Nana Asok/Soi11 Night...</td>\n",
       "      <td>131427125</td>\n",
       "      <td>Jj</td>\n",
       "      <td>Vadhana</td>\n",
       "      <td>13.746660</td>\n",
       "      <td>100.559100</td>\n",
       "      <td>Entire home/apt</td>\n",
       "      <td>1014758</td>\n",
       "      <td>30</td>\n",
       "      <td>2</td>\n",
       "      <td>10</td>\n",
       "      <td>75</td>\n",
       "      <td>2</td>\n",
       "      <td>2022</td>\n",
       "    </tr>\n",
       "    <tr>\n",
       "      <th>12634</th>\n",
       "      <td>597430700332581904</td>\n",
       "      <td>Four seasons private residences with river view</td>\n",
       "      <td>394945171</td>\n",
       "      <td>Lulu</td>\n",
       "      <td>Sathon</td>\n",
       "      <td>13.713400</td>\n",
       "      <td>100.511040</td>\n",
       "      <td>Entire home/apt</td>\n",
       "      <td>200000</td>\n",
       "      <td>1</td>\n",
       "      <td>0</td>\n",
       "      <td>2</td>\n",
       "      <td>361</td>\n",
       "      <td>0</td>\n",
       "      <td>0</td>\n",
       "    </tr>\n",
       "    <tr>\n",
       "      <th>12792</th>\n",
       "      <td>629653142142561774</td>\n",
       "      <td>rm 6 : bright morning sunlight.</td>\n",
       "      <td>117057915</td>\n",
       "      <td>Jeab</td>\n",
       "      <td>Bang Phlat</td>\n",
       "      <td>13.790490</td>\n",
       "      <td>100.488160</td>\n",
       "      <td>Private room</td>\n",
       "      <td>400717</td>\n",
       "      <td>1</td>\n",
       "      <td>0</td>\n",
       "      <td>5</td>\n",
       "      <td>241</td>\n",
       "      <td>0</td>\n",
       "      <td>0</td>\n",
       "    </tr>\n",
       "    <tr>\n",
       "      <th>12868</th>\n",
       "      <td>635676064543597376</td>\n",
       "      <td>New 1 bedroom apartment BTS MRT Asoke</td>\n",
       "      <td>12464705</td>\n",
       "      <td>Lucio</td>\n",
       "      <td>Vadhana</td>\n",
       "      <td>13.742186</td>\n",
       "      <td>100.560394</td>\n",
       "      <td>Entire home/apt</td>\n",
       "      <td>1100000</td>\n",
       "      <td>14</td>\n",
       "      <td>0</td>\n",
       "      <td>1</td>\n",
       "      <td>365</td>\n",
       "      <td>0</td>\n",
       "      <td>0</td>\n",
       "    </tr>\n",
       "    <tr>\n",
       "      <th>13300</th>\n",
       "      <td>661357146049226172</td>\n",
       "      <td>Admiral Suite RO- 1BR Suite with Balcony</td>\n",
       "      <td>98598351</td>\n",
       "      <td>Admiral Premier</td>\n",
       "      <td>Vadhana</td>\n",
       "      <td>13.741640</td>\n",
       "      <td>100.561550</td>\n",
       "      <td>Private room</td>\n",
       "      <td>250344</td>\n",
       "      <td>1</td>\n",
       "      <td>0</td>\n",
       "      <td>17</td>\n",
       "      <td>360</td>\n",
       "      <td>0</td>\n",
       "      <td>0</td>\n",
       "    </tr>\n",
       "    <tr>\n",
       "      <th>15200</th>\n",
       "      <td>766201549677186657</td>\n",
       "      <td>80米轻轨站，空中泳池+健身房，I con siam沙吞河景圈，距离大皇宫4公里，乳胶床垫</td>\n",
       "      <td>28589379</td>\n",
       "      <td>Lily</td>\n",
       "      <td>Khlong San</td>\n",
       "      <td>13.721270</td>\n",
       "      <td>100.495270</td>\n",
       "      <td>Entire home/apt</td>\n",
       "      <td>710760</td>\n",
       "      <td>12</td>\n",
       "      <td>0</td>\n",
       "      <td>1</td>\n",
       "      <td>313</td>\n",
       "      <td>0</td>\n",
       "      <td>0</td>\n",
       "    </tr>\n",
       "  </tbody>\n",
       "</table>\n",
       "</div>"
      ],
      "text/plain": [
       "                       id                                               name  \\\n",
       "17                  66046                   24Flr- 1br Apt near JJ, MRT, BTS   \n",
       "1239              8880974                 Modern,wifi,5m MRT&2 Shopping Mall   \n",
       "1779             11579635                 2 Bedroom,wifi,5mMRT&Shopping Mall   \n",
       "1850             12056763                Charoenkrung Road House/Office Rent   \n",
       "1986             13033135                    Airport-MRT-ShowShopFood-FullFN   \n",
       "2507             15380964  Resort Style Luxury apartment,5min to MRT,free...   \n",
       "2568             16045517               BTS Wongwianyai, Rooftop  Pool, Wifi   \n",
       "2668             16139502           Nice Check-in My Hostel (Private 2 beds)   \n",
       "4194             22059876                                                  C   \n",
       "4373             22633450                                rm 1 : cozy & comfy   \n",
       "4620             23740993       Modern&Luxury apartment,5min to MRT,freeWifi   \n",
       "4622             23744398  Cozy 1bed, BTS Prakanon Sukumvit71 Netflix&kit...   \n",
       "5086             25429707          Clean Check-in My Hostel (Private 4 beds)   \n",
       "5092             25434238   Comfy Check-in My Hostel (Private 2 beds-deluxe)   \n",
       "5093             25434663          Comfy Check-in My Hostel (Private 3 beds)   \n",
       "6083             29526819        Modern Deluxe Private Double Bed (2 adults)   \n",
       "6289             29909847       BTS轻轨线on nut站，全新一房一厅，临Tesco商场市集!New cozy 1BR   \n",
       "6547             31365499  WH (Container style, twin bed, 2ppl, citycente...   \n",
       "6549             31365769                WH (container, Double bed, 2ppl -F)   \n",
       "6578             31064616  【ExLN:9min to BTS/MRT&Terminal21,Big Balcony,Q...   \n",
       "6760             31364368  WH (Container style, twin bed, 2ppl, citycente...   \n",
       "9345             39858231                1BR cozy condo  close to ONNUT BTS.   \n",
       "11691            49957878  The best view in Bangkok with largest park & shop   \n",
       "11885            52940323              🎗𝘾𝙝𝙚𝙬𝙖𝙩𝙝𝙖𝙞 𝙍𝙖𝙢𝙠𝙝𝙖𝙢𝙝𝙖𝙚𝙣𝙜\\nBy KhunGrape   \n",
       "12300  562972065309061724  3B中文No Guest Service Fee@Nana Asok/Soi11 Night...   \n",
       "12634  597430700332581904    Four seasons private residences with river view   \n",
       "12792  629653142142561774                    rm 6 : bright morning sunlight.   \n",
       "12868  635676064543597376              New 1 bedroom apartment BTS MRT Asoke   \n",
       "13300  661357146049226172           Admiral Suite RO- 1BR Suite with Balcony   \n",
       "15200  766201549677186657      80米轻轨站，空中泳池+健身房，I con siam沙吞河景圈，距离大皇宫4公里，乳胶床垫   \n",
       "\n",
       "         host_id        host_name neighbourhood   latitude   longitude  \\\n",
       "17        323158              Sue    Chatu Chak  13.822980  100.564840   \n",
       "1239    30803267          Yasmine   Huai Khwang  13.759950  100.569360   \n",
       "1779    30803267          Yasmine   Huai Khwang  13.754710  100.565980   \n",
       "1850    62898498          Charlie      Bang Rak  13.727880  100.518720   \n",
       "1986    34158729        Chayakorn     Din Daeng  13.784330  100.570660   \n",
       "2507    30803267          Yasmine   Huai Khwang  13.758770  100.569430   \n",
       "2568    94426146       Wanlapatch    Khlong San  13.721550  100.495170   \n",
       "2668    51074483         Nuttawut   Ratchathewi  13.751130  100.527310   \n",
       "4194   160989331        Annchalee     Thon buri  13.716930  100.483300   \n",
       "4373   117057915             Jeab    Bang Phlat  13.791630  100.490380   \n",
       "4620    30803267          Yasmine   Huai Khwang  13.760650  100.568980   \n",
       "4622    91426608           Jubjib       Vadhana  13.713510  100.594510   \n",
       "5086    51074483         Nuttawut   Ratchathewi  13.751150  100.527670   \n",
       "5092    51074483         Nuttawut   Ratchathewi  13.750980  100.529240   \n",
       "5093    51074483         Nuttawut   Ratchathewi  13.749780  100.528960   \n",
       "6083    51074483         Nuttawut   Parthum Wan  13.749360  100.528930   \n",
       "6289   210559448             Cora   Khlong Toei  13.703330  100.592470   \n",
       "6547   234881965        Napawadee   Khlong Toei  13.736350  100.552770   \n",
       "6549   234881965        Napawadee   Khlong Toei  13.735140  100.552170   \n",
       "6578    20904996           Alissa   Khlong Toei  13.704320  100.598260   \n",
       "6760   234881965        Napawadee   Khlong Toei  13.735050  100.552390   \n",
       "9345   210559448             Cora   Khlong Toei  13.704960  100.591510   \n",
       "11691   62211407              May    Chatu Chak  13.804870  100.556000   \n",
       "11885   99882630         Jiranuch     Bang Kapi  13.760820  100.633660   \n",
       "12300  131427125               Jj       Vadhana  13.746660  100.559100   \n",
       "12634  394945171             Lulu        Sathon  13.713400  100.511040   \n",
       "12792  117057915             Jeab    Bang Phlat  13.790490  100.488160   \n",
       "12868   12464705            Lucio       Vadhana  13.742186  100.560394   \n",
       "13300   98598351  Admiral Premier       Vadhana  13.741640  100.561550   \n",
       "15200   28589379             Lily    Khlong San  13.721270  100.495270   \n",
       "\n",
       "             room_type    price  minimum_nights  number_of_reviews  \\\n",
       "17     Entire home/apt   122594               2                  9   \n",
       "1239   Entire home/apt  1000000             100                 45   \n",
       "1779   Entire home/apt  1000000             100                 53   \n",
       "1850   Entire home/apt   300000             365                  0   \n",
       "1986      Private room   300000             120                  0   \n",
       "2507   Entire home/apt   100686               1                 40   \n",
       "2568   Entire home/apt   160000               3                 20   \n",
       "2668        Hotel room   300000               1                  2   \n",
       "4194      Private room   161516             500                  3   \n",
       "4373      Private room   600700               1                  9   \n",
       "4620   Entire home/apt  1000000               1                 12   \n",
       "4622   Entire home/apt   100194               3                  4   \n",
       "5086      Private room   300000               1                  1   \n",
       "5092      Private room   300000               1                  6   \n",
       "5093      Private room   300000               1                  2   \n",
       "6083      Private room   300000               1                  0   \n",
       "6289   Entire home/apt  1000000               2                 69   \n",
       "6547      Private room   314841               1                 16   \n",
       "6549      Private room   372227               1                 24   \n",
       "6578      Private room   158314               1                  2   \n",
       "6760      Private room   314899               1                  4   \n",
       "9345   Entire home/apt  1000000              25                  2   \n",
       "11691  Entire home/apt   120000              25                  0   \n",
       "11885     Private room   429443               1                  0   \n",
       "12300  Entire home/apt  1014758              30                  2   \n",
       "12634  Entire home/apt   200000               1                  0   \n",
       "12792     Private room   400717               1                  0   \n",
       "12868  Entire home/apt  1100000              14                  0   \n",
       "13300     Private room   250344               1                  0   \n",
       "15200  Entire home/apt   710760              12                  0   \n",
       "\n",
       "       calculated_host_listings_count  availability_365  \\\n",
       "17                                  6               180   \n",
       "1239                                4               180   \n",
       "1779                                4               249   \n",
       "1850                                1               365   \n",
       "1986                                1               358   \n",
       "2507                                4               180   \n",
       "2568                                1               179   \n",
       "2668                                5               365   \n",
       "4194                                1                 0   \n",
       "4373                                5               330   \n",
       "4620                                4               336   \n",
       "4622                                3                14   \n",
       "5086                                5               365   \n",
       "5092                                5               365   \n",
       "5093                                5               365   \n",
       "6083                                5               365   \n",
       "6289                                6                90   \n",
       "6547                                4               147   \n",
       "6549                                4               147   \n",
       "6578                                1                91   \n",
       "6760                                4               147   \n",
       "9345                                6                88   \n",
       "11691                               2               358   \n",
       "11885                               1               313   \n",
       "12300                              10                75   \n",
       "12634                               2               361   \n",
       "12792                               5               241   \n",
       "12868                               1               365   \n",
       "13300                              17               360   \n",
       "15200                               1               313   \n",
       "\n",
       "       number_of_reviews_ltm  year_last_review  \n",
       "17                         0              2020  \n",
       "1239                       0              2016  \n",
       "1779                       0              2018  \n",
       "1850                       0                 0  \n",
       "1986                       0                 0  \n",
       "2507                       0              2019  \n",
       "2568                       0              2018  \n",
       "2668                       0              2020  \n",
       "4194                       0              2018  \n",
       "4373                       0              2020  \n",
       "4620                       0              2020  \n",
       "4622                       1              2022  \n",
       "5086                       0              2019  \n",
       "5092                       0              2019  \n",
       "5093                       0              2019  \n",
       "6083                       0                 0  \n",
       "6289                       0              2020  \n",
       "6547                       0              2020  \n",
       "6549                       0              2020  \n",
       "6578                       0              2019  \n",
       "6760                       0              2020  \n",
       "9345                       0              2020  \n",
       "11691                      0                 0  \n",
       "11885                      0                 0  \n",
       "12300                      2              2022  \n",
       "12634                      0                 0  \n",
       "12792                      0                 0  \n",
       "12868                      0                 0  \n",
       "13300                      0                 0  \n",
       "15200                      0                 0  "
      ]
     },
     "execution_count": 30,
     "metadata": {},
     "output_type": "execute_result"
    }
   ],
   "source": [
    "df1d[df1d['price'] > 100000]"
   ]
  },
  {
   "cell_type": "code",
   "execution_count": 31,
   "id": "c026d94a",
   "metadata": {},
   "outputs": [
    {
     "name": "stdout",
     "output_type": "stream",
     "text": [
      "-1393.5 4722.5\n"
     ]
    }
   ],
   "source": [
    "real_iqr_price = df1d['price'].describe()['75%'] - df1d['price'].describe()['25%']\n",
    "lower_bound = df1d['price'].describe()['25%'] - 1.5*real_iqr_price\n",
    "upper_bound = df1d['price'].describe()['75%'] + 1.5*real_iqr_price\n",
    "print(lower_bound, upper_bound)"
   ]
  },
  {
   "cell_type": "code",
   "execution_count": 32,
   "id": "68c62d49",
   "metadata": {},
   "outputs": [
    {
     "data": {
      "text/html": [
       "<div>\n",
       "<style scoped>\n",
       "    .dataframe tbody tr th:only-of-type {\n",
       "        vertical-align: middle;\n",
       "    }\n",
       "\n",
       "    .dataframe tbody tr th {\n",
       "        vertical-align: top;\n",
       "    }\n",
       "\n",
       "    .dataframe thead th {\n",
       "        text-align: right;\n",
       "    }\n",
       "</style>\n",
       "<table border=\"1\" class=\"dataframe\">\n",
       "  <thead>\n",
       "    <tr style=\"text-align: right;\">\n",
       "      <th></th>\n",
       "      <th>id</th>\n",
       "      <th>name</th>\n",
       "      <th>host_id</th>\n",
       "      <th>host_name</th>\n",
       "      <th>neighbourhood</th>\n",
       "      <th>latitude</th>\n",
       "      <th>longitude</th>\n",
       "      <th>room_type</th>\n",
       "      <th>price</th>\n",
       "      <th>minimum_nights</th>\n",
       "      <th>number_of_reviews</th>\n",
       "      <th>calculated_host_listings_count</th>\n",
       "      <th>availability_365</th>\n",
       "      <th>number_of_reviews_ltm</th>\n",
       "      <th>year_last_review</th>\n",
       "    </tr>\n",
       "  </thead>\n",
       "  <tbody>\n",
       "    <tr>\n",
       "      <th>17</th>\n",
       "      <td>66046</td>\n",
       "      <td>24Flr- 1br Apt near JJ, MRT, BTS</td>\n",
       "      <td>323158</td>\n",
       "      <td>Sue</td>\n",
       "      <td>Chatu Chak</td>\n",
       "      <td>13.822980</td>\n",
       "      <td>100.564840</td>\n",
       "      <td>Entire home/apt</td>\n",
       "      <td>122594</td>\n",
       "      <td>2</td>\n",
       "      <td>9</td>\n",
       "      <td>6</td>\n",
       "      <td>180</td>\n",
       "      <td>0</td>\n",
       "      <td>2020</td>\n",
       "    </tr>\n",
       "    <tr>\n",
       "      <th>18</th>\n",
       "      <td>105042</td>\n",
       "      <td>Central Bangkok 3 Bedroom Apartment</td>\n",
       "      <td>545890</td>\n",
       "      <td>Henry</td>\n",
       "      <td>Khlong Toei</td>\n",
       "      <td>13.733780</td>\n",
       "      <td>100.563030</td>\n",
       "      <td>Entire home/apt</td>\n",
       "      <td>5680</td>\n",
       "      <td>28</td>\n",
       "      <td>148</td>\n",
       "      <td>1</td>\n",
       "      <td>334</td>\n",
       "      <td>0</td>\n",
       "      <td>2020</td>\n",
       "    </tr>\n",
       "    <tr>\n",
       "      <th>19</th>\n",
       "      <td>1793000</td>\n",
       "      <td>The Duplex - Asoke- Luxury 92sqm</td>\n",
       "      <td>9407280</td>\n",
       "      <td>Timo</td>\n",
       "      <td>Vadhana</td>\n",
       "      <td>13.746680</td>\n",
       "      <td>100.561370</td>\n",
       "      <td>Entire home/apt</td>\n",
       "      <td>5034</td>\n",
       "      <td>21</td>\n",
       "      <td>287</td>\n",
       "      <td>1</td>\n",
       "      <td>349</td>\n",
       "      <td>3</td>\n",
       "      <td>2022</td>\n",
       "    </tr>\n",
       "    <tr>\n",
       "      <th>34</th>\n",
       "      <td>978531</td>\n",
       "      <td>Urban Oasis in the heart of Bangkok</td>\n",
       "      <td>5309669</td>\n",
       "      <td>Apiradee</td>\n",
       "      <td>Sathon</td>\n",
       "      <td>13.722910</td>\n",
       "      <td>100.537590</td>\n",
       "      <td>Entire home/apt</td>\n",
       "      <td>5429</td>\n",
       "      <td>2</td>\n",
       "      <td>3</td>\n",
       "      <td>3</td>\n",
       "      <td>174</td>\n",
       "      <td>0</td>\n",
       "      <td>2018</td>\n",
       "    </tr>\n",
       "    <tr>\n",
       "      <th>48</th>\n",
       "      <td>185364</td>\n",
       "      <td>Beautiful Wood Bangkok Resort House</td>\n",
       "      <td>889670</td>\n",
       "      <td>Narumon</td>\n",
       "      <td>Nong Chok</td>\n",
       "      <td>13.779000</td>\n",
       "      <td>100.836710</td>\n",
       "      <td>Entire home/apt</td>\n",
       "      <td>8658</td>\n",
       "      <td>1</td>\n",
       "      <td>0</td>\n",
       "      <td>1</td>\n",
       "      <td>363</td>\n",
       "      <td>0</td>\n",
       "      <td>0</td>\n",
       "    </tr>\n",
       "    <tr>\n",
       "      <th>...</th>\n",
       "      <td>...</td>\n",
       "      <td>...</td>\n",
       "      <td>...</td>\n",
       "      <td>...</td>\n",
       "      <td>...</td>\n",
       "      <td>...</td>\n",
       "      <td>...</td>\n",
       "      <td>...</td>\n",
       "      <td>...</td>\n",
       "      <td>...</td>\n",
       "      <td>...</td>\n",
       "      <td>...</td>\n",
       "      <td>...</td>\n",
       "      <td>...</td>\n",
       "      <td>...</td>\n",
       "    </tr>\n",
       "    <tr>\n",
       "      <th>15756</th>\n",
       "      <td>786741911434733026</td>\n",
       "      <td>Private Home for 12-16 Guests 8 Parking</td>\n",
       "      <td>435016000</td>\n",
       "      <td>Tadchon</td>\n",
       "      <td>Lat Phrao</td>\n",
       "      <td>13.827958</td>\n",
       "      <td>100.591895</td>\n",
       "      <td>Entire home/apt</td>\n",
       "      <td>17900</td>\n",
       "      <td>2</td>\n",
       "      <td>0</td>\n",
       "      <td>10</td>\n",
       "      <td>362</td>\n",
       "      <td>0</td>\n",
       "      <td>0</td>\n",
       "    </tr>\n",
       "    <tr>\n",
       "      <th>15757</th>\n",
       "      <td>786742271004207966</td>\n",
       "      <td>Private Hotel for 12-16 Guests</td>\n",
       "      <td>435016000</td>\n",
       "      <td>Tadchon</td>\n",
       "      <td>Chatu Chak</td>\n",
       "      <td>13.821809</td>\n",
       "      <td>100.563067</td>\n",
       "      <td>Private room</td>\n",
       "      <td>17900</td>\n",
       "      <td>2</td>\n",
       "      <td>0</td>\n",
       "      <td>10</td>\n",
       "      <td>362</td>\n",
       "      <td>0</td>\n",
       "      <td>0</td>\n",
       "    </tr>\n",
       "    <tr>\n",
       "      <th>15765</th>\n",
       "      <td>786834873763460489</td>\n",
       "      <td>Cozy 1 bedroom 40 sqm, central</td>\n",
       "      <td>434168399</td>\n",
       "      <td>Krittika</td>\n",
       "      <td>Vadhana</td>\n",
       "      <td>13.735632</td>\n",
       "      <td>100.567862</td>\n",
       "      <td>Entire home/apt</td>\n",
       "      <td>7589</td>\n",
       "      <td>1</td>\n",
       "      <td>0</td>\n",
       "      <td>44</td>\n",
       "      <td>364</td>\n",
       "      <td>0</td>\n",
       "      <td>0</td>\n",
       "    </tr>\n",
       "    <tr>\n",
       "      <th>15766</th>\n",
       "      <td>786852847114140309</td>\n",
       "      <td>Cozy 1 bedroom 40 sqm, central</td>\n",
       "      <td>434168399</td>\n",
       "      <td>Krittika</td>\n",
       "      <td>Vadhana</td>\n",
       "      <td>13.734753</td>\n",
       "      <td>100.566682</td>\n",
       "      <td>Entire home/apt</td>\n",
       "      <td>7589</td>\n",
       "      <td>1</td>\n",
       "      <td>0</td>\n",
       "      <td>44</td>\n",
       "      <td>364</td>\n",
       "      <td>0</td>\n",
       "      <td>0</td>\n",
       "    </tr>\n",
       "    <tr>\n",
       "      <th>15767</th>\n",
       "      <td>786853604983296847</td>\n",
       "      <td>Grandio Ladprao 3 Bed 3 Bath</td>\n",
       "      <td>435016000</td>\n",
       "      <td>Tadchon</td>\n",
       "      <td>Bueng Kum</td>\n",
       "      <td>13.797979</td>\n",
       "      <td>100.659953</td>\n",
       "      <td>Entire home/apt</td>\n",
       "      <td>8900</td>\n",
       "      <td>3</td>\n",
       "      <td>0</td>\n",
       "      <td>10</td>\n",
       "      <td>364</td>\n",
       "      <td>0</td>\n",
       "      <td>0</td>\n",
       "    </tr>\n",
       "  </tbody>\n",
       "</table>\n",
       "<p>1403 rows × 15 columns</p>\n",
       "</div>"
      ],
      "text/plain": [
       "                       id                                     name    host_id  \\\n",
       "17                  66046         24Flr- 1br Apt near JJ, MRT, BTS     323158   \n",
       "18                 105042      Central Bangkok 3 Bedroom Apartment     545890   \n",
       "19                1793000         The Duplex - Asoke- Luxury 92sqm    9407280   \n",
       "34                 978531      Urban Oasis in the heart of Bangkok    5309669   \n",
       "48                 185364      Beautiful Wood Bangkok Resort House     889670   \n",
       "...                   ...                                      ...        ...   \n",
       "15756  786741911434733026  Private Home for 12-16 Guests 8 Parking  435016000   \n",
       "15757  786742271004207966           Private Hotel for 12-16 Guests  435016000   \n",
       "15765  786834873763460489           Cozy 1 bedroom 40 sqm, central  434168399   \n",
       "15766  786852847114140309           Cozy 1 bedroom 40 sqm, central  434168399   \n",
       "15767  786853604983296847             Grandio Ladprao 3 Bed 3 Bath  435016000   \n",
       "\n",
       "      host_name neighbourhood   latitude   longitude        room_type   price  \\\n",
       "17          Sue    Chatu Chak  13.822980  100.564840  Entire home/apt  122594   \n",
       "18        Henry   Khlong Toei  13.733780  100.563030  Entire home/apt    5680   \n",
       "19         Timo       Vadhana  13.746680  100.561370  Entire home/apt    5034   \n",
       "34     Apiradee        Sathon  13.722910  100.537590  Entire home/apt    5429   \n",
       "48      Narumon     Nong Chok  13.779000  100.836710  Entire home/apt    8658   \n",
       "...         ...           ...        ...         ...              ...     ...   \n",
       "15756   Tadchon     Lat Phrao  13.827958  100.591895  Entire home/apt   17900   \n",
       "15757   Tadchon    Chatu Chak  13.821809  100.563067     Private room   17900   \n",
       "15765  Krittika       Vadhana  13.735632  100.567862  Entire home/apt    7589   \n",
       "15766  Krittika       Vadhana  13.734753  100.566682  Entire home/apt    7589   \n",
       "15767   Tadchon     Bueng Kum  13.797979  100.659953  Entire home/apt    8900   \n",
       "\n",
       "       minimum_nights  number_of_reviews  calculated_host_listings_count  \\\n",
       "17                  2                  9                               6   \n",
       "18                 28                148                               1   \n",
       "19                 21                287                               1   \n",
       "34                  2                  3                               3   \n",
       "48                  1                  0                               1   \n",
       "...               ...                ...                             ...   \n",
       "15756               2                  0                              10   \n",
       "15757               2                  0                              10   \n",
       "15765               1                  0                              44   \n",
       "15766               1                  0                              44   \n",
       "15767               3                  0                              10   \n",
       "\n",
       "       availability_365  number_of_reviews_ltm  year_last_review  \n",
       "17                  180                      0              2020  \n",
       "18                  334                      0              2020  \n",
       "19                  349                      3              2022  \n",
       "34                  174                      0              2018  \n",
       "48                  363                      0                 0  \n",
       "...                 ...                    ...               ...  \n",
       "15756               362                      0                 0  \n",
       "15757               362                      0                 0  \n",
       "15765               364                      0                 0  \n",
       "15766               364                      0                 0  \n",
       "15767               364                      0                 0  \n",
       "\n",
       "[1403 rows x 15 columns]"
      ]
     },
     "execution_count": 32,
     "metadata": {},
     "output_type": "execute_result"
    }
   ],
   "source": [
    "outlier_upper = df1d[(df1d['price'] > upper_bound)]\n",
    "outlier_upper"
   ]
  },
  {
   "cell_type": "code",
   "execution_count": 33,
   "id": "74cbc9bd",
   "metadata": {},
   "outputs": [
    {
     "data": {
      "text/plain": [
       "8.85005992556614"
      ]
     },
     "execution_count": 33,
     "metadata": {},
     "output_type": "execute_result"
    }
   ],
   "source": [
    "len(outlier_upper) / len(df1d) *100"
   ]
  },
  {
   "cell_type": "markdown",
   "id": "bbc16106",
   "metadata": {},
   "source": [
    "based on calculation, there are 1403 row of outlier data in terms of price and that as big as 8.85% of total rows and i think that still make sense to just drop those rows with this argument"
   ]
  },
  {
   "cell_type": "code",
   "execution_count": 34,
   "id": "a06379f6",
   "metadata": {},
   "outputs": [
    {
     "data": {
      "text/html": [
       "<div>\n",
       "<style scoped>\n",
       "    .dataframe tbody tr th:only-of-type {\n",
       "        vertical-align: middle;\n",
       "    }\n",
       "\n",
       "    .dataframe tbody tr th {\n",
       "        vertical-align: top;\n",
       "    }\n",
       "\n",
       "    .dataframe thead th {\n",
       "        text-align: right;\n",
       "    }\n",
       "</style>\n",
       "<table border=\"1\" class=\"dataframe\">\n",
       "  <thead>\n",
       "    <tr style=\"text-align: right;\">\n",
       "      <th></th>\n",
       "      <th>id</th>\n",
       "      <th>name</th>\n",
       "      <th>host_id</th>\n",
       "      <th>host_name</th>\n",
       "      <th>neighbourhood</th>\n",
       "      <th>latitude</th>\n",
       "      <th>longitude</th>\n",
       "      <th>room_type</th>\n",
       "      <th>price</th>\n",
       "      <th>minimum_nights</th>\n",
       "      <th>number_of_reviews</th>\n",
       "      <th>calculated_host_listings_count</th>\n",
       "      <th>availability_365</th>\n",
       "      <th>number_of_reviews_ltm</th>\n",
       "      <th>year_last_review</th>\n",
       "    </tr>\n",
       "  </thead>\n",
       "  <tbody>\n",
       "    <tr>\n",
       "      <th>0</th>\n",
       "      <td>27934</td>\n",
       "      <td>Nice room with superb city view</td>\n",
       "      <td>120437</td>\n",
       "      <td>Nuttee</td>\n",
       "      <td>Ratchathewi</td>\n",
       "      <td>13.759830</td>\n",
       "      <td>100.541340</td>\n",
       "      <td>Entire home/apt</td>\n",
       "      <td>1905</td>\n",
       "      <td>3</td>\n",
       "      <td>65</td>\n",
       "      <td>2</td>\n",
       "      <td>353</td>\n",
       "      <td>0</td>\n",
       "      <td>2020</td>\n",
       "    </tr>\n",
       "    <tr>\n",
       "      <th>1</th>\n",
       "      <td>27979</td>\n",
       "      <td>Easy going landlord,easy place</td>\n",
       "      <td>120541</td>\n",
       "      <td>Emy</td>\n",
       "      <td>Bang Na</td>\n",
       "      <td>13.668180</td>\n",
       "      <td>100.616740</td>\n",
       "      <td>Private room</td>\n",
       "      <td>1316</td>\n",
       "      <td>1</td>\n",
       "      <td>0</td>\n",
       "      <td>2</td>\n",
       "      <td>358</td>\n",
       "      <td>0</td>\n",
       "      <td>0</td>\n",
       "    </tr>\n",
       "    <tr>\n",
       "      <th>2</th>\n",
       "      <td>28745</td>\n",
       "      <td>modern-style apartment in Bangkok</td>\n",
       "      <td>123784</td>\n",
       "      <td>Familyroom</td>\n",
       "      <td>Bang Kapi</td>\n",
       "      <td>13.752320</td>\n",
       "      <td>100.624020</td>\n",
       "      <td>Private room</td>\n",
       "      <td>800</td>\n",
       "      <td>60</td>\n",
       "      <td>0</td>\n",
       "      <td>1</td>\n",
       "      <td>365</td>\n",
       "      <td>0</td>\n",
       "      <td>0</td>\n",
       "    </tr>\n",
       "    <tr>\n",
       "      <th>3</th>\n",
       "      <td>35780</td>\n",
       "      <td>Spacious one bedroom at The Kris Condo Bldg. 3</td>\n",
       "      <td>153730</td>\n",
       "      <td>Sirilak</td>\n",
       "      <td>Din Daeng</td>\n",
       "      <td>13.788230</td>\n",
       "      <td>100.572560</td>\n",
       "      <td>Private room</td>\n",
       "      <td>1286</td>\n",
       "      <td>7</td>\n",
       "      <td>2</td>\n",
       "      <td>1</td>\n",
       "      <td>323</td>\n",
       "      <td>1</td>\n",
       "      <td>2022</td>\n",
       "    </tr>\n",
       "    <tr>\n",
       "      <th>4</th>\n",
       "      <td>941865</td>\n",
       "      <td>Suite Room 3 at MetroPoint</td>\n",
       "      <td>610315</td>\n",
       "      <td>Kasem</td>\n",
       "      <td>Bang Kapi</td>\n",
       "      <td>13.768720</td>\n",
       "      <td>100.633380</td>\n",
       "      <td>Private room</td>\n",
       "      <td>1905</td>\n",
       "      <td>1</td>\n",
       "      <td>0</td>\n",
       "      <td>3</td>\n",
       "      <td>365</td>\n",
       "      <td>0</td>\n",
       "      <td>0</td>\n",
       "    </tr>\n",
       "    <tr>\n",
       "      <th>...</th>\n",
       "      <td>...</td>\n",
       "      <td>...</td>\n",
       "      <td>...</td>\n",
       "      <td>...</td>\n",
       "      <td>...</td>\n",
       "      <td>...</td>\n",
       "      <td>...</td>\n",
       "      <td>...</td>\n",
       "      <td>...</td>\n",
       "      <td>...</td>\n",
       "      <td>...</td>\n",
       "      <td>...</td>\n",
       "      <td>...</td>\n",
       "      <td>...</td>\n",
       "      <td>...</td>\n",
       "    </tr>\n",
       "    <tr>\n",
       "      <th>15849</th>\n",
       "      <td>790465040741092826</td>\n",
       "      <td>素坤逸核心两房公寓42楼，靠近BTSon nut/无边天际泳池观赏曼谷夜景/出门当地美食街</td>\n",
       "      <td>94899359</td>\n",
       "      <td>Renee</td>\n",
       "      <td>Pra Wet</td>\n",
       "      <td>13.715132</td>\n",
       "      <td>100.653458</td>\n",
       "      <td>Private room</td>\n",
       "      <td>2298</td>\n",
       "      <td>28</td>\n",
       "      <td>0</td>\n",
       "      <td>1</td>\n",
       "      <td>362</td>\n",
       "      <td>0</td>\n",
       "      <td>0</td>\n",
       "    </tr>\n",
       "    <tr>\n",
       "      <th>15850</th>\n",
       "      <td>790474503157243541</td>\n",
       "      <td>Euro LuxuryHotel PratunamMKt TripleBdNrShoping...</td>\n",
       "      <td>491526222</td>\n",
       "      <td>Phakhamon</td>\n",
       "      <td>Ratchathewi</td>\n",
       "      <td>13.753052</td>\n",
       "      <td>100.538738</td>\n",
       "      <td>Private room</td>\n",
       "      <td>1429</td>\n",
       "      <td>1</td>\n",
       "      <td>0</td>\n",
       "      <td>14</td>\n",
       "      <td>365</td>\n",
       "      <td>0</td>\n",
       "      <td>0</td>\n",
       "    </tr>\n",
       "    <tr>\n",
       "      <th>15851</th>\n",
       "      <td>790475335086864240</td>\n",
       "      <td>Euro LuxuryHotel PratunamMKt TwinBedNrShopingArea</td>\n",
       "      <td>491526222</td>\n",
       "      <td>Phakhamon</td>\n",
       "      <td>Ratchathewi</td>\n",
       "      <td>13.753169</td>\n",
       "      <td>100.538700</td>\n",
       "      <td>Private room</td>\n",
       "      <td>1214</td>\n",
       "      <td>1</td>\n",
       "      <td>0</td>\n",
       "      <td>14</td>\n",
       "      <td>365</td>\n",
       "      <td>0</td>\n",
       "      <td>0</td>\n",
       "    </tr>\n",
       "    <tr>\n",
       "      <th>15852</th>\n",
       "      <td>790475546213717328</td>\n",
       "      <td>Euro LuxuryHotel PratunamMKt TwinBedNrShopingArea</td>\n",
       "      <td>491526222</td>\n",
       "      <td>Phakhamon</td>\n",
       "      <td>Ratchathewi</td>\n",
       "      <td>13.754789</td>\n",
       "      <td>100.538757</td>\n",
       "      <td>Private room</td>\n",
       "      <td>1214</td>\n",
       "      <td>1</td>\n",
       "      <td>0</td>\n",
       "      <td>14</td>\n",
       "      <td>365</td>\n",
       "      <td>0</td>\n",
       "      <td>0</td>\n",
       "    </tr>\n",
       "    <tr>\n",
       "      <th>15853</th>\n",
       "      <td>790476492384199044</td>\n",
       "      <td>Euro LuxuryHotel PratunamMKt TwinBedNrShopingArea</td>\n",
       "      <td>491526222</td>\n",
       "      <td>Phakhamon</td>\n",
       "      <td>Ratchathewi</td>\n",
       "      <td>13.752960</td>\n",
       "      <td>100.540820</td>\n",
       "      <td>Private room</td>\n",
       "      <td>1214</td>\n",
       "      <td>1</td>\n",
       "      <td>0</td>\n",
       "      <td>14</td>\n",
       "      <td>365</td>\n",
       "      <td>0</td>\n",
       "      <td>0</td>\n",
       "    </tr>\n",
       "  </tbody>\n",
       "</table>\n",
       "<p>14450 rows × 15 columns</p>\n",
       "</div>"
      ],
      "text/plain": [
       "                       id                                               name  \\\n",
       "0                   27934                    Nice room with superb city view   \n",
       "1                   27979                     Easy going landlord,easy place   \n",
       "2                   28745                  modern-style apartment in Bangkok   \n",
       "3                   35780     Spacious one bedroom at The Kris Condo Bldg. 3   \n",
       "4                  941865                         Suite Room 3 at MetroPoint   \n",
       "...                   ...                                                ...   \n",
       "15849  790465040741092826      素坤逸核心两房公寓42楼，靠近BTSon nut/无边天际泳池观赏曼谷夜景/出门当地美食街   \n",
       "15850  790474503157243541  Euro LuxuryHotel PratunamMKt TripleBdNrShoping...   \n",
       "15851  790475335086864240  Euro LuxuryHotel PratunamMKt TwinBedNrShopingArea   \n",
       "15852  790475546213717328  Euro LuxuryHotel PratunamMKt TwinBedNrShopingArea   \n",
       "15853  790476492384199044  Euro LuxuryHotel PratunamMKt TwinBedNrShopingArea   \n",
       "\n",
       "         host_id   host_name neighbourhood   latitude   longitude  \\\n",
       "0         120437      Nuttee   Ratchathewi  13.759830  100.541340   \n",
       "1         120541         Emy       Bang Na  13.668180  100.616740   \n",
       "2         123784  Familyroom     Bang Kapi  13.752320  100.624020   \n",
       "3         153730     Sirilak     Din Daeng  13.788230  100.572560   \n",
       "4         610315       Kasem     Bang Kapi  13.768720  100.633380   \n",
       "...          ...         ...           ...        ...         ...   \n",
       "15849   94899359       Renee       Pra Wet  13.715132  100.653458   \n",
       "15850  491526222   Phakhamon   Ratchathewi  13.753052  100.538738   \n",
       "15851  491526222   Phakhamon   Ratchathewi  13.753169  100.538700   \n",
       "15852  491526222   Phakhamon   Ratchathewi  13.754789  100.538757   \n",
       "15853  491526222   Phakhamon   Ratchathewi  13.752960  100.540820   \n",
       "\n",
       "             room_type  price  minimum_nights  number_of_reviews  \\\n",
       "0      Entire home/apt   1905               3                 65   \n",
       "1         Private room   1316               1                  0   \n",
       "2         Private room    800              60                  0   \n",
       "3         Private room   1286               7                  2   \n",
       "4         Private room   1905               1                  0   \n",
       "...                ...    ...             ...                ...   \n",
       "15849     Private room   2298              28                  0   \n",
       "15850     Private room   1429               1                  0   \n",
       "15851     Private room   1214               1                  0   \n",
       "15852     Private room   1214               1                  0   \n",
       "15853     Private room   1214               1                  0   \n",
       "\n",
       "       calculated_host_listings_count  availability_365  \\\n",
       "0                                   2               353   \n",
       "1                                   2               358   \n",
       "2                                   1               365   \n",
       "3                                   1               323   \n",
       "4                                   3               365   \n",
       "...                               ...               ...   \n",
       "15849                               1               362   \n",
       "15850                              14               365   \n",
       "15851                              14               365   \n",
       "15852                              14               365   \n",
       "15853                              14               365   \n",
       "\n",
       "       number_of_reviews_ltm  year_last_review  \n",
       "0                          0              2020  \n",
       "1                          0                 0  \n",
       "2                          0                 0  \n",
       "3                          1              2022  \n",
       "4                          0                 0  \n",
       "...                      ...               ...  \n",
       "15849                      0                 0  \n",
       "15850                      0                 0  \n",
       "15851                      0                 0  \n",
       "15852                      0                 0  \n",
       "15853                      0                 0  \n",
       "\n",
       "[14450 rows x 15 columns]"
      ]
     },
     "execution_count": 34,
     "metadata": {},
     "output_type": "execute_result"
    }
   ],
   "source": [
    "df1d = df1d[(df1d['price'] < upper_bound)]\n",
    "df1d"
   ]
  },
  {
   "cell_type": "markdown",
   "id": "5774be45",
   "metadata": {},
   "source": [
    "tersisa 14450 row setelah dropping 1403 outlier"
   ]
  },
  {
   "cell_type": "code",
   "execution_count": 35,
   "id": "76fb9cd2",
   "metadata": {},
   "outputs": [
    {
     "data": {
      "text/plain": [
       "array(['Ratchathewi', 'Bang Na', 'Bang Kapi', 'Din Daeng',\n",
       "       'Bang Kho laen', 'Rat Burana', 'Chatu Chak', 'Khlong San',\n",
       "       'Bang Rak', 'Phaya Thai', 'Sathon', 'Khlong Toei', 'Sai Mai',\n",
       "       'Vadhana', 'Lat Krabang', 'Bangkok Yai', 'Wang Thong Lang',\n",
       "       'Huai Khwang', 'Phasi Charoen', 'Bang Sue', 'Phra Khanong',\n",
       "       'Thawi Watthana', 'Parthum Wan', 'Pra Wet', 'Thon buri',\n",
       "       'Yan na wa', 'Suanluang', 'Don Mueang', 'Dusit', 'Lak Si',\n",
       "       'Phra Nakhon', 'Samphanthawong', 'Bueng Kum', 'Bang Phlat',\n",
       "       'Nong Chok', 'Saphan Sung', 'Min Buri', 'Khan Na Yao',\n",
       "       'Khlong Sam Wa', 'Bang Khen', 'Lat Phrao', 'Chom Thong',\n",
       "       'Bangkok Noi', 'Pom Prap Sattru Phai', 'Nong Khaem', 'Thung khru',\n",
       "       'Bang Khae', 'Bang Khun thain', 'Taling Chan', 'Bang Bon'],\n",
       "      dtype=object)"
      ]
     },
     "execution_count": 35,
     "metadata": {},
     "output_type": "execute_result"
    }
   ],
   "source": [
    "df1d['neighbourhood'].unique()"
   ]
  },
  {
   "cell_type": "markdown",
   "id": "3c40dd47",
   "metadata": {},
   "source": [
    "all of those are valid in bangkok"
   ]
  },
  {
   "cell_type": "code",
   "execution_count": 40,
   "id": "fc4fc5da",
   "metadata": {},
   "outputs": [],
   "source": [
    "df1d['occupancy_days'] = df1d['minimum_nights'] * df1d['number_of_reviews']"
   ]
  },
  {
   "cell_type": "markdown",
   "id": "d24fe8f9",
   "metadata": {},
   "source": [
    "kolom occupancy_days ini dibuat sebagai anggapan total occuapancy dari tahun tahun sebelumnya (2012-2021). <-- tahun tau dari occupancynya ada yang sampai 3650 yang berarti data ini sudah di ada dari 10-11 tahun yang lalu (last_review ada di tahun 2022 sebelum di drop). cross check lewat google dan memang airbnb listing bangkok sudah ada dari tahun 2012"
   ]
  },
  {
   "cell_type": "code",
   "execution_count": 41,
   "id": "d007b168",
   "metadata": {},
   "outputs": [],
   "source": [
    "def categorize_stay(minimum_nights):\n",
    "    if minimum_nights <= 6:\n",
    "        return \"Short\"\n",
    "    elif minimum_nights <= 29:\n",
    "        return \"Medium\"\n",
    "    elif minimum_nights <= 90:\n",
    "        return \"Long\"\n",
    "    else:\n",
    "        return \"Extended\""
   ]
  },
  {
   "cell_type": "code",
   "execution_count": 42,
   "id": "36d8a6a1",
   "metadata": {},
   "outputs": [],
   "source": [
    "df1d['category_stay'] = df1d['minimum_nights'].apply(categorize_stay)"
   ]
  },
  {
   "cell_type": "markdown",
   "id": "deeece73",
   "metadata": {},
   "source": [
    "and to make the minumum_nights more easy to understand, i just categorized into 4 category\n",
    "- minimum nights with no more than 6 days can be said as short stay or short vacation\n",
    "- medium stay with more than 6 days but no more than 1 month stay\n",
    "- long stay can be categorized as long vacation to refresh their life. \n",
    "- extended stay is the ultimate stay that mostly popular for college student, intern, people who move because of job requirement and people with similar situation\n",
    "\n",
    "so, minimum nights with more than 3 month is not necessarily rare and that data cannot be anomaly or wrong input in this case"
   ]
  },
  {
   "cell_type": "code",
   "execution_count": 43,
   "id": "cd4f0591",
   "metadata": {},
   "outputs": [
    {
     "data": {
      "text/plain": [
       "id                                0\n",
       "name                              7\n",
       "host_id                           0\n",
       "host_name                         1\n",
       "neighbourhood                     0\n",
       "latitude                          0\n",
       "longitude                         0\n",
       "room_type                         0\n",
       "price                             0\n",
       "minimum_nights                    0\n",
       "number_of_reviews                 0\n",
       "calculated_host_listings_count    0\n",
       "availability_365                  0\n",
       "number_of_reviews_ltm             0\n",
       "year_last_review                  0\n",
       "occupancy_days                    0\n",
       "category_stay                     0\n",
       "dtype: int64"
      ]
     },
     "execution_count": 43,
     "metadata": {},
     "output_type": "execute_result"
    }
   ],
   "source": [
    "df1d.isna().sum()"
   ]
  },
  {
   "cell_type": "code",
   "execution_count": 45,
   "id": "95434a6a",
   "metadata": {},
   "outputs": [
    {
     "data": {
      "text/html": [
       "<div>\n",
       "<style scoped>\n",
       "    .dataframe tbody tr th:only-of-type {\n",
       "        vertical-align: middle;\n",
       "    }\n",
       "\n",
       "    .dataframe tbody tr th {\n",
       "        vertical-align: top;\n",
       "    }\n",
       "\n",
       "    .dataframe thead th {\n",
       "        text-align: right;\n",
       "    }\n",
       "</style>\n",
       "<table border=\"1\" class=\"dataframe\">\n",
       "  <thead>\n",
       "    <tr style=\"text-align: right;\">\n",
       "      <th></th>\n",
       "      <th>id</th>\n",
       "      <th>name</th>\n",
       "      <th>host_id</th>\n",
       "      <th>host_name</th>\n",
       "      <th>neighbourhood</th>\n",
       "      <th>latitude</th>\n",
       "      <th>longitude</th>\n",
       "      <th>room_type</th>\n",
       "      <th>price</th>\n",
       "      <th>minimum_nights</th>\n",
       "      <th>number_of_reviews</th>\n",
       "      <th>calculated_host_listings_count</th>\n",
       "      <th>availability_365</th>\n",
       "      <th>number_of_reviews_ltm</th>\n",
       "      <th>year_last_review</th>\n",
       "      <th>occupancy_days</th>\n",
       "      <th>category_stay</th>\n",
       "    </tr>\n",
       "  </thead>\n",
       "  <tbody>\n",
       "  </tbody>\n",
       "</table>\n",
       "</div>"
      ],
      "text/plain": [
       "Empty DataFrame\n",
       "Columns: [id, name, host_id, host_name, neighbourhood, latitude, longitude, room_type, price, minimum_nights, number_of_reviews, calculated_host_listings_count, availability_365, number_of_reviews_ltm, year_last_review, occupancy_days, category_stay]\n",
       "Index: []"
      ]
     },
     "execution_count": 45,
     "metadata": {},
     "output_type": "execute_result"
    }
   ],
   "source": [
    "df1d.query(\"availability_365 > 365\")"
   ]
  },
  {
   "cell_type": "code",
   "execution_count": 46,
   "id": "5ba8f70c",
   "metadata": {},
   "outputs": [
    {
     "data": {
      "text/plain": [
       "id                                0\n",
       "name                              7\n",
       "host_id                           0\n",
       "host_name                         1\n",
       "neighbourhood                     0\n",
       "latitude                          0\n",
       "longitude                         0\n",
       "room_type                         0\n",
       "price                             0\n",
       "minimum_nights                    0\n",
       "number_of_reviews                 0\n",
       "calculated_host_listings_count    0\n",
       "availability_365                  0\n",
       "number_of_reviews_ltm             0\n",
       "year_last_review                  0\n",
       "occupancy_days                    0\n",
       "category_stay                     0\n",
       "dtype: int64"
      ]
     },
     "execution_count": 46,
     "metadata": {},
     "output_type": "execute_result"
    }
   ],
   "source": [
    "df1d.isna().sum()"
   ]
  },
  {
   "cell_type": "code",
   "execution_count": 47,
   "id": "1607f657",
   "metadata": {},
   "outputs": [
    {
     "data": {
      "text/plain": [
       "14450"
      ]
     },
     "execution_count": 47,
     "metadata": {},
     "output_type": "execute_result"
    }
   ],
   "source": [
    "len(df1d)"
   ]
  },
  {
   "cell_type": "markdown",
   "id": "cc4ec8f6",
   "metadata": {},
   "source": [
    "mini checkpoint"
   ]
  },
  {
   "cell_type": "code",
   "execution_count": 48,
   "id": "dc8b03d3",
   "metadata": {},
   "outputs": [],
   "source": [
    "df1e = df1d.copy()"
   ]
  },
  {
   "cell_type": "code",
   "execution_count": 49,
   "id": "4f21ee5b",
   "metadata": {},
   "outputs": [],
   "source": [
    "df1e = df1e.dropna(subset=['name', 'host_name'])"
   ]
  },
  {
   "cell_type": "code",
   "execution_count": 50,
   "id": "5d80da08",
   "metadata": {},
   "outputs": [
    {
     "data": {
      "text/plain": [
       "14442"
      ]
     },
     "execution_count": 50,
     "metadata": {},
     "output_type": "execute_result"
    }
   ],
   "source": [
    "len(df1e)"
   ]
  },
  {
   "cell_type": "code",
   "execution_count": 51,
   "id": "f5d5b572",
   "metadata": {},
   "outputs": [
    {
     "name": "stdout",
     "output_type": "stream",
     "text": [
      "<class 'pandas.core.frame.DataFrame'>\n",
      "Index: 14442 entries, 0 to 15853\n",
      "Data columns (total 17 columns):\n",
      " #   Column                          Non-Null Count  Dtype  \n",
      "---  ------                          --------------  -----  \n",
      " 0   id                              14442 non-null  int64  \n",
      " 1   name                            14442 non-null  object \n",
      " 2   host_id                         14442 non-null  int64  \n",
      " 3   host_name                       14442 non-null  object \n",
      " 4   neighbourhood                   14442 non-null  object \n",
      " 5   latitude                        14442 non-null  float64\n",
      " 6   longitude                       14442 non-null  float64\n",
      " 7   room_type                       14442 non-null  object \n",
      " 8   price                           14442 non-null  int64  \n",
      " 9   minimum_nights                  14442 non-null  int64  \n",
      " 10  number_of_reviews               14442 non-null  int64  \n",
      " 11  calculated_host_listings_count  14442 non-null  int64  \n",
      " 12  availability_365                14442 non-null  int64  \n",
      " 13  number_of_reviews_ltm           14442 non-null  int64  \n",
      " 14  year_last_review                14442 non-null  int64  \n",
      " 15  occupancy_days                  14442 non-null  int64  \n",
      " 16  category_stay                   14442 non-null  object \n",
      "dtypes: float64(2), int64(10), object(5)\n",
      "memory usage: 2.0+ MB\n"
     ]
    }
   ],
   "source": [
    "df1e.info()"
   ]
  },
  {
   "cell_type": "code",
   "execution_count": 52,
   "id": "2f3c1ace",
   "metadata": {},
   "outputs": [
    {
     "data": {
      "text/plain": [
       "id                                0\n",
       "name                              0\n",
       "host_id                           0\n",
       "host_name                         0\n",
       "neighbourhood                     0\n",
       "latitude                          0\n",
       "longitude                         0\n",
       "room_type                         0\n",
       "price                             0\n",
       "minimum_nights                    0\n",
       "number_of_reviews                 0\n",
       "calculated_host_listings_count    0\n",
       "availability_365                  0\n",
       "number_of_reviews_ltm             0\n",
       "year_last_review                  0\n",
       "occupancy_days                    0\n",
       "category_stay                     0\n",
       "dtype: int64"
      ]
     },
     "execution_count": 52,
     "metadata": {},
     "output_type": "execute_result"
    }
   ],
   "source": [
    "df1e.isna().sum()"
   ]
  },
  {
   "cell_type": "code",
   "execution_count": 53,
   "id": "62b46d84",
   "metadata": {},
   "outputs": [
    {
     "data": {
      "text/html": [
       "<div>\n",
       "<style scoped>\n",
       "    .dataframe tbody tr th:only-of-type {\n",
       "        vertical-align: middle;\n",
       "    }\n",
       "\n",
       "    .dataframe tbody tr th {\n",
       "        vertical-align: top;\n",
       "    }\n",
       "\n",
       "    .dataframe thead th {\n",
       "        text-align: right;\n",
       "    }\n",
       "</style>\n",
       "<table border=\"1\" class=\"dataframe\">\n",
       "  <thead>\n",
       "    <tr style=\"text-align: right;\">\n",
       "      <th></th>\n",
       "      <th>id</th>\n",
       "      <th>name</th>\n",
       "      <th>host_id</th>\n",
       "      <th>host_name</th>\n",
       "      <th>neighbourhood</th>\n",
       "      <th>latitude</th>\n",
       "      <th>longitude</th>\n",
       "      <th>room_type</th>\n",
       "      <th>price</th>\n",
       "      <th>minimum_nights</th>\n",
       "      <th>number_of_reviews</th>\n",
       "      <th>calculated_host_listings_count</th>\n",
       "      <th>availability_365</th>\n",
       "      <th>number_of_reviews_ltm</th>\n",
       "      <th>year_last_review</th>\n",
       "      <th>occupancy_days</th>\n",
       "      <th>category_stay</th>\n",
       "      <th>booked_365</th>\n",
       "    </tr>\n",
       "  </thead>\n",
       "  <tbody>\n",
       "    <tr>\n",
       "      <th>0</th>\n",
       "      <td>27934</td>\n",
       "      <td>Nice room with superb city view</td>\n",
       "      <td>120437</td>\n",
       "      <td>Nuttee</td>\n",
       "      <td>Ratchathewi</td>\n",
       "      <td>13.759830</td>\n",
       "      <td>100.541340</td>\n",
       "      <td>Entire home/apt</td>\n",
       "      <td>1905</td>\n",
       "      <td>3</td>\n",
       "      <td>65</td>\n",
       "      <td>2</td>\n",
       "      <td>353</td>\n",
       "      <td>0</td>\n",
       "      <td>2020</td>\n",
       "      <td>195</td>\n",
       "      <td>Short</td>\n",
       "      <td>12</td>\n",
       "    </tr>\n",
       "    <tr>\n",
       "      <th>1</th>\n",
       "      <td>27979</td>\n",
       "      <td>Easy going landlord,easy place</td>\n",
       "      <td>120541</td>\n",
       "      <td>Emy</td>\n",
       "      <td>Bang Na</td>\n",
       "      <td>13.668180</td>\n",
       "      <td>100.616740</td>\n",
       "      <td>Private room</td>\n",
       "      <td>1316</td>\n",
       "      <td>1</td>\n",
       "      <td>0</td>\n",
       "      <td>2</td>\n",
       "      <td>358</td>\n",
       "      <td>0</td>\n",
       "      <td>0</td>\n",
       "      <td>0</td>\n",
       "      <td>Short</td>\n",
       "      <td>7</td>\n",
       "    </tr>\n",
       "    <tr>\n",
       "      <th>2</th>\n",
       "      <td>28745</td>\n",
       "      <td>modern-style apartment in Bangkok</td>\n",
       "      <td>123784</td>\n",
       "      <td>Familyroom</td>\n",
       "      <td>Bang Kapi</td>\n",
       "      <td>13.752320</td>\n",
       "      <td>100.624020</td>\n",
       "      <td>Private room</td>\n",
       "      <td>800</td>\n",
       "      <td>60</td>\n",
       "      <td>0</td>\n",
       "      <td>1</td>\n",
       "      <td>365</td>\n",
       "      <td>0</td>\n",
       "      <td>0</td>\n",
       "      <td>0</td>\n",
       "      <td>Long</td>\n",
       "      <td>0</td>\n",
       "    </tr>\n",
       "    <tr>\n",
       "      <th>3</th>\n",
       "      <td>35780</td>\n",
       "      <td>Spacious one bedroom at The Kris Condo Bldg. 3</td>\n",
       "      <td>153730</td>\n",
       "      <td>Sirilak</td>\n",
       "      <td>Din Daeng</td>\n",
       "      <td>13.788230</td>\n",
       "      <td>100.572560</td>\n",
       "      <td>Private room</td>\n",
       "      <td>1286</td>\n",
       "      <td>7</td>\n",
       "      <td>2</td>\n",
       "      <td>1</td>\n",
       "      <td>323</td>\n",
       "      <td>1</td>\n",
       "      <td>2022</td>\n",
       "      <td>14</td>\n",
       "      <td>Medium</td>\n",
       "      <td>42</td>\n",
       "    </tr>\n",
       "    <tr>\n",
       "      <th>4</th>\n",
       "      <td>941865</td>\n",
       "      <td>Suite Room 3 at MetroPoint</td>\n",
       "      <td>610315</td>\n",
       "      <td>Kasem</td>\n",
       "      <td>Bang Kapi</td>\n",
       "      <td>13.768720</td>\n",
       "      <td>100.633380</td>\n",
       "      <td>Private room</td>\n",
       "      <td>1905</td>\n",
       "      <td>1</td>\n",
       "      <td>0</td>\n",
       "      <td>3</td>\n",
       "      <td>365</td>\n",
       "      <td>0</td>\n",
       "      <td>0</td>\n",
       "      <td>0</td>\n",
       "      <td>Short</td>\n",
       "      <td>0</td>\n",
       "    </tr>\n",
       "    <tr>\n",
       "      <th>...</th>\n",
       "      <td>...</td>\n",
       "      <td>...</td>\n",
       "      <td>...</td>\n",
       "      <td>...</td>\n",
       "      <td>...</td>\n",
       "      <td>...</td>\n",
       "      <td>...</td>\n",
       "      <td>...</td>\n",
       "      <td>...</td>\n",
       "      <td>...</td>\n",
       "      <td>...</td>\n",
       "      <td>...</td>\n",
       "      <td>...</td>\n",
       "      <td>...</td>\n",
       "      <td>...</td>\n",
       "      <td>...</td>\n",
       "      <td>...</td>\n",
       "      <td>...</td>\n",
       "    </tr>\n",
       "    <tr>\n",
       "      <th>15849</th>\n",
       "      <td>790465040741092826</td>\n",
       "      <td>素坤逸核心两房公寓42楼，靠近BTSon nut/无边天际泳池观赏曼谷夜景/出门当地美食街</td>\n",
       "      <td>94899359</td>\n",
       "      <td>Renee</td>\n",
       "      <td>Pra Wet</td>\n",
       "      <td>13.715132</td>\n",
       "      <td>100.653458</td>\n",
       "      <td>Private room</td>\n",
       "      <td>2298</td>\n",
       "      <td>28</td>\n",
       "      <td>0</td>\n",
       "      <td>1</td>\n",
       "      <td>362</td>\n",
       "      <td>0</td>\n",
       "      <td>0</td>\n",
       "      <td>0</td>\n",
       "      <td>Medium</td>\n",
       "      <td>3</td>\n",
       "    </tr>\n",
       "    <tr>\n",
       "      <th>15850</th>\n",
       "      <td>790474503157243541</td>\n",
       "      <td>Euro LuxuryHotel PratunamMKt TripleBdNrShoping...</td>\n",
       "      <td>491526222</td>\n",
       "      <td>Phakhamon</td>\n",
       "      <td>Ratchathewi</td>\n",
       "      <td>13.753052</td>\n",
       "      <td>100.538738</td>\n",
       "      <td>Private room</td>\n",
       "      <td>1429</td>\n",
       "      <td>1</td>\n",
       "      <td>0</td>\n",
       "      <td>14</td>\n",
       "      <td>365</td>\n",
       "      <td>0</td>\n",
       "      <td>0</td>\n",
       "      <td>0</td>\n",
       "      <td>Short</td>\n",
       "      <td>0</td>\n",
       "    </tr>\n",
       "    <tr>\n",
       "      <th>15851</th>\n",
       "      <td>790475335086864240</td>\n",
       "      <td>Euro LuxuryHotel PratunamMKt TwinBedNrShopingArea</td>\n",
       "      <td>491526222</td>\n",
       "      <td>Phakhamon</td>\n",
       "      <td>Ratchathewi</td>\n",
       "      <td>13.753169</td>\n",
       "      <td>100.538700</td>\n",
       "      <td>Private room</td>\n",
       "      <td>1214</td>\n",
       "      <td>1</td>\n",
       "      <td>0</td>\n",
       "      <td>14</td>\n",
       "      <td>365</td>\n",
       "      <td>0</td>\n",
       "      <td>0</td>\n",
       "      <td>0</td>\n",
       "      <td>Short</td>\n",
       "      <td>0</td>\n",
       "    </tr>\n",
       "    <tr>\n",
       "      <th>15852</th>\n",
       "      <td>790475546213717328</td>\n",
       "      <td>Euro LuxuryHotel PratunamMKt TwinBedNrShopingArea</td>\n",
       "      <td>491526222</td>\n",
       "      <td>Phakhamon</td>\n",
       "      <td>Ratchathewi</td>\n",
       "      <td>13.754789</td>\n",
       "      <td>100.538757</td>\n",
       "      <td>Private room</td>\n",
       "      <td>1214</td>\n",
       "      <td>1</td>\n",
       "      <td>0</td>\n",
       "      <td>14</td>\n",
       "      <td>365</td>\n",
       "      <td>0</td>\n",
       "      <td>0</td>\n",
       "      <td>0</td>\n",
       "      <td>Short</td>\n",
       "      <td>0</td>\n",
       "    </tr>\n",
       "    <tr>\n",
       "      <th>15853</th>\n",
       "      <td>790476492384199044</td>\n",
       "      <td>Euro LuxuryHotel PratunamMKt TwinBedNrShopingArea</td>\n",
       "      <td>491526222</td>\n",
       "      <td>Phakhamon</td>\n",
       "      <td>Ratchathewi</td>\n",
       "      <td>13.752960</td>\n",
       "      <td>100.540820</td>\n",
       "      <td>Private room</td>\n",
       "      <td>1214</td>\n",
       "      <td>1</td>\n",
       "      <td>0</td>\n",
       "      <td>14</td>\n",
       "      <td>365</td>\n",
       "      <td>0</td>\n",
       "      <td>0</td>\n",
       "      <td>0</td>\n",
       "      <td>Short</td>\n",
       "      <td>0</td>\n",
       "    </tr>\n",
       "  </tbody>\n",
       "</table>\n",
       "<p>14442 rows × 18 columns</p>\n",
       "</div>"
      ],
      "text/plain": [
       "                       id                                               name  \\\n",
       "0                   27934                    Nice room with superb city view   \n",
       "1                   27979                     Easy going landlord,easy place   \n",
       "2                   28745                  modern-style apartment in Bangkok   \n",
       "3                   35780     Spacious one bedroom at The Kris Condo Bldg. 3   \n",
       "4                  941865                         Suite Room 3 at MetroPoint   \n",
       "...                   ...                                                ...   \n",
       "15849  790465040741092826      素坤逸核心两房公寓42楼，靠近BTSon nut/无边天际泳池观赏曼谷夜景/出门当地美食街   \n",
       "15850  790474503157243541  Euro LuxuryHotel PratunamMKt TripleBdNrShoping...   \n",
       "15851  790475335086864240  Euro LuxuryHotel PratunamMKt TwinBedNrShopingArea   \n",
       "15852  790475546213717328  Euro LuxuryHotel PratunamMKt TwinBedNrShopingArea   \n",
       "15853  790476492384199044  Euro LuxuryHotel PratunamMKt TwinBedNrShopingArea   \n",
       "\n",
       "         host_id   host_name neighbourhood   latitude   longitude  \\\n",
       "0         120437      Nuttee   Ratchathewi  13.759830  100.541340   \n",
       "1         120541         Emy       Bang Na  13.668180  100.616740   \n",
       "2         123784  Familyroom     Bang Kapi  13.752320  100.624020   \n",
       "3         153730     Sirilak     Din Daeng  13.788230  100.572560   \n",
       "4         610315       Kasem     Bang Kapi  13.768720  100.633380   \n",
       "...          ...         ...           ...        ...         ...   \n",
       "15849   94899359       Renee       Pra Wet  13.715132  100.653458   \n",
       "15850  491526222   Phakhamon   Ratchathewi  13.753052  100.538738   \n",
       "15851  491526222   Phakhamon   Ratchathewi  13.753169  100.538700   \n",
       "15852  491526222   Phakhamon   Ratchathewi  13.754789  100.538757   \n",
       "15853  491526222   Phakhamon   Ratchathewi  13.752960  100.540820   \n",
       "\n",
       "             room_type  price  minimum_nights  number_of_reviews  \\\n",
       "0      Entire home/apt   1905               3                 65   \n",
       "1         Private room   1316               1                  0   \n",
       "2         Private room    800              60                  0   \n",
       "3         Private room   1286               7                  2   \n",
       "4         Private room   1905               1                  0   \n",
       "...                ...    ...             ...                ...   \n",
       "15849     Private room   2298              28                  0   \n",
       "15850     Private room   1429               1                  0   \n",
       "15851     Private room   1214               1                  0   \n",
       "15852     Private room   1214               1                  0   \n",
       "15853     Private room   1214               1                  0   \n",
       "\n",
       "       calculated_host_listings_count  availability_365  \\\n",
       "0                                   2               353   \n",
       "1                                   2               358   \n",
       "2                                   1               365   \n",
       "3                                   1               323   \n",
       "4                                   3               365   \n",
       "...                               ...               ...   \n",
       "15849                               1               362   \n",
       "15850                              14               365   \n",
       "15851                              14               365   \n",
       "15852                              14               365   \n",
       "15853                              14               365   \n",
       "\n",
       "       number_of_reviews_ltm  year_last_review  occupancy_days category_stay  \\\n",
       "0                          0              2020             195         Short   \n",
       "1                          0                 0               0         Short   \n",
       "2                          0                 0               0          Long   \n",
       "3                          1              2022              14        Medium   \n",
       "4                          0                 0               0         Short   \n",
       "...                      ...               ...             ...           ...   \n",
       "15849                      0                 0               0        Medium   \n",
       "15850                      0                 0               0         Short   \n",
       "15851                      0                 0               0         Short   \n",
       "15852                      0                 0               0         Short   \n",
       "15853                      0                 0               0         Short   \n",
       "\n",
       "       booked_365  \n",
       "0              12  \n",
       "1               7  \n",
       "2               0  \n",
       "3              42  \n",
       "4               0  \n",
       "...           ...  \n",
       "15849           3  \n",
       "15850           0  \n",
       "15851           0  \n",
       "15852           0  \n",
       "15853           0  \n",
       "\n",
       "[14442 rows x 18 columns]"
      ]
     },
     "execution_count": 53,
     "metadata": {},
     "output_type": "execute_result"
    }
   ],
   "source": [
    "df1e['booked_365'] = 365 - df1e['availability_365']\n",
    "df1e"
   ]
  },
  {
   "cell_type": "code",
   "execution_count": 54,
   "id": "68db6e73",
   "metadata": {},
   "outputs": [
    {
     "data": {
      "text/html": [
       "<div>\n",
       "<style scoped>\n",
       "    .dataframe tbody tr th:only-of-type {\n",
       "        vertical-align: middle;\n",
       "    }\n",
       "\n",
       "    .dataframe tbody tr th {\n",
       "        vertical-align: top;\n",
       "    }\n",
       "\n",
       "    .dataframe thead th {\n",
       "        text-align: right;\n",
       "    }\n",
       "</style>\n",
       "<table border=\"1\" class=\"dataframe\">\n",
       "  <thead>\n",
       "    <tr style=\"text-align: right;\">\n",
       "      <th></th>\n",
       "      <th>id</th>\n",
       "      <th>name</th>\n",
       "      <th>host_id</th>\n",
       "      <th>host_name</th>\n",
       "      <th>neighbourhood</th>\n",
       "      <th>latitude</th>\n",
       "      <th>longitude</th>\n",
       "      <th>room_type</th>\n",
       "      <th>price</th>\n",
       "      <th>minimum_nights</th>\n",
       "      <th>number_of_reviews</th>\n",
       "      <th>calculated_host_listings_count</th>\n",
       "      <th>availability_365</th>\n",
       "      <th>number_of_reviews_ltm</th>\n",
       "      <th>year_last_review</th>\n",
       "      <th>occupancy_days</th>\n",
       "      <th>category_stay</th>\n",
       "      <th>booked_365</th>\n",
       "    </tr>\n",
       "  </thead>\n",
       "  <tbody>\n",
       "    <tr>\n",
       "      <th>11</th>\n",
       "      <td>1765918</td>\n",
       "      <td>2BR apt in a cozy neighborhood</td>\n",
       "      <td>9279712</td>\n",
       "      <td>Jing</td>\n",
       "      <td>Phaya Thai</td>\n",
       "      <td>13.774860</td>\n",
       "      <td>100.542720</td>\n",
       "      <td>Entire home/apt</td>\n",
       "      <td>1893</td>\n",
       "      <td>15</td>\n",
       "      <td>129</td>\n",
       "      <td>1</td>\n",
       "      <td>356</td>\n",
       "      <td>1</td>\n",
       "      <td>2022</td>\n",
       "      <td>1935</td>\n",
       "      <td>Medium</td>\n",
       "      <td>9</td>\n",
       "    </tr>\n",
       "    <tr>\n",
       "      <th>22</th>\n",
       "      <td>965722</td>\n",
       "      <td>Siamese Gioia on Sukhumvit 31</td>\n",
       "      <td>5265861</td>\n",
       "      <td>Chuchart</td>\n",
       "      <td>Vadhana</td>\n",
       "      <td>13.744440</td>\n",
       "      <td>100.570030</td>\n",
       "      <td>Private room</td>\n",
       "      <td>3775</td>\n",
       "      <td>30</td>\n",
       "      <td>3</td>\n",
       "      <td>1</td>\n",
       "      <td>364</td>\n",
       "      <td>0</td>\n",
       "      <td>2018</td>\n",
       "      <td>90</td>\n",
       "      <td>Long</td>\n",
       "      <td>1</td>\n",
       "    </tr>\n",
       "    <tr>\n",
       "      <th>24</th>\n",
       "      <td>118118</td>\n",
       "      <td>Pan Dao Condo 5 min from BTS On Nut</td>\n",
       "      <td>596463</td>\n",
       "      <td>Dustin</td>\n",
       "      <td>Khlong Toei</td>\n",
       "      <td>13.704410</td>\n",
       "      <td>100.599680</td>\n",
       "      <td>Entire home/apt</td>\n",
       "      <td>1732</td>\n",
       "      <td>2</td>\n",
       "      <td>3</td>\n",
       "      <td>1</td>\n",
       "      <td>364</td>\n",
       "      <td>0</td>\n",
       "      <td>2013</td>\n",
       "      <td>6</td>\n",
       "      <td>Short</td>\n",
       "      <td>1</td>\n",
       "    </tr>\n",
       "    <tr>\n",
       "      <th>42</th>\n",
       "      <td>985743</td>\n",
       "      <td>Room with city view of BKK</td>\n",
       "      <td>5309669</td>\n",
       "      <td>Apiradee</td>\n",
       "      <td>Sathon</td>\n",
       "      <td>13.718030</td>\n",
       "      <td>100.546540</td>\n",
       "      <td>Private room</td>\n",
       "      <td>3500</td>\n",
       "      <td>3</td>\n",
       "      <td>0</td>\n",
       "      <td>3</td>\n",
       "      <td>363</td>\n",
       "      <td>0</td>\n",
       "      <td>0</td>\n",
       "      <td>0</td>\n",
       "      <td>Short</td>\n",
       "      <td>2</td>\n",
       "    </tr>\n",
       "    <tr>\n",
       "      <th>60</th>\n",
       "      <td>1898332</td>\n",
       "      <td>Apr. for rent full fur 1 bedroom, monthly</td>\n",
       "      <td>4837310</td>\n",
       "      <td>Veesa</td>\n",
       "      <td>Bang Na</td>\n",
       "      <td>13.678050</td>\n",
       "      <td>100.624510</td>\n",
       "      <td>Private room</td>\n",
       "      <td>400</td>\n",
       "      <td>180</td>\n",
       "      <td>0</td>\n",
       "      <td>1</td>\n",
       "      <td>364</td>\n",
       "      <td>0</td>\n",
       "      <td>0</td>\n",
       "      <td>0</td>\n",
       "      <td>Extended</td>\n",
       "      <td>1</td>\n",
       "    </tr>\n",
       "    <tr>\n",
       "      <th>...</th>\n",
       "      <td>...</td>\n",
       "      <td>...</td>\n",
       "      <td>...</td>\n",
       "      <td>...</td>\n",
       "      <td>...</td>\n",
       "      <td>...</td>\n",
       "      <td>...</td>\n",
       "      <td>...</td>\n",
       "      <td>...</td>\n",
       "      <td>...</td>\n",
       "      <td>...</td>\n",
       "      <td>...</td>\n",
       "      <td>...</td>\n",
       "      <td>...</td>\n",
       "      <td>...</td>\n",
       "      <td>...</td>\n",
       "      <td>...</td>\n",
       "      <td>...</td>\n",
       "    </tr>\n",
       "    <tr>\n",
       "      <th>15798</th>\n",
       "      <td>788897722497895498</td>\n",
       "      <td>市中心现代两房</td>\n",
       "      <td>133849226</td>\n",
       "      <td>Aidan</td>\n",
       "      <td>Ratchathewi</td>\n",
       "      <td>13.750811</td>\n",
       "      <td>100.556600</td>\n",
       "      <td>Entire home/apt</td>\n",
       "      <td>1548</td>\n",
       "      <td>30</td>\n",
       "      <td>0</td>\n",
       "      <td>20</td>\n",
       "      <td>361</td>\n",
       "      <td>0</td>\n",
       "      <td>0</td>\n",
       "      <td>0</td>\n",
       "      <td>Long</td>\n",
       "      <td>4</td>\n",
       "    </tr>\n",
       "    <tr>\n",
       "      <th>15806</th>\n",
       "      <td>789484901156712444</td>\n",
       "      <td>50m MRT, Big C, 1 BR condo with Sauna, Pool &amp; Gym</td>\n",
       "      <td>472715937</td>\n",
       "      <td>Kotcharat</td>\n",
       "      <td>Bang Sue</td>\n",
       "      <td>13.828505</td>\n",
       "      <td>100.527433</td>\n",
       "      <td>Entire home/apt</td>\n",
       "      <td>560</td>\n",
       "      <td>12</td>\n",
       "      <td>0</td>\n",
       "      <td>8</td>\n",
       "      <td>363</td>\n",
       "      <td>0</td>\n",
       "      <td>0</td>\n",
       "      <td>0</td>\n",
       "      <td>Medium</td>\n",
       "      <td>2</td>\n",
       "    </tr>\n",
       "    <tr>\n",
       "      <th>15833</th>\n",
       "      <td>790283533781929861</td>\n",
       "      <td>iSanook Suite 34 sqm 8</td>\n",
       "      <td>8663142</td>\n",
       "      <td>ISanook Hotel</td>\n",
       "      <td>Bang Rak</td>\n",
       "      <td>13.733555</td>\n",
       "      <td>100.522394</td>\n",
       "      <td>Private room</td>\n",
       "      <td>1900</td>\n",
       "      <td>30</td>\n",
       "      <td>0</td>\n",
       "      <td>45</td>\n",
       "      <td>363</td>\n",
       "      <td>0</td>\n",
       "      <td>0</td>\n",
       "      <td>0</td>\n",
       "      <td>Long</td>\n",
       "      <td>2</td>\n",
       "    </tr>\n",
       "    <tr>\n",
       "      <th>15840</th>\n",
       "      <td>790441848994752308</td>\n",
       "      <td>Sukhumvit Condo Next to BTS</td>\n",
       "      <td>34432625</td>\n",
       "      <td>Alex</td>\n",
       "      <td>Bang Na</td>\n",
       "      <td>13.665395</td>\n",
       "      <td>100.603951</td>\n",
       "      <td>Entire home/apt</td>\n",
       "      <td>1400</td>\n",
       "      <td>28</td>\n",
       "      <td>0</td>\n",
       "      <td>2</td>\n",
       "      <td>364</td>\n",
       "      <td>0</td>\n",
       "      <td>0</td>\n",
       "      <td>0</td>\n",
       "      <td>Medium</td>\n",
       "      <td>1</td>\n",
       "    </tr>\n",
       "    <tr>\n",
       "      <th>15849</th>\n",
       "      <td>790465040741092826</td>\n",
       "      <td>素坤逸核心两房公寓42楼，靠近BTSon nut/无边天际泳池观赏曼谷夜景/出门当地美食街</td>\n",
       "      <td>94899359</td>\n",
       "      <td>Renee</td>\n",
       "      <td>Pra Wet</td>\n",
       "      <td>13.715132</td>\n",
       "      <td>100.653458</td>\n",
       "      <td>Private room</td>\n",
       "      <td>2298</td>\n",
       "      <td>28</td>\n",
       "      <td>0</td>\n",
       "      <td>1</td>\n",
       "      <td>362</td>\n",
       "      <td>0</td>\n",
       "      <td>0</td>\n",
       "      <td>0</td>\n",
       "      <td>Medium</td>\n",
       "      <td>3</td>\n",
       "    </tr>\n",
       "  </tbody>\n",
       "</table>\n",
       "<p>872 rows × 18 columns</p>\n",
       "</div>"
      ],
      "text/plain": [
       "                       id                                               name  \\\n",
       "11                1765918                     2BR apt in a cozy neighborhood   \n",
       "22                 965722                      Siamese Gioia on Sukhumvit 31   \n",
       "24                 118118                Pan Dao Condo 5 min from BTS On Nut   \n",
       "42                 985743                         Room with city view of BKK   \n",
       "60                1898332          Apr. for rent full fur 1 bedroom, monthly   \n",
       "...                   ...                                                ...   \n",
       "15798  788897722497895498                                            市中心现代两房   \n",
       "15806  789484901156712444  50m MRT, Big C, 1 BR condo with Sauna, Pool & Gym   \n",
       "15833  790283533781929861                             iSanook Suite 34 sqm 8   \n",
       "15840  790441848994752308                        Sukhumvit Condo Next to BTS   \n",
       "15849  790465040741092826      素坤逸核心两房公寓42楼，靠近BTSon nut/无边天际泳池观赏曼谷夜景/出门当地美食街   \n",
       "\n",
       "         host_id      host_name neighbourhood   latitude   longitude  \\\n",
       "11       9279712           Jing    Phaya Thai  13.774860  100.542720   \n",
       "22       5265861       Chuchart       Vadhana  13.744440  100.570030   \n",
       "24        596463         Dustin   Khlong Toei  13.704410  100.599680   \n",
       "42       5309669       Apiradee        Sathon  13.718030  100.546540   \n",
       "60       4837310          Veesa       Bang Na  13.678050  100.624510   \n",
       "...          ...            ...           ...        ...         ...   \n",
       "15798  133849226          Aidan   Ratchathewi  13.750811  100.556600   \n",
       "15806  472715937      Kotcharat      Bang Sue  13.828505  100.527433   \n",
       "15833    8663142  ISanook Hotel      Bang Rak  13.733555  100.522394   \n",
       "15840   34432625           Alex       Bang Na  13.665395  100.603951   \n",
       "15849   94899359          Renee       Pra Wet  13.715132  100.653458   \n",
       "\n",
       "             room_type  price  minimum_nights  number_of_reviews  \\\n",
       "11     Entire home/apt   1893              15                129   \n",
       "22        Private room   3775              30                  3   \n",
       "24     Entire home/apt   1732               2                  3   \n",
       "42        Private room   3500               3                  0   \n",
       "60        Private room    400             180                  0   \n",
       "...                ...    ...             ...                ...   \n",
       "15798  Entire home/apt   1548              30                  0   \n",
       "15806  Entire home/apt    560              12                  0   \n",
       "15833     Private room   1900              30                  0   \n",
       "15840  Entire home/apt   1400              28                  0   \n",
       "15849     Private room   2298              28                  0   \n",
       "\n",
       "       calculated_host_listings_count  availability_365  \\\n",
       "11                                  1               356   \n",
       "22                                  1               364   \n",
       "24                                  1               364   \n",
       "42                                  3               363   \n",
       "60                                  1               364   \n",
       "...                               ...               ...   \n",
       "15798                              20               361   \n",
       "15806                               8               363   \n",
       "15833                              45               363   \n",
       "15840                               2               364   \n",
       "15849                               1               362   \n",
       "\n",
       "       number_of_reviews_ltm  year_last_review  occupancy_days category_stay  \\\n",
       "11                         1              2022            1935        Medium   \n",
       "22                         0              2018              90          Long   \n",
       "24                         0              2013               6         Short   \n",
       "42                         0                 0               0         Short   \n",
       "60                         0                 0               0      Extended   \n",
       "...                      ...               ...             ...           ...   \n",
       "15798                      0                 0               0          Long   \n",
       "15806                      0                 0               0        Medium   \n",
       "15833                      0                 0               0          Long   \n",
       "15840                      0                 0               0        Medium   \n",
       "15849                      0                 0               0        Medium   \n",
       "\n",
       "       booked_365  \n",
       "11              9  \n",
       "22              1  \n",
       "24              1  \n",
       "42              2  \n",
       "60              1  \n",
       "...           ...  \n",
       "15798           4  \n",
       "15806           2  \n",
       "15833           2  \n",
       "15840           1  \n",
       "15849           3  \n",
       "\n",
       "[872 rows x 18 columns]"
      ]
     },
     "execution_count": 54,
     "metadata": {},
     "output_type": "execute_result"
    }
   ],
   "source": [
    "df1e[(df1e['minimum_nights'] > df1e['booked_365']) &(df1e['booked_365'] > 0)]"
   ]
  },
  {
   "cell_type": "markdown",
   "id": "1fc37b7b",
   "metadata": {},
   "source": [
    "this cannot be categorized as anomaly or bad data because in the dictionary/airbnb listings the host can block date so the customer cannot book that date"
   ]
  },
  {
   "cell_type": "code",
   "execution_count": 59,
   "id": "173ce23b",
   "metadata": {},
   "outputs": [
    {
     "data": {
      "text/plain": [
       "id                                0\n",
       "name                              0\n",
       "host_id                           0\n",
       "host_name                         0\n",
       "neighbourhood                     0\n",
       "latitude                          0\n",
       "longitude                         0\n",
       "room_type                         0\n",
       "price                             0\n",
       "minimum_nights                    0\n",
       "number_of_reviews                 0\n",
       "calculated_host_listings_count    0\n",
       "availability_365                  0\n",
       "number_of_reviews_ltm             0\n",
       "year_last_review                  0\n",
       "occupancy_days                    0\n",
       "category_stay                     0\n",
       "booked_365                        0\n",
       "dtype: int64"
      ]
     },
     "execution_count": 59,
     "metadata": {},
     "output_type": "execute_result"
    }
   ],
   "source": [
    "df1e.isna().sum()"
   ]
  },
  {
   "cell_type": "markdown",
   "id": "345f15c0",
   "metadata": {},
   "source": [
    "no NaN anymore"
   ]
  },
  {
   "cell_type": "code",
   "execution_count": 60,
   "id": "00e68f9f",
   "metadata": {},
   "outputs": [],
   "source": [
    "df1e.to_csv('Airbnb_Listings_Bangkok_Clean2.csv')"
   ]
  },
  {
   "cell_type": "markdown",
   "id": "5f10427a",
   "metadata": {},
   "source": [
    "## Data Analysis\n",
    "Data akan dianalisis akan dibagi menjadi Supply Analysis, Demand Analysis, dan juga summary"
   ]
  },
  {
   "cell_type": "markdown",
   "id": "6326b561",
   "metadata": {},
   "source": [
    "## Supply Analysis\n",
    "- Treemap `Category Stay` in 2022 based on `Possible days` to book\n",
    "- Bar Chart `Room Type` Distribution based on `Possible days` to book\n",
    "- Pareto Chart `Neighbourhood` Domination based on `Possible days` to book\n",
    "- KPI section:\n",
    "- Lowest and Highest `average mean price` of `Neighbourhood`\n",
    "- `Maximum Possible days` in 2022\n",
    "- Top Host with most `Listings` in Bangkok"
   ]
  },
  {
   "cell_type": "markdown",
   "id": "6ae247e8",
   "metadata": {},
   "source": []
  },
  {
   "cell_type": "code",
   "execution_count": null,
   "id": "05017939",
   "metadata": {},
   "outputs": [],
   "source": [
    "import plotly.express as px"
   ]
  },
  {
   "cell_type": "code",
   "execution_count": null,
   "id": "b72da8ae",
   "metadata": {},
   "outputs": [
    {
     "name": "stderr",
     "output_type": "stream",
     "text": [
      "C:\\Users\\Ivan\\AppData\\Local\\Temp\\ipykernel_26232\\2594110189.py:2: SettingWithCopyWarning:\n",
      "\n",
      "\n",
      "A value is trying to be set on a copy of a slice from a DataFrame.\n",
      "Try using .loc[row_indexer,col_indexer] = value instead\n",
      "\n",
      "See the caveats in the documentation: https://pandas.pydata.org/pandas-docs/stable/user_guide/indexing.html#returning-a-view-versus-a-copy\n",
      "\n"
     ]
    }
   ],
   "source": [
    "df1f = df1e[['id', 'host_id', 'neighbourhood', 'room_type', 'category_stay', 'availability_365', 'booked_365']]\n",
    "df1f['possible_days'] = df1f['availability_365'] + df1f['booked_365']"
   ]
  },
  {
   "cell_type": "markdown",
   "id": "a7bf1741",
   "metadata": {},
   "source": [
    "### Treemap `Category Stay` in 2022 based on `Possible days` to book"
   ]
  },
  {
   "cell_type": "code",
   "execution_count": null,
   "id": "63cfc58b",
   "metadata": {},
   "outputs": [],
   "source": [
    "#grouping dulu\n",
    "df_grouped_by_possibledays = df1f.groupby(\"category_stay\", as_index=False)[\"possible_days\"].sum()"
   ]
  },
  {
   "cell_type": "code",
   "execution_count": null,
   "id": "8411af4b",
   "metadata": {},
   "outputs": [
    {
     "data": {
      "application/vnd.plotly.v1+json": {
       "config": {
        "plotlyServerURL": "https://plot.ly"
       },
       "data": [
        {
         "branchvalues": "total",
         "customdata": {
          "bdata": "AAAAAFgiAkEAAAAA7LAiQQAAAADOxiVBAAAAAH33TEE=",
          "dtype": "f8",
          "shape": "4, 1"
         },
         "domain": {
          "x": [
           0,
           1
          ],
          "y": [
           0,
           1
          ]
         },
         "hovertemplate": "labels=%{label}<br>possible_days_sum=%{value}<br>parent=%{parent}<br>id=%{id}<br>possible_days=%{color}<extra></extra>",
         "ids": [
          "Extended",
          "Long",
          "Medium",
          "Short"
         ],
         "labels": [
          "Extended",
          "Long",
          "Medium",
          "Short"
         ],
         "marker": {
          "coloraxis": "coloraxis",
          "colors": {
           "bdata": "AAAAAFgiAkEAAAAA7LAiQQAAAADOxiVBAAAAAH33TEE=",
           "dtype": "f8"
          }
         },
         "name": "",
         "parents": [
          "",
          "",
          "",
          ""
         ],
         "type": "treemap",
         "values": {
          "bdata": "AAAAAFgiAkEAAAAA7LAiQQAAAADOxiVBAAAAAH33TEE=",
          "dtype": "f8"
         }
        }
       ],
       "layout": {
        "coloraxis": {
         "colorbar": {
          "title": {
           "text": "possible_days"
          }
         },
         "colorscale": [
          [
           0,
           "rgb(209, 238, 234)"
          ],
          [
           0.16666666666666666,
           "rgb(168, 219, 217)"
          ],
          [
           0.3333333333333333,
           "rgb(133, 196, 201)"
          ],
          [
           0.5,
           "rgb(104, 171, 184)"
          ],
          [
           0.6666666666666666,
           "rgb(79, 144, 166)"
          ],
          [
           0.8333333333333334,
           "rgb(59, 115, 143)"
          ],
          [
           1,
           "rgb(42, 86, 116)"
          ]
         ]
        },
        "legend": {
         "tracegroupgap": 0
        },
        "template": {
         "data": {
          "bar": [
           {
            "error_x": {
             "color": "#2a3f5f"
            },
            "error_y": {
             "color": "#2a3f5f"
            },
            "marker": {
             "line": {
              "color": "#E5ECF6",
              "width": 0.5
             },
             "pattern": {
              "fillmode": "overlay",
              "size": 10,
              "solidity": 0.2
             }
            },
            "type": "bar"
           }
          ],
          "barpolar": [
           {
            "marker": {
             "line": {
              "color": "#E5ECF6",
              "width": 0.5
             },
             "pattern": {
              "fillmode": "overlay",
              "size": 10,
              "solidity": 0.2
             }
            },
            "type": "barpolar"
           }
          ],
          "carpet": [
           {
            "aaxis": {
             "endlinecolor": "#2a3f5f",
             "gridcolor": "white",
             "linecolor": "white",
             "minorgridcolor": "white",
             "startlinecolor": "#2a3f5f"
            },
            "baxis": {
             "endlinecolor": "#2a3f5f",
             "gridcolor": "white",
             "linecolor": "white",
             "minorgridcolor": "white",
             "startlinecolor": "#2a3f5f"
            },
            "type": "carpet"
           }
          ],
          "choropleth": [
           {
            "colorbar": {
             "outlinewidth": 0,
             "ticks": ""
            },
            "type": "choropleth"
           }
          ],
          "contour": [
           {
            "colorbar": {
             "outlinewidth": 0,
             "ticks": ""
            },
            "colorscale": [
             [
              0,
              "#0d0887"
             ],
             [
              0.1111111111111111,
              "#46039f"
             ],
             [
              0.2222222222222222,
              "#7201a8"
             ],
             [
              0.3333333333333333,
              "#9c179e"
             ],
             [
              0.4444444444444444,
              "#bd3786"
             ],
             [
              0.5555555555555556,
              "#d8576b"
             ],
             [
              0.6666666666666666,
              "#ed7953"
             ],
             [
              0.7777777777777778,
              "#fb9f3a"
             ],
             [
              0.8888888888888888,
              "#fdca26"
             ],
             [
              1,
              "#f0f921"
             ]
            ],
            "type": "contour"
           }
          ],
          "contourcarpet": [
           {
            "colorbar": {
             "outlinewidth": 0,
             "ticks": ""
            },
            "type": "contourcarpet"
           }
          ],
          "heatmap": [
           {
            "colorbar": {
             "outlinewidth": 0,
             "ticks": ""
            },
            "colorscale": [
             [
              0,
              "#0d0887"
             ],
             [
              0.1111111111111111,
              "#46039f"
             ],
             [
              0.2222222222222222,
              "#7201a8"
             ],
             [
              0.3333333333333333,
              "#9c179e"
             ],
             [
              0.4444444444444444,
              "#bd3786"
             ],
             [
              0.5555555555555556,
              "#d8576b"
             ],
             [
              0.6666666666666666,
              "#ed7953"
             ],
             [
              0.7777777777777778,
              "#fb9f3a"
             ],
             [
              0.8888888888888888,
              "#fdca26"
             ],
             [
              1,
              "#f0f921"
             ]
            ],
            "type": "heatmap"
           }
          ],
          "histogram": [
           {
            "marker": {
             "pattern": {
              "fillmode": "overlay",
              "size": 10,
              "solidity": 0.2
             }
            },
            "type": "histogram"
           }
          ],
          "histogram2d": [
           {
            "colorbar": {
             "outlinewidth": 0,
             "ticks": ""
            },
            "colorscale": [
             [
              0,
              "#0d0887"
             ],
             [
              0.1111111111111111,
              "#46039f"
             ],
             [
              0.2222222222222222,
              "#7201a8"
             ],
             [
              0.3333333333333333,
              "#9c179e"
             ],
             [
              0.4444444444444444,
              "#bd3786"
             ],
             [
              0.5555555555555556,
              "#d8576b"
             ],
             [
              0.6666666666666666,
              "#ed7953"
             ],
             [
              0.7777777777777778,
              "#fb9f3a"
             ],
             [
              0.8888888888888888,
              "#fdca26"
             ],
             [
              1,
              "#f0f921"
             ]
            ],
            "type": "histogram2d"
           }
          ],
          "histogram2dcontour": [
           {
            "colorbar": {
             "outlinewidth": 0,
             "ticks": ""
            },
            "colorscale": [
             [
              0,
              "#0d0887"
             ],
             [
              0.1111111111111111,
              "#46039f"
             ],
             [
              0.2222222222222222,
              "#7201a8"
             ],
             [
              0.3333333333333333,
              "#9c179e"
             ],
             [
              0.4444444444444444,
              "#bd3786"
             ],
             [
              0.5555555555555556,
              "#d8576b"
             ],
             [
              0.6666666666666666,
              "#ed7953"
             ],
             [
              0.7777777777777778,
              "#fb9f3a"
             ],
             [
              0.8888888888888888,
              "#fdca26"
             ],
             [
              1,
              "#f0f921"
             ]
            ],
            "type": "histogram2dcontour"
           }
          ],
          "mesh3d": [
           {
            "colorbar": {
             "outlinewidth": 0,
             "ticks": ""
            },
            "type": "mesh3d"
           }
          ],
          "parcoords": [
           {
            "line": {
             "colorbar": {
              "outlinewidth": 0,
              "ticks": ""
             }
            },
            "type": "parcoords"
           }
          ],
          "pie": [
           {
            "automargin": true,
            "type": "pie"
           }
          ],
          "scatter": [
           {
            "fillpattern": {
             "fillmode": "overlay",
             "size": 10,
             "solidity": 0.2
            },
            "type": "scatter"
           }
          ],
          "scatter3d": [
           {
            "line": {
             "colorbar": {
              "outlinewidth": 0,
              "ticks": ""
             }
            },
            "marker": {
             "colorbar": {
              "outlinewidth": 0,
              "ticks": ""
             }
            },
            "type": "scatter3d"
           }
          ],
          "scattercarpet": [
           {
            "marker": {
             "colorbar": {
              "outlinewidth": 0,
              "ticks": ""
             }
            },
            "type": "scattercarpet"
           }
          ],
          "scattergeo": [
           {
            "marker": {
             "colorbar": {
              "outlinewidth": 0,
              "ticks": ""
             }
            },
            "type": "scattergeo"
           }
          ],
          "scattergl": [
           {
            "marker": {
             "colorbar": {
              "outlinewidth": 0,
              "ticks": ""
             }
            },
            "type": "scattergl"
           }
          ],
          "scattermap": [
           {
            "marker": {
             "colorbar": {
              "outlinewidth": 0,
              "ticks": ""
             }
            },
            "type": "scattermap"
           }
          ],
          "scattermapbox": [
           {
            "marker": {
             "colorbar": {
              "outlinewidth": 0,
              "ticks": ""
             }
            },
            "type": "scattermapbox"
           }
          ],
          "scatterpolar": [
           {
            "marker": {
             "colorbar": {
              "outlinewidth": 0,
              "ticks": ""
             }
            },
            "type": "scatterpolar"
           }
          ],
          "scatterpolargl": [
           {
            "marker": {
             "colorbar": {
              "outlinewidth": 0,
              "ticks": ""
             }
            },
            "type": "scatterpolargl"
           }
          ],
          "scatterternary": [
           {
            "marker": {
             "colorbar": {
              "outlinewidth": 0,
              "ticks": ""
             }
            },
            "type": "scatterternary"
           }
          ],
          "surface": [
           {
            "colorbar": {
             "outlinewidth": 0,
             "ticks": ""
            },
            "colorscale": [
             [
              0,
              "#0d0887"
             ],
             [
              0.1111111111111111,
              "#46039f"
             ],
             [
              0.2222222222222222,
              "#7201a8"
             ],
             [
              0.3333333333333333,
              "#9c179e"
             ],
             [
              0.4444444444444444,
              "#bd3786"
             ],
             [
              0.5555555555555556,
              "#d8576b"
             ],
             [
              0.6666666666666666,
              "#ed7953"
             ],
             [
              0.7777777777777778,
              "#fb9f3a"
             ],
             [
              0.8888888888888888,
              "#fdca26"
             ],
             [
              1,
              "#f0f921"
             ]
            ],
            "type": "surface"
           }
          ],
          "table": [
           {
            "cells": {
             "fill": {
              "color": "#EBF0F8"
             },
             "line": {
              "color": "white"
             }
            },
            "header": {
             "fill": {
              "color": "#C8D4E3"
             },
             "line": {
              "color": "white"
             }
            },
            "type": "table"
           }
          ]
         },
         "layout": {
          "annotationdefaults": {
           "arrowcolor": "#2a3f5f",
           "arrowhead": 0,
           "arrowwidth": 1
          },
          "autotypenumbers": "strict",
          "coloraxis": {
           "colorbar": {
            "outlinewidth": 0,
            "ticks": ""
           }
          },
          "colorscale": {
           "diverging": [
            [
             0,
             "#8e0152"
            ],
            [
             0.1,
             "#c51b7d"
            ],
            [
             0.2,
             "#de77ae"
            ],
            [
             0.3,
             "#f1b6da"
            ],
            [
             0.4,
             "#fde0ef"
            ],
            [
             0.5,
             "#f7f7f7"
            ],
            [
             0.6,
             "#e6f5d0"
            ],
            [
             0.7,
             "#b8e186"
            ],
            [
             0.8,
             "#7fbc41"
            ],
            [
             0.9,
             "#4d9221"
            ],
            [
             1,
             "#276419"
            ]
           ],
           "sequential": [
            [
             0,
             "#0d0887"
            ],
            [
             0.1111111111111111,
             "#46039f"
            ],
            [
             0.2222222222222222,
             "#7201a8"
            ],
            [
             0.3333333333333333,
             "#9c179e"
            ],
            [
             0.4444444444444444,
             "#bd3786"
            ],
            [
             0.5555555555555556,
             "#d8576b"
            ],
            [
             0.6666666666666666,
             "#ed7953"
            ],
            [
             0.7777777777777778,
             "#fb9f3a"
            ],
            [
             0.8888888888888888,
             "#fdca26"
            ],
            [
             1,
             "#f0f921"
            ]
           ],
           "sequentialminus": [
            [
             0,
             "#0d0887"
            ],
            [
             0.1111111111111111,
             "#46039f"
            ],
            [
             0.2222222222222222,
             "#7201a8"
            ],
            [
             0.3333333333333333,
             "#9c179e"
            ],
            [
             0.4444444444444444,
             "#bd3786"
            ],
            [
             0.5555555555555556,
             "#d8576b"
            ],
            [
             0.6666666666666666,
             "#ed7953"
            ],
            [
             0.7777777777777778,
             "#fb9f3a"
            ],
            [
             0.8888888888888888,
             "#fdca26"
            ],
            [
             1,
             "#f0f921"
            ]
           ]
          },
          "colorway": [
           "#636efa",
           "#EF553B",
           "#00cc96",
           "#ab63fa",
           "#FFA15A",
           "#19d3f3",
           "#FF6692",
           "#B6E880",
           "#FF97FF",
           "#FECB52"
          ],
          "font": {
           "color": "#2a3f5f"
          },
          "geo": {
           "bgcolor": "white",
           "lakecolor": "white",
           "landcolor": "#E5ECF6",
           "showlakes": true,
           "showland": true,
           "subunitcolor": "white"
          },
          "hoverlabel": {
           "align": "left"
          },
          "hovermode": "closest",
          "mapbox": {
           "style": "light"
          },
          "paper_bgcolor": "white",
          "plot_bgcolor": "#E5ECF6",
          "polar": {
           "angularaxis": {
            "gridcolor": "white",
            "linecolor": "white",
            "ticks": ""
           },
           "bgcolor": "#E5ECF6",
           "radialaxis": {
            "gridcolor": "white",
            "linecolor": "white",
            "ticks": ""
           }
          },
          "scene": {
           "xaxis": {
            "backgroundcolor": "#E5ECF6",
            "gridcolor": "white",
            "gridwidth": 2,
            "linecolor": "white",
            "showbackground": true,
            "ticks": "",
            "zerolinecolor": "white"
           },
           "yaxis": {
            "backgroundcolor": "#E5ECF6",
            "gridcolor": "white",
            "gridwidth": 2,
            "linecolor": "white",
            "showbackground": true,
            "ticks": "",
            "zerolinecolor": "white"
           },
           "zaxis": {
            "backgroundcolor": "#E5ECF6",
            "gridcolor": "white",
            "gridwidth": 2,
            "linecolor": "white",
            "showbackground": true,
            "ticks": "",
            "zerolinecolor": "white"
           }
          },
          "shapedefaults": {
           "line": {
            "color": "#2a3f5f"
           }
          },
          "ternary": {
           "aaxis": {
            "gridcolor": "white",
            "linecolor": "white",
            "ticks": ""
           },
           "baxis": {
            "gridcolor": "white",
            "linecolor": "white",
            "ticks": ""
           },
           "bgcolor": "#E5ECF6",
           "caxis": {
            "gridcolor": "white",
            "linecolor": "white",
            "ticks": ""
           }
          },
          "title": {
           "x": 0.05
          },
          "xaxis": {
           "automargin": true,
           "gridcolor": "white",
           "linecolor": "white",
           "ticks": "",
           "title": {
            "standoff": 15
           },
           "zerolinecolor": "white",
           "zerolinewidth": 2
          },
          "yaxis": {
           "automargin": true,
           "gridcolor": "white",
           "linecolor": "white",
           "ticks": "",
           "title": {
            "standoff": 15
           },
           "zerolinecolor": "white",
           "zerolinewidth": 2
          }
         }
        },
        "title": {
         "text": "Supply: Category Stay by Possible booked days in Year 2022"
        }
       }
      }
     },
     "metadata": {},
     "output_type": "display_data"
    }
   ],
   "source": [
    "# treemap\n",
    "fig = px.treemap(df_grouped_by_possibledays, \n",
    "                 path=['category_stay'], \n",
    "                 values='possible_days', \n",
    "                 title=\"Supply: Category Stay by Possible booked days in Year 2022\",\n",
    "                 color='possible_days',\n",
    "                 color_continuous_scale='Teal'\n",
    "                 )\n",
    "fig.show()"
   ]
  },
  {
   "cell_type": "markdown",
   "id": "b4afcf09",
   "metadata": {},
   "source": [
    "dari visualisasi treemap, dapat dikatakan bahwa \n",
    "- `short stay` mendominasi dari segi `category stay` dengan total 3.8 Million possible booked days.\n",
    "- disusul dengan `medium stay`, `long stay`, dan yang terakhir adalah `extended stay`.\n",
    "- dominasi `short stay` ini sangat membantu customer untuk memilih tempat karena secara minimum nights mereka tidak terlalu pusing dan punya banyak pilihan.\n",
    "- di tahun 2022 sendiri, host mungkin juga sudah mengerti kalau banyak orang yang sudah ingin vacation tetapi tetap hanya beberapa hari untuk menghindari covid-19.\n",
    "- selain itu karena tourist rebound ini banyak juga yang menjual tempat untuk disewa dengan `minimum night` sedikit.\n",
    "- `extended stay` tidak terlalu banyak karena bangkok bukan kota pelajar dimana banyak mahasiswa yang datang ke bangkok untuk belajar di perguruan tinggi tetapi tetap cukup untuk orang orang yang mencoba merantau atau pendatang yang pindah pekerjaan/intern\n"
   ]
  },
  {
   "cell_type": "markdown",
   "id": "d8f88efe",
   "metadata": {},
   "source": [
    "### Bar Chart `Room Type` Distribution based on `Possible days` to book"
   ]
  },
  {
   "cell_type": "code",
   "execution_count": 105,
   "id": "b83aa028",
   "metadata": {},
   "outputs": [
    {
     "name": "stderr",
     "output_type": "stream",
     "text": [
      "C:\\Users\\Ivan\\AppData\\Local\\Temp\\ipykernel_26232\\2594110189.py:2: SettingWithCopyWarning:\n",
      "\n",
      "\n",
      "A value is trying to be set on a copy of a slice from a DataFrame.\n",
      "Try using .loc[row_indexer,col_indexer] = value instead\n",
      "\n",
      "See the caveats in the documentation: https://pandas.pydata.org/pandas-docs/stable/user_guide/indexing.html#returning-a-view-versus-a-copy\n",
      "\n"
     ]
    }
   ],
   "source": [
    "df1f = df1e[['id', 'host_id', 'neighbourhood', 'room_type', 'category_stay', 'availability_365', 'booked_365']]\n",
    "df1f['possible_days'] = df1f['availability_365'] + df1f['booked_365']"
   ]
  },
  {
   "cell_type": "code",
   "execution_count": null,
   "id": "6b841797",
   "metadata": {},
   "outputs": [
    {
     "data": {
      "image/png": "[encoded data removed]",
      "text/plain": [
       "<Figure size 640x480 with 1 Axes>"
      ]
     },
     "metadata": {},
     "output_type": "display_data"
    }
   ],
   "source": [
    "#bar plot\n",
    "bar = sns.barplot(data= df1f, \n",
    "            x = 'room_type', \n",
    "            y= 'possible_days',\n",
    "            hue= 'room_type',\n",
    "            estimator = np.sum\n",
    "            )\n",
    "plt.title('Room Type Distribution by Total Possible Days to book')\n",
    "\n",
    "#annotate\n",
    "for p in bar.patches:\n",
    "    bar.annotate(f\"{int(p.get_height())}\", \n",
    "                (p.get_x() + p.get_width() / 2., p.get_height()), \n",
    "                ha='center', va='bottom', fontsize=9, color='black')\n",
    "plt.show()"
   ]
  },
  {
   "cell_type": "markdown",
   "id": "5aed7c3f",
   "metadata": {},
   "source": [
    "Visualisasi dari distribusi room type ini menggambarkan bahwa:\n",
    "- `entire hoom/apt` menjadi pilihan paling diminati host untuk disewakan dibandingkan dipisah menjadi `private room/shared room` dengan total possible days hampir `3 Million days`.\n",
    "- `private room` menduduki posisi kedua dengan `hampir 2 Million possible days` to book melihat ada juga kategori customer yang datang sendiri/tidak banyak dan hanya ingin menyewa 1 ruangan saja untuk menghemat uang.\n",
    "- `hotel room` disini tidak memiliki banyak possible days to book karena dari hotelnya sendiri hanya memberikan beberapa persen dari total ruangan hotel yang dapat disewa melalui airbnb bangkok. Kemungkinan juga ada aplikasi lain yang menjual secara spesifik hotel room atau bahkan dari hotelnya sendiri masih merasa menjual secara konvensional lebih menguntungkan dengan tidakadanya percentage cut dari aplikasi pihak ketiga.\n",
    "- `shared room` tidak terlalu disukai host untuk disewa karena sudah `terbiasa menyewakan 1 ruangan langsung ataupun 1 rumah`. banyak juga tantangan untuk menyewakan shared room di bangkok seperti kurangnya privasi untuk customer melakukan aktivitas di dalam kamar.\n"
   ]
  },
  {
   "cell_type": "markdown",
   "id": "66478378",
   "metadata": {},
   "source": [
    "### Pareto Chart: `Neighbourhood` Domination based on `Possible Days` to book"
   ]
  },
  {
   "cell_type": "code",
   "execution_count": null,
   "id": "165548d6",
   "metadata": {},
   "outputs": [],
   "source": [
    "#grouiping neighbourhood dari possible days\n",
    "df_possibledays_by_neigh = (\n",
    "    df1f.groupby(\"neighbourhood\", as_index=False)[\"possible_days\"]\n",
    "        .sum()\n",
    "        .sort_values(by=\"possible_days\", ascending=False)\n",
    "        .reset_index(drop=True)\n",
    ")"
   ]
  },
  {
   "cell_type": "code",
   "execution_count": null,
   "id": "f91e4fdd",
   "metadata": {},
   "outputs": [],
   "source": [
    "#pembuatan cumulativesum sama percentage buat line chartnya\n",
    "df_possibledays_by_neigh['cumulativesum'] = df_possibledays_by_neigh['possible_days'].cumsum()\n",
    "df_possibledays_by_neigh['cumulativepercentage'] = 100 * df_possibledays_by_neigh['cumulativesum'] / df_possibledays_by_neigh['possible_days'].sum()"
   ]
  },
  {
   "cell_type": "code",
   "execution_count": 116,
   "id": "5420b913",
   "metadata": {},
   "outputs": [
    {
     "data": {
      "text/html": [
       "<div>\n",
       "<style scoped>\n",
       "    .dataframe tbody tr th:only-of-type {\n",
       "        vertical-align: middle;\n",
       "    }\n",
       "\n",
       "    .dataframe tbody tr th {\n",
       "        vertical-align: top;\n",
       "    }\n",
       "\n",
       "    .dataframe thead th {\n",
       "        text-align: right;\n",
       "    }\n",
       "</style>\n",
       "<table border=\"1\" class=\"dataframe\">\n",
       "  <thead>\n",
       "    <tr style=\"text-align: right;\">\n",
       "      <th></th>\n",
       "      <th>neighbourhood</th>\n",
       "      <th>possible_days</th>\n",
       "      <th>cumulativesum</th>\n",
       "      <th>cumulativepercentage</th>\n",
       "    </tr>\n",
       "  </thead>\n",
       "  <tbody>\n",
       "    <tr>\n",
       "      <th>0</th>\n",
       "      <td>Khlong Toei</td>\n",
       "      <td>688390</td>\n",
       "      <td>688390</td>\n",
       "      <td>13.059133</td>\n",
       "    </tr>\n",
       "    <tr>\n",
       "      <th>1</th>\n",
       "      <td>Vadhana</td>\n",
       "      <td>645320</td>\n",
       "      <td>1333710</td>\n",
       "      <td>25.301205</td>\n",
       "    </tr>\n",
       "    <tr>\n",
       "      <th>2</th>\n",
       "      <td>Ratchathewi</td>\n",
       "      <td>386170</td>\n",
       "      <td>1719880</td>\n",
       "      <td>32.627060</td>\n",
       "    </tr>\n",
       "    <tr>\n",
       "      <th>3</th>\n",
       "      <td>Huai Khwang</td>\n",
       "      <td>376315</td>\n",
       "      <td>2096195</td>\n",
       "      <td>39.765960</td>\n",
       "    </tr>\n",
       "    <tr>\n",
       "      <th>4</th>\n",
       "      <td>Sathon</td>\n",
       "      <td>278130</td>\n",
       "      <td>2374325</td>\n",
       "      <td>45.042238</td>\n",
       "    </tr>\n",
       "    <tr>\n",
       "      <th>5</th>\n",
       "      <td>Bang Rak</td>\n",
       "      <td>269370</td>\n",
       "      <td>2643695</td>\n",
       "      <td>50.152333</td>\n",
       "    </tr>\n",
       "    <tr>\n",
       "      <th>6</th>\n",
       "      <td>Phra Nakhon</td>\n",
       "      <td>213525</td>\n",
       "      <td>2857220</td>\n",
       "      <td>54.203019</td>\n",
       "    </tr>\n",
       "    <tr>\n",
       "      <th>7</th>\n",
       "      <td>Phra Khanong</td>\n",
       "      <td>196735</td>\n",
       "      <td>3053955</td>\n",
       "      <td>57.935189</td>\n",
       "    </tr>\n",
       "    <tr>\n",
       "      <th>8</th>\n",
       "      <td>Chatu Chak</td>\n",
       "      <td>190530</td>\n",
       "      <td>3244485</td>\n",
       "      <td>61.549647</td>\n",
       "    </tr>\n",
       "    <tr>\n",
       "      <th>9</th>\n",
       "      <td>Bang Na</td>\n",
       "      <td>156585</td>\n",
       "      <td>3401070</td>\n",
       "      <td>64.520150</td>\n",
       "    </tr>\n",
       "    <tr>\n",
       "      <th>10</th>\n",
       "      <td>Din Daeng</td>\n",
       "      <td>155125</td>\n",
       "      <td>3556195</td>\n",
       "      <td>67.462955</td>\n",
       "    </tr>\n",
       "    <tr>\n",
       "      <th>11</th>\n",
       "      <td>Phaya Thai</td>\n",
       "      <td>146730</td>\n",
       "      <td>3702925</td>\n",
       "      <td>70.246503</td>\n",
       "    </tr>\n",
       "    <tr>\n",
       "      <th>12</th>\n",
       "      <td>Parthum Wan</td>\n",
       "      <td>137240</td>\n",
       "      <td>3840165</td>\n",
       "      <td>72.850021</td>\n",
       "    </tr>\n",
       "    <tr>\n",
       "      <th>13</th>\n",
       "      <td>Suanluang</td>\n",
       "      <td>129575</td>\n",
       "      <td>3969740</td>\n",
       "      <td>75.308129</td>\n",
       "    </tr>\n",
       "    <tr>\n",
       "      <th>14</th>\n",
       "      <td>Khlong San</td>\n",
       "      <td>120450</td>\n",
       "      <td>4090190</td>\n",
       "      <td>77.593131</td>\n",
       "    </tr>\n",
       "    <tr>\n",
       "      <th>15</th>\n",
       "      <td>Bang Kapi</td>\n",
       "      <td>90885</td>\n",
       "      <td>4181075</td>\n",
       "      <td>79.317269</td>\n",
       "    </tr>\n",
       "    <tr>\n",
       "      <th>16</th>\n",
       "      <td>Bang Sue</td>\n",
       "      <td>87600</td>\n",
       "      <td>4268675</td>\n",
       "      <td>80.979089</td>\n",
       "    </tr>\n",
       "    <tr>\n",
       "      <th>17</th>\n",
       "      <td>Bang Phlat</td>\n",
       "      <td>74460</td>\n",
       "      <td>4343135</td>\n",
       "      <td>82.391636</td>\n",
       "    </tr>\n",
       "    <tr>\n",
       "      <th>18</th>\n",
       "      <td>Yan na wa</td>\n",
       "      <td>64240</td>\n",
       "      <td>4407375</td>\n",
       "      <td>83.610303</td>\n",
       "    </tr>\n",
       "    <tr>\n",
       "      <th>19</th>\n",
       "      <td>Thon buri</td>\n",
       "      <td>63145</td>\n",
       "      <td>4470520</td>\n",
       "      <td>84.808198</td>\n",
       "    </tr>\n",
       "    <tr>\n",
       "      <th>20</th>\n",
       "      <td>Don Mueang</td>\n",
       "      <td>59130</td>\n",
       "      <td>4529650</td>\n",
       "      <td>85.929927</td>\n",
       "    </tr>\n",
       "    <tr>\n",
       "      <th>21</th>\n",
       "      <td>Phasi Charoen</td>\n",
       "      <td>55480</td>\n",
       "      <td>4585130</td>\n",
       "      <td>86.982412</td>\n",
       "    </tr>\n",
       "    <tr>\n",
       "      <th>22</th>\n",
       "      <td>Pra Wet</td>\n",
       "      <td>54385</td>\n",
       "      <td>4639515</td>\n",
       "      <td>88.014125</td>\n",
       "    </tr>\n",
       "    <tr>\n",
       "      <th>23</th>\n",
       "      <td>Lat Krabang</td>\n",
       "      <td>52195</td>\n",
       "      <td>4691710</td>\n",
       "      <td>89.004293</td>\n",
       "    </tr>\n",
       "    <tr>\n",
       "      <th>24</th>\n",
       "      <td>Bangkok Noi</td>\n",
       "      <td>47450</td>\n",
       "      <td>4739160</td>\n",
       "      <td>89.904445</td>\n",
       "    </tr>\n",
       "    <tr>\n",
       "      <th>25</th>\n",
       "      <td>Lak Si</td>\n",
       "      <td>45625</td>\n",
       "      <td>4784785</td>\n",
       "      <td>90.769976</td>\n",
       "    </tr>\n",
       "    <tr>\n",
       "      <th>26</th>\n",
       "      <td>Bang Kho laen</td>\n",
       "      <td>45260</td>\n",
       "      <td>4830045</td>\n",
       "      <td>91.628583</td>\n",
       "    </tr>\n",
       "    <tr>\n",
       "      <th>27</th>\n",
       "      <td>Bang Khen</td>\n",
       "      <td>41245</td>\n",
       "      <td>4871290</td>\n",
       "      <td>92.411023</td>\n",
       "    </tr>\n",
       "    <tr>\n",
       "      <th>28</th>\n",
       "      <td>Pom Prap Sattru Phai</td>\n",
       "      <td>37960</td>\n",
       "      <td>4909250</td>\n",
       "      <td>93.131145</td>\n",
       "    </tr>\n",
       "    <tr>\n",
       "      <th>29</th>\n",
       "      <td>Samphanthawong</td>\n",
       "      <td>36135</td>\n",
       "      <td>4945385</td>\n",
       "      <td>93.816646</td>\n",
       "    </tr>\n",
       "    <tr>\n",
       "      <th>30</th>\n",
       "      <td>Wang Thong Lang</td>\n",
       "      <td>33945</td>\n",
       "      <td>4979330</td>\n",
       "      <td>94.460601</td>\n",
       "    </tr>\n",
       "    <tr>\n",
       "      <th>31</th>\n",
       "      <td>Bang Khae</td>\n",
       "      <td>31390</td>\n",
       "      <td>5010720</td>\n",
       "      <td>95.056086</td>\n",
       "    </tr>\n",
       "    <tr>\n",
       "      <th>32</th>\n",
       "      <td>Dusit</td>\n",
       "      <td>31025</td>\n",
       "      <td>5041745</td>\n",
       "      <td>95.644648</td>\n",
       "    </tr>\n",
       "    <tr>\n",
       "      <th>33</th>\n",
       "      <td>Bangkok Yai</td>\n",
       "      <td>30295</td>\n",
       "      <td>5072040</td>\n",
       "      <td>96.219360</td>\n",
       "    </tr>\n",
       "    <tr>\n",
       "      <th>34</th>\n",
       "      <td>Chom Thong</td>\n",
       "      <td>25185</td>\n",
       "      <td>5097225</td>\n",
       "      <td>96.697133</td>\n",
       "    </tr>\n",
       "    <tr>\n",
       "      <th>35</th>\n",
       "      <td>Min Buri</td>\n",
       "      <td>22265</td>\n",
       "      <td>5119490</td>\n",
       "      <td>97.119513</td>\n",
       "    </tr>\n",
       "    <tr>\n",
       "      <th>36</th>\n",
       "      <td>Rat Burana</td>\n",
       "      <td>18615</td>\n",
       "      <td>5138105</td>\n",
       "      <td>97.472649</td>\n",
       "    </tr>\n",
       "    <tr>\n",
       "      <th>37</th>\n",
       "      <td>Khan Na Yao</td>\n",
       "      <td>18615</td>\n",
       "      <td>5156720</td>\n",
       "      <td>97.825786</td>\n",
       "    </tr>\n",
       "    <tr>\n",
       "      <th>38</th>\n",
       "      <td>Bueng Kum</td>\n",
       "      <td>18250</td>\n",
       "      <td>5174970</td>\n",
       "      <td>98.171998</td>\n",
       "    </tr>\n",
       "    <tr>\n",
       "      <th>39</th>\n",
       "      <td>Taling Chan</td>\n",
       "      <td>16060</td>\n",
       "      <td>5191030</td>\n",
       "      <td>98.476665</td>\n",
       "    </tr>\n",
       "    <tr>\n",
       "      <th>40</th>\n",
       "      <td>Lat Phrao</td>\n",
       "      <td>14600</td>\n",
       "      <td>5205630</td>\n",
       "      <td>98.753635</td>\n",
       "    </tr>\n",
       "    <tr>\n",
       "      <th>41</th>\n",
       "      <td>Saphan Sung</td>\n",
       "      <td>14235</td>\n",
       "      <td>5219865</td>\n",
       "      <td>99.023681</td>\n",
       "    </tr>\n",
       "    <tr>\n",
       "      <th>42</th>\n",
       "      <td>Sai Mai</td>\n",
       "      <td>13870</td>\n",
       "      <td>5233735</td>\n",
       "      <td>99.286802</td>\n",
       "    </tr>\n",
       "    <tr>\n",
       "      <th>43</th>\n",
       "      <td>Khlong Sam Wa</td>\n",
       "      <td>10585</td>\n",
       "      <td>5244320</td>\n",
       "      <td>99.487606</td>\n",
       "    </tr>\n",
       "    <tr>\n",
       "      <th>44</th>\n",
       "      <td>Thung khru</td>\n",
       "      <td>7665</td>\n",
       "      <td>5251985</td>\n",
       "      <td>99.633015</td>\n",
       "    </tr>\n",
       "    <tr>\n",
       "      <th>45</th>\n",
       "      <td>Bang Khun thain</td>\n",
       "      <td>6205</td>\n",
       "      <td>5258190</td>\n",
       "      <td>99.750727</td>\n",
       "    </tr>\n",
       "    <tr>\n",
       "      <th>46</th>\n",
       "      <td>Thawi Watthana</td>\n",
       "      <td>4015</td>\n",
       "      <td>5262205</td>\n",
       "      <td>99.826894</td>\n",
       "    </tr>\n",
       "    <tr>\n",
       "      <th>47</th>\n",
       "      <td>Nong Chok</td>\n",
       "      <td>4015</td>\n",
       "      <td>5266220</td>\n",
       "      <td>99.903061</td>\n",
       "    </tr>\n",
       "    <tr>\n",
       "      <th>48</th>\n",
       "      <td>Nong Khaem</td>\n",
       "      <td>3285</td>\n",
       "      <td>5269505</td>\n",
       "      <td>99.965379</td>\n",
       "    </tr>\n",
       "    <tr>\n",
       "      <th>49</th>\n",
       "      <td>Bang Bon</td>\n",
       "      <td>1825</td>\n",
       "      <td>5271330</td>\n",
       "      <td>100.000000</td>\n",
       "    </tr>\n",
       "  </tbody>\n",
       "</table>\n",
       "</div>"
      ],
      "text/plain": [
       "           neighbourhood  possible_days  cumulativesum  cumulativepercentage\n",
       "0            Khlong Toei         688390         688390             13.059133\n",
       "1                Vadhana         645320        1333710             25.301205\n",
       "2            Ratchathewi         386170        1719880             32.627060\n",
       "3            Huai Khwang         376315        2096195             39.765960\n",
       "4                 Sathon         278130        2374325             45.042238\n",
       "5               Bang Rak         269370        2643695             50.152333\n",
       "6            Phra Nakhon         213525        2857220             54.203019\n",
       "7           Phra Khanong         196735        3053955             57.935189\n",
       "8             Chatu Chak         190530        3244485             61.549647\n",
       "9                Bang Na         156585        3401070             64.520150\n",
       "10             Din Daeng         155125        3556195             67.462955\n",
       "11            Phaya Thai         146730        3702925             70.246503\n",
       "12           Parthum Wan         137240        3840165             72.850021\n",
       "13             Suanluang         129575        3969740             75.308129\n",
       "14            Khlong San         120450        4090190             77.593131\n",
       "15             Bang Kapi          90885        4181075             79.317269\n",
       "16              Bang Sue          87600        4268675             80.979089\n",
       "17            Bang Phlat          74460        4343135             82.391636\n",
       "18             Yan na wa          64240        4407375             83.610303\n",
       "19             Thon buri          63145        4470520             84.808198\n",
       "20            Don Mueang          59130        4529650             85.929927\n",
       "21         Phasi Charoen          55480        4585130             86.982412\n",
       "22               Pra Wet          54385        4639515             88.014125\n",
       "23           Lat Krabang          52195        4691710             89.004293\n",
       "24           Bangkok Noi          47450        4739160             89.904445\n",
       "25                Lak Si          45625        4784785             90.769976\n",
       "26         Bang Kho laen          45260        4830045             91.628583\n",
       "27             Bang Khen          41245        4871290             92.411023\n",
       "28  Pom Prap Sattru Phai          37960        4909250             93.131145\n",
       "29        Samphanthawong          36135        4945385             93.816646\n",
       "30       Wang Thong Lang          33945        4979330             94.460601\n",
       "31             Bang Khae          31390        5010720             95.056086\n",
       "32                 Dusit          31025        5041745             95.644648\n",
       "33           Bangkok Yai          30295        5072040             96.219360\n",
       "34            Chom Thong          25185        5097225             96.697133\n",
       "35              Min Buri          22265        5119490             97.119513\n",
       "36            Rat Burana          18615        5138105             97.472649\n",
       "37           Khan Na Yao          18615        5156720             97.825786\n",
       "38             Bueng Kum          18250        5174970             98.171998\n",
       "39           Taling Chan          16060        5191030             98.476665\n",
       "40             Lat Phrao          14600        5205630             98.753635\n",
       "41           Saphan Sung          14235        5219865             99.023681\n",
       "42               Sai Mai          13870        5233735             99.286802\n",
       "43         Khlong Sam Wa          10585        5244320             99.487606\n",
       "44            Thung khru           7665        5251985             99.633015\n",
       "45       Bang Khun thain           6205        5258190             99.750727\n",
       "46        Thawi Watthana           4015        5262205             99.826894\n",
       "47             Nong Chok           4015        5266220             99.903061\n",
       "48            Nong Khaem           3285        5269505             99.965379\n",
       "49              Bang Bon           1825        5271330            100.000000"
      ]
     },
     "execution_count": 116,
     "metadata": {},
     "output_type": "execute_result"
    }
   ],
   "source": [
    "df_possibledays_by_neigh"
   ]
  },
  {
   "cell_type": "code",
   "execution_count": null,
   "id": "ae6ea1f2",
   "metadata": {},
   "outputs": [
    {
     "data": {
      "image/png": "[encoded data removed]",
      "text/plain": [
       "<Figure size 1400x600 with 2 Axes>"
      ]
     },
     "metadata": {},
     "output_type": "display_data"
    }
   ],
   "source": [
    "fig, ax1 = plt.subplots(figsize=(14,6))\n",
    "\n",
    "colors = [\"skyblue\" if p <= 80 else \"orange\" for p in df_possibledays_by_neigh[\"cumulativepercentage\"]]\n",
    "\n",
    "# Bar plot\n",
    "ax1.bar(df_possibledays_by_neigh.index, df_possibledays_by_neigh[\"possible_days\"], color=colors)\n",
    "ax1.set_ylabel(\"Number of Bookeddays\", color=\"blue\")\n",
    "ax1.set_xlabel(\"Neighbourhood Rank\")\n",
    "\n",
    "# label neighbourhood\n",
    "ax1.set_xticks(df_possibledays_by_neigh.index)\n",
    "ax1.set_xticklabels(df_possibledays_by_neigh[\"neighbourhood\"], rotation=45, ha=\"right\")\n",
    "\n",
    "# Line plot\n",
    "ax2 = ax1.twinx()\n",
    "ax2.plot(df_possibledays_by_neigh.index, df_possibledays_by_neigh[\"cumulativepercentage\"], color=\"red\", marker=\"o\", linestyle=\"-\")\n",
    "ax2.set_ylabel(\"Cumulative % of Listings\", color=\"red\")\n",
    "ax2.axhline(80, color=\"gray\", linestyle=\"--\", linewidth=1)  # 80% reference line\n",
    "ax2.set_ylim(0, 110)\n",
    "\n",
    "#top neighbourhood biar bisa diganti di demand juga\n",
    "n_dominant = (df_possibledays_by_neigh[\"cumulativepercentage\"] <= 80).sum()\n",
    "textstr = f\"Top {n_dominant} neighbourhoods account for ~80% of possible days to book\"\n",
    "\n",
    "#text placement\n",
    "ax1.text(\n",
    "    0.31, 0.2, textstr,\n",
    "    transform=ax1.transAxes,\n",
    "    fontsize=12,\n",
    "    color=\"black\",\n",
    "    bbox=dict(facecolor=\"white\", alpha=0.7, edgecolor=\"gray\")\n",
    ")\n",
    "\n",
    "plt.title(\"Pareto Chart of Airbnb Bangkok: Top Neighbourhood by Total Possible days to book\")\n",
    "plt.tight_layout()\n",
    "plt.show()"
   ]
  },
  {
   "cell_type": "markdown",
   "id": "206b30b2",
   "metadata": {},
   "source": [
    "Dari visualisasi ini dapat di simpulkan bahwa:\n",
    "\n",
    "- `Top 16 dari neighbourhood` berdasarkan jumlah possible days to book `mendominasi 80% dari total jumlah possible days` to book yang ada di bangkok.\n",
    "- Top 2nya yaitu neighbourhood `Khlong Toei` dan `Vadhana` memiliki `lebih 600K possible days` to book karena mereka memiliki banyak listing.\n",
    "- banyak `neighbourhood` yang `under-penetrated` dari segi hari yang bisa di booking."
   ]
  },
  {
   "cell_type": "markdown",
   "id": "70c3d76b",
   "metadata": {},
   "source": [
    "- KPI section:\n",
    "- Lowest and Highest `average mean price` of `Neighbourhood`\n",
    "- `Maximum Possible days` in 2022\n",
    "- Top Host with most `Listings` in Bangkok"
   ]
  },
  {
   "cell_type": "code",
   "execution_count": 133,
   "id": "201ac4d4",
   "metadata": {},
   "outputs": [
    {
     "name": "stdout",
     "output_type": "stream",
     "text": [
      "\n",
      "      lowest average price in bangkok: 1033.7291666666667, \n",
      "      highest average price in bangkok: 2179.3643617021276, \n",
      "      Total Possible days to book: 5271330, \n",
      "      Top Host with highest number of listing in bangkok: Curry\n"
     ]
    }
   ],
   "source": [
    "meangroup = df1e.groupby(\"neighbourhood\")[\"price\"].mean()\n",
    "meangroup.min()\n",
    "meangroup.max()\n",
    "possiblegroup = df1f['possible_days'].sum()\n",
    "tophost = df1e.groupby(\"host_name\", as_index=False)['id'].count().sort_values(by=\"id\", ascending=False).head(1)\n",
    "print(f'''\n",
    "      lowest average price in bangkok: {meangroup.min()}, \n",
    "      highest average price in bangkok: {meangroup.max()}, \n",
    "      Total Possible days to book: {possiblegroup}, \n",
    "      Top Host with highest number of listing in bangkok: {tophost['host_name'].iloc[0]}''')"
   ]
  },
  {
   "cell_type": "markdown",
   "id": "1cbdd301",
   "metadata": {},
   "source": [
    "## Demand Analysis\n",
    "- Treemap `Category Stay` in 2022 based on `booked_365` days \n",
    "- Bar Chart `Room Type` Distribution based on `booked_365` days \n",
    "- Pareto Chart `Neighbourhood` Domination based on `booked_365` days \n",
    "- KPI section:\n",
    "- Revenue in 2022\n",
    "- `Total Booked days` in 2022\n",
    "- Most Popular `Room Type` in 2022 for customer to choose\n",
    "- Most Popular `Category Stay` in 2022 for customer to choose"
   ]
  },
  {
   "cell_type": "code",
   "execution_count": 80,
   "id": "33e8f096",
   "metadata": {},
   "outputs": [
    {
     "data": {
      "text/plain": [
       "availability_365\n",
       "365    2096\n",
       "0       759\n",
       "364     599\n",
       "180     403\n",
       "90      311\n",
       "       ... \n",
       "189       2\n",
       "183       2\n",
       "193       1\n",
       "197       1\n",
       "192       1\n",
       "Name: count, Length: 366, dtype: int64"
      ]
     },
     "execution_count": 80,
     "metadata": {},
     "output_type": "execute_result"
    }
   ],
   "source": [
    "df1e['availability_365'].value_counts()"
   ]
  },
  {
   "cell_type": "markdown",
   "id": "16b70a80",
   "metadata": {},
   "source": [
    "### Treemap `Category Stay` in 2022 based on `booked_365` days "
   ]
  },
  {
   "cell_type": "code",
   "execution_count": 108,
   "id": "b7e08d71",
   "metadata": {},
   "outputs": [],
   "source": [
    "df_groupedcategorystay_by_book = df1e.groupby(\"category_stay\", as_index=False)[\"booked_365\"].sum()"
   ]
  },
  {
   "cell_type": "code",
   "execution_count": 109,
   "id": "a7d38b99",
   "metadata": {},
   "outputs": [
    {
     "data": {
      "application/vnd.plotly.v1+json": {
       "config": {
        "plotlyServerURL": "https://plot.ly"
       },
       "data": [
        {
         "branchvalues": "total",
         "customdata": {
          "bdata": "AAAAAICL2kAAAAAAAO4LQQAAAAAMlxBBAAAAAP3LMkE=",
          "dtype": "f8",
          "shape": "4, 1"
         },
         "domain": {
          "x": [
           0,
           1
          ],
          "y": [
           0,
           1
          ]
         },
         "hovertemplate": "labels=%{label}<br>booked_365_sum=%{value}<br>parent=%{parent}<br>id=%{id}<br>booked_365=%{color}<extra></extra>",
         "ids": [
          "Extended",
          "Long",
          "Medium",
          "Short"
         ],
         "labels": [
          "Extended",
          "Long",
          "Medium",
          "Short"
         ],
         "marker": {
          "coloraxis": "coloraxis",
          "colors": {
           "bdata": "AAAAAICL2kAAAAAAAO4LQQAAAAAMlxBBAAAAAP3LMkE=",
           "dtype": "f8"
          }
         },
         "name": "",
         "parents": [
          "",
          "",
          "",
          ""
         ],
         "type": "treemap",
         "values": {
          "bdata": "AAAAAICL2kAAAAAAAO4LQQAAAAAMlxBBAAAAAP3LMkE=",
          "dtype": "f8"
         }
        }
       ],
       "layout": {
        "coloraxis": {
         "colorbar": {
          "title": {
           "text": "booked_365"
          }
         },
         "colorscale": [
          [
           0,
           "rgb(209, 238, 234)"
          ],
          [
           0.16666666666666666,
           "rgb(168, 219, 217)"
          ],
          [
           0.3333333333333333,
           "rgb(133, 196, 201)"
          ],
          [
           0.5,
           "rgb(104, 171, 184)"
          ],
          [
           0.6666666666666666,
           "rgb(79, 144, 166)"
          ],
          [
           0.8333333333333334,
           "rgb(59, 115, 143)"
          ],
          [
           1,
           "rgb(42, 86, 116)"
          ]
         ]
        },
        "legend": {
         "tracegroupgap": 0
        },
        "template": {
         "data": {
          "bar": [
           {
            "error_x": {
             "color": "#2a3f5f"
            },
            "error_y": {
             "color": "#2a3f5f"
            },
            "marker": {
             "line": {
              "color": "#E5ECF6",
              "width": 0.5
             },
             "pattern": {
              "fillmode": "overlay",
              "size": 10,
              "solidity": 0.2
             }
            },
            "type": "bar"
           }
          ],
          "barpolar": [
           {
            "marker": {
             "line": {
              "color": "#E5ECF6",
              "width": 0.5
             },
             "pattern": {
              "fillmode": "overlay",
              "size": 10,
              "solidity": 0.2
             }
            },
            "type": "barpolar"
           }
          ],
          "carpet": [
           {
            "aaxis": {
             "endlinecolor": "#2a3f5f",
             "gridcolor": "white",
             "linecolor": "white",
             "minorgridcolor": "white",
             "startlinecolor": "#2a3f5f"
            },
            "baxis": {
             "endlinecolor": "#2a3f5f",
             "gridcolor": "white",
             "linecolor": "white",
             "minorgridcolor": "white",
             "startlinecolor": "#2a3f5f"
            },
            "type": "carpet"
           }
          ],
          "choropleth": [
           {
            "colorbar": {
             "outlinewidth": 0,
             "ticks": ""
            },
            "type": "choropleth"
           }
          ],
          "contour": [
           {
            "colorbar": {
             "outlinewidth": 0,
             "ticks": ""
            },
            "colorscale": [
             [
              0,
              "#0d0887"
             ],
             [
              0.1111111111111111,
              "#46039f"
             ],
             [
              0.2222222222222222,
              "#7201a8"
             ],
             [
              0.3333333333333333,
              "#9c179e"
             ],
             [
              0.4444444444444444,
              "#bd3786"
             ],
             [
              0.5555555555555556,
              "#d8576b"
             ],
             [
              0.6666666666666666,
              "#ed7953"
             ],
             [
              0.7777777777777778,
              "#fb9f3a"
             ],
             [
              0.8888888888888888,
              "#fdca26"
             ],
             [
              1,
              "#f0f921"
             ]
            ],
            "type": "contour"
           }
          ],
          "contourcarpet": [
           {
            "colorbar": {
             "outlinewidth": 0,
             "ticks": ""
            },
            "type": "contourcarpet"
           }
          ],
          "heatmap": [
           {
            "colorbar": {
             "outlinewidth": 0,
             "ticks": ""
            },
            "colorscale": [
             [
              0,
              "#0d0887"
             ],
             [
              0.1111111111111111,
              "#46039f"
             ],
             [
              0.2222222222222222,
              "#7201a8"
             ],
             [
              0.3333333333333333,
              "#9c179e"
             ],
             [
              0.4444444444444444,
              "#bd3786"
             ],
             [
              0.5555555555555556,
              "#d8576b"
             ],
             [
              0.6666666666666666,
              "#ed7953"
             ],
             [
              0.7777777777777778,
              "#fb9f3a"
             ],
             [
              0.8888888888888888,
              "#fdca26"
             ],
             [
              1,
              "#f0f921"
             ]
            ],
            "type": "heatmap"
           }
          ],
          "histogram": [
           {
            "marker": {
             "pattern": {
              "fillmode": "overlay",
              "size": 10,
              "solidity": 0.2
             }
            },
            "type": "histogram"
           }
          ],
          "histogram2d": [
           {
            "colorbar": {
             "outlinewidth": 0,
             "ticks": ""
            },
            "colorscale": [
             [
              0,
              "#0d0887"
             ],
             [
              0.1111111111111111,
              "#46039f"
             ],
             [
              0.2222222222222222,
              "#7201a8"
             ],
             [
              0.3333333333333333,
              "#9c179e"
             ],
             [
              0.4444444444444444,
              "#bd3786"
             ],
             [
              0.5555555555555556,
              "#d8576b"
             ],
             [
              0.6666666666666666,
              "#ed7953"
             ],
             [
              0.7777777777777778,
              "#fb9f3a"
             ],
             [
              0.8888888888888888,
              "#fdca26"
             ],
             [
              1,
              "#f0f921"
             ]
            ],
            "type": "histogram2d"
           }
          ],
          "histogram2dcontour": [
           {
            "colorbar": {
             "outlinewidth": 0,
             "ticks": ""
            },
            "colorscale": [
             [
              0,
              "#0d0887"
             ],
             [
              0.1111111111111111,
              "#46039f"
             ],
             [
              0.2222222222222222,
              "#7201a8"
             ],
             [
              0.3333333333333333,
              "#9c179e"
             ],
             [
              0.4444444444444444,
              "#bd3786"
             ],
             [
              0.5555555555555556,
              "#d8576b"
             ],
             [
              0.6666666666666666,
              "#ed7953"
             ],
             [
              0.7777777777777778,
              "#fb9f3a"
             ],
             [
              0.8888888888888888,
              "#fdca26"
             ],
             [
              1,
              "#f0f921"
             ]
            ],
            "type": "histogram2dcontour"
           }
          ],
          "mesh3d": [
           {
            "colorbar": {
             "outlinewidth": 0,
             "ticks": ""
            },
            "type": "mesh3d"
           }
          ],
          "parcoords": [
           {
            "line": {
             "colorbar": {
              "outlinewidth": 0,
              "ticks": ""
             }
            },
            "type": "parcoords"
           }
          ],
          "pie": [
           {
            "automargin": true,
            "type": "pie"
           }
          ],
          "scatter": [
           {
            "fillpattern": {
             "fillmode": "overlay",
             "size": 10,
             "solidity": 0.2
            },
            "type": "scatter"
           }
          ],
          "scatter3d": [
           {
            "line": {
             "colorbar": {
              "outlinewidth": 0,
              "ticks": ""
             }
            },
            "marker": {
             "colorbar": {
              "outlinewidth": 0,
              "ticks": ""
             }
            },
            "type": "scatter3d"
           }
          ],
          "scattercarpet": [
           {
            "marker": {
             "colorbar": {
              "outlinewidth": 0,
              "ticks": ""
             }
            },
            "type": "scattercarpet"
           }
          ],
          "scattergeo": [
           {
            "marker": {
             "colorbar": {
              "outlinewidth": 0,
              "ticks": ""
             }
            },
            "type": "scattergeo"
           }
          ],
          "scattergl": [
           {
            "marker": {
             "colorbar": {
              "outlinewidth": 0,
              "ticks": ""
             }
            },
            "type": "scattergl"
           }
          ],
          "scattermap": [
           {
            "marker": {
             "colorbar": {
              "outlinewidth": 0,
              "ticks": ""
             }
            },
            "type": "scattermap"
           }
          ],
          "scattermapbox": [
           {
            "marker": {
             "colorbar": {
              "outlinewidth": 0,
              "ticks": ""
             }
            },
            "type": "scattermapbox"
           }
          ],
          "scatterpolar": [
           {
            "marker": {
             "colorbar": {
              "outlinewidth": 0,
              "ticks": ""
             }
            },
            "type": "scatterpolar"
           }
          ],
          "scatterpolargl": [
           {
            "marker": {
             "colorbar": {
              "outlinewidth": 0,
              "ticks": ""
             }
            },
            "type": "scatterpolargl"
           }
          ],
          "scatterternary": [
           {
            "marker": {
             "colorbar": {
              "outlinewidth": 0,
              "ticks": ""
             }
            },
            "type": "scatterternary"
           }
          ],
          "surface": [
           {
            "colorbar": {
             "outlinewidth": 0,
             "ticks": ""
            },
            "colorscale": [
             [
              0,
              "#0d0887"
             ],
             [
              0.1111111111111111,
              "#46039f"
             ],
             [
              0.2222222222222222,
              "#7201a8"
             ],
             [
              0.3333333333333333,
              "#9c179e"
             ],
             [
              0.4444444444444444,
              "#bd3786"
             ],
             [
              0.5555555555555556,
              "#d8576b"
             ],
             [
              0.6666666666666666,
              "#ed7953"
             ],
             [
              0.7777777777777778,
              "#fb9f3a"
             ],
             [
              0.8888888888888888,
              "#fdca26"
             ],
             [
              1,
              "#f0f921"
             ]
            ],
            "type": "surface"
           }
          ],
          "table": [
           {
            "cells": {
             "fill": {
              "color": "#EBF0F8"
             },
             "line": {
              "color": "white"
             }
            },
            "header": {
             "fill": {
              "color": "#C8D4E3"
             },
             "line": {
              "color": "white"
             }
            },
            "type": "table"
           }
          ]
         },
         "layout": {
          "annotationdefaults": {
           "arrowcolor": "#2a3f5f",
           "arrowhead": 0,
           "arrowwidth": 1
          },
          "autotypenumbers": "strict",
          "coloraxis": {
           "colorbar": {
            "outlinewidth": 0,
            "ticks": ""
           }
          },
          "colorscale": {
           "diverging": [
            [
             0,
             "#8e0152"
            ],
            [
             0.1,
             "#c51b7d"
            ],
            [
             0.2,
             "#de77ae"
            ],
            [
             0.3,
             "#f1b6da"
            ],
            [
             0.4,
             "#fde0ef"
            ],
            [
             0.5,
             "#f7f7f7"
            ],
            [
             0.6,
             "#e6f5d0"
            ],
            [
             0.7,
             "#b8e186"
            ],
            [
             0.8,
             "#7fbc41"
            ],
            [
             0.9,
             "#4d9221"
            ],
            [
             1,
             "#276419"
            ]
           ],
           "sequential": [
            [
             0,
             "#0d0887"
            ],
            [
             0.1111111111111111,
             "#46039f"
            ],
            [
             0.2222222222222222,
             "#7201a8"
            ],
            [
             0.3333333333333333,
             "#9c179e"
            ],
            [
             0.4444444444444444,
             "#bd3786"
            ],
            [
             0.5555555555555556,
             "#d8576b"
            ],
            [
             0.6666666666666666,
             "#ed7953"
            ],
            [
             0.7777777777777778,
             "#fb9f3a"
            ],
            [
             0.8888888888888888,
             "#fdca26"
            ],
            [
             1,
             "#f0f921"
            ]
           ],
           "sequentialminus": [
            [
             0,
             "#0d0887"
            ],
            [
             0.1111111111111111,
             "#46039f"
            ],
            [
             0.2222222222222222,
             "#7201a8"
            ],
            [
             0.3333333333333333,
             "#9c179e"
            ],
            [
             0.4444444444444444,
             "#bd3786"
            ],
            [
             0.5555555555555556,
             "#d8576b"
            ],
            [
             0.6666666666666666,
             "#ed7953"
            ],
            [
             0.7777777777777778,
             "#fb9f3a"
            ],
            [
             0.8888888888888888,
             "#fdca26"
            ],
            [
             1,
             "#f0f921"
            ]
           ]
          },
          "colorway": [
           "#636efa",
           "#EF553B",
           "#00cc96",
           "#ab63fa",
           "#FFA15A",
           "#19d3f3",
           "#FF6692",
           "#B6E880",
           "#FF97FF",
           "#FECB52"
          ],
          "font": {
           "color": "#2a3f5f"
          },
          "geo": {
           "bgcolor": "white",
           "lakecolor": "white",
           "landcolor": "#E5ECF6",
           "showlakes": true,
           "showland": true,
           "subunitcolor": "white"
          },
          "hoverlabel": {
           "align": "left"
          },
          "hovermode": "closest",
          "mapbox": {
           "style": "light"
          },
          "paper_bgcolor": "white",
          "plot_bgcolor": "#E5ECF6",
          "polar": {
           "angularaxis": {
            "gridcolor": "white",
            "linecolor": "white",
            "ticks": ""
           },
           "bgcolor": "#E5ECF6",
           "radialaxis": {
            "gridcolor": "white",
            "linecolor": "white",
            "ticks": ""
           }
          },
          "scene": {
           "xaxis": {
            "backgroundcolor": "#E5ECF6",
            "gridcolor": "white",
            "gridwidth": 2,
            "linecolor": "white",
            "showbackground": true,
            "ticks": "",
            "zerolinecolor": "white"
           },
           "yaxis": {
            "backgroundcolor": "#E5ECF6",
            "gridcolor": "white",
            "gridwidth": 2,
            "linecolor": "white",
            "showbackground": true,
            "ticks": "",
            "zerolinecolor": "white"
           },
           "zaxis": {
            "backgroundcolor": "#E5ECF6",
            "gridcolor": "white",
            "gridwidth": 2,
            "linecolor": "white",
            "showbackground": true,
            "ticks": "",
            "zerolinecolor": "white"
           }
          },
          "shapedefaults": {
           "line": {
            "color": "#2a3f5f"
           }
          },
          "ternary": {
           "aaxis": {
            "gridcolor": "white",
            "linecolor": "white",
            "ticks": ""
           },
           "baxis": {
            "gridcolor": "white",
            "linecolor": "white",
            "ticks": ""
           },
           "bgcolor": "#E5ECF6",
           "caxis": {
            "gridcolor": "white",
            "linecolor": "white",
            "ticks": ""
           }
          },
          "title": {
           "x": 0.05
          },
          "xaxis": {
           "automargin": true,
           "gridcolor": "white",
           "linecolor": "white",
           "ticks": "",
           "title": {
            "standoff": 15
           },
           "zerolinecolor": "white",
           "zerolinewidth": 2
          },
          "yaxis": {
           "automargin": true,
           "gridcolor": "white",
           "linecolor": "white",
           "ticks": "",
           "title": {
            "standoff": 15
           },
           "zerolinecolor": "white",
           "zerolinewidth": 2
          }
         }
        },
        "title": {
         "text": "Demand: Category Stay by Occupancy in Year 2022"
        }
       }
      }
     },
     "metadata": {},
     "output_type": "display_data"
    }
   ],
   "source": [
    "fig = px.treemap(df_groupedcategorystay_by_book, \n",
    "                 path=['category_stay'], \n",
    "                 values='booked_365', \n",
    "                 title=\"Demand: Category Stay by Occupancy in Year 2022\",\n",
    "                 color='booked_365',\n",
    "                 color_continuous_scale='Teal'\n",
    "                 )\n",
    "fig.show()"
   ]
  },
  {
   "cell_type": "markdown",
   "id": "b8bbeff0",
   "metadata": {},
   "source": [
    "dari visualisasi treemap, dapat dikatakan bahwa \n",
    "- `short stay` mendominasi dari segi `category stay` dengan total 1.2 Million booked days di 2022.\n",
    "- disusul dengan `medium stay`, `long stay`, dan yang terakhir adalah `extended stay`.\n",
    "- sama dengan possible days treemap sebelumnya, ada dominasi `short stay` karena minimum nights yang sedikit sangat diminati customer, dimana mereka tidak terlalu pusing untuk mengatur jadwal dan punya banyak pilihan.\n",
    "- tourist rebound di tahun 2022 membuat banyak customer yang memilih tempat dengan `minimum night` sedikit.\n",
    "- `extended stay` tidak terlalu banyak diminati customer di 2022 karena tetap ada cukup untuk orang orang yang mencoba merantau atau pendatang yang pindah pekerjaan/intern atau bahkan mahasiswa.\n"
   ]
  },
  {
   "cell_type": "markdown",
   "id": "c61ca9f9",
   "metadata": {},
   "source": [
    "### Bar Chart `Room Type` Distribution based on `booked_365` days "
   ]
  },
  {
   "cell_type": "code",
   "execution_count": 124,
   "id": "aa890e25",
   "metadata": {},
   "outputs": [
    {
     "data": {
      "image/png": "[encoded data removed]",
      "text/plain": [
       "<Figure size 640x480 with 1 Axes>"
      ]
     },
     "metadata": {},
     "output_type": "display_data"
    }
   ],
   "source": [
    "bar = sns.barplot(data= df1f, \n",
    "            x = 'room_type', \n",
    "            y= 'booked_365',\n",
    "            hue= 'room_type',\n",
    "            estimator = np.sum, \n",
    "            )\n",
    "plt.title('Room Type Distribution by Total Booked days in 2022')\n",
    "\n",
    "for p in bar.patches:\n",
    "    bar.annotate(f\"{int(p.get_height())}\", \n",
    "                (p.get_x() + p.get_width() / 2., p.get_height()), \n",
    "                ha='center', va='bottom', fontsize=9, color='black')\n",
    "plt.show()"
   ]
  },
  {
   "cell_type": "markdown",
   "id": "e14036be",
   "metadata": {},
   "source": [
    "Visualisasi dari distribusi room type ini menggambarkan bahwa:\n",
    "- `entire hoom/apt` menjadi pilihan paling diminati customer juga dibandingkan dengan `private room/shared room` dengan total booked days hampir `1.1 Million days` di tahun 2022.\n",
    "- `private room` menduduki posisi kedua dengan `500K booked days` melihat ada juga kategori customer yang datang sendiri/tidak banyak dan hanya ingin menyewa 1 ruangan saja untuk menghemat uang.\n",
    "- `hotel room` hanya di terbooking 51K days karena customer mungkin tidak menggunakan airbnb untuk booking hotel di bangkok atau mungkin persaingan harga yang cukup kompetitif tanpa airbnb juga menjadi faktor kurang diminatinya room type ini.\n",
    "- `shared room` tidak terlalu disukai karena kurangnya privasi untuk customer melakukan aktivitas di dalam kamar.\n"
   ]
  },
  {
   "cell_type": "markdown",
   "id": "ded04cd1",
   "metadata": {},
   "source": [
    "### Pareto Chart: `Neighbourhood` Domination based on `booked_365` days"
   ]
  },
  {
   "cell_type": "code",
   "execution_count": 88,
   "id": "aff235c0",
   "metadata": {},
   "outputs": [],
   "source": [
    "df_sumbook_by_neigh = (\n",
    "    df1e.groupby(\"neighbourhood\", as_index=False)[\"booked_365\"]\n",
    "        .sum()\n",
    "        .sort_values(by=\"booked_365\", ascending=False)\n",
    "        .reset_index(drop=True)\n",
    ")"
   ]
  },
  {
   "cell_type": "code",
   "execution_count": 89,
   "id": "e8827e63",
   "metadata": {},
   "outputs": [],
   "source": [
    "df_sumbook_by_neigh['cumulativesum'] = df_sumbook_by_neigh['booked_365'].cumsum()\n",
    "df_sumbook_by_neigh['cumulativepercentage'] = 100 * df_sumbook_by_neigh['cumulativesum'] / df_sumbook_by_neigh['booked_365'].sum()"
   ]
  },
  {
   "cell_type": "code",
   "execution_count": 90,
   "id": "b437abdc",
   "metadata": {},
   "outputs": [
    {
     "data": {
      "text/html": [
       "<div>\n",
       "<style scoped>\n",
       "    .dataframe tbody tr th:only-of-type {\n",
       "        vertical-align: middle;\n",
       "    }\n",
       "\n",
       "    .dataframe tbody tr th {\n",
       "        vertical-align: top;\n",
       "    }\n",
       "\n",
       "    .dataframe thead th {\n",
       "        text-align: right;\n",
       "    }\n",
       "</style>\n",
       "<table border=\"1\" class=\"dataframe\">\n",
       "  <thead>\n",
       "    <tr style=\"text-align: right;\">\n",
       "      <th></th>\n",
       "      <th>neighbourhood</th>\n",
       "      <th>booked_365</th>\n",
       "      <th>cumulativesum</th>\n",
       "      <th>cumulativepercentage</th>\n",
       "    </tr>\n",
       "  </thead>\n",
       "  <tbody>\n",
       "    <tr>\n",
       "      <th>0</th>\n",
       "      <td>Khlong Toei</td>\n",
       "      <td>259017</td>\n",
       "      <td>259017</td>\n",
       "      <td>14.719702</td>\n",
       "    </tr>\n",
       "    <tr>\n",
       "      <th>1</th>\n",
       "      <td>Vadhana</td>\n",
       "      <td>249905</td>\n",
       "      <td>508922</td>\n",
       "      <td>28.921577</td>\n",
       "    </tr>\n",
       "    <tr>\n",
       "      <th>2</th>\n",
       "      <td>Huai Khwang</td>\n",
       "      <td>168249</td>\n",
       "      <td>677171</td>\n",
       "      <td>38.483015</td>\n",
       "    </tr>\n",
       "    <tr>\n",
       "      <th>3</th>\n",
       "      <td>Ratchathewi</td>\n",
       "      <td>112724</td>\n",
       "      <td>789895</td>\n",
       "      <td>44.889018</td>\n",
       "    </tr>\n",
       "    <tr>\n",
       "      <th>4</th>\n",
       "      <td>Bang Rak</td>\n",
       "      <td>86854</td>\n",
       "      <td>876749</td>\n",
       "      <td>49.824853</td>\n",
       "    </tr>\n",
       "    <tr>\n",
       "      <th>5</th>\n",
       "      <td>Sathon</td>\n",
       "      <td>77015</td>\n",
       "      <td>953764</td>\n",
       "      <td>54.201546</td>\n",
       "    </tr>\n",
       "    <tr>\n",
       "      <th>6</th>\n",
       "      <td>Phra Khanong</td>\n",
       "      <td>70590</td>\n",
       "      <td>1024354</td>\n",
       "      <td>58.213111</td>\n",
       "    </tr>\n",
       "    <tr>\n",
       "      <th>7</th>\n",
       "      <td>Chatu Chak</td>\n",
       "      <td>59916</td>\n",
       "      <td>1084270</td>\n",
       "      <td>61.618083</td>\n",
       "    </tr>\n",
       "    <tr>\n",
       "      <th>8</th>\n",
       "      <td>Phra Nakhon</td>\n",
       "      <td>56960</td>\n",
       "      <td>1141230</td>\n",
       "      <td>64.855069</td>\n",
       "    </tr>\n",
       "    <tr>\n",
       "      <th>9</th>\n",
       "      <td>Bang Na</td>\n",
       "      <td>51731</td>\n",
       "      <td>1192961</td>\n",
       "      <td>67.794895</td>\n",
       "    </tr>\n",
       "    <tr>\n",
       "      <th>10</th>\n",
       "      <td>Din Daeng</td>\n",
       "      <td>50223</td>\n",
       "      <td>1243184</td>\n",
       "      <td>70.649022</td>\n",
       "    </tr>\n",
       "    <tr>\n",
       "      <th>11</th>\n",
       "      <td>Phaya Thai</td>\n",
       "      <td>49266</td>\n",
       "      <td>1292450</td>\n",
       "      <td>73.448765</td>\n",
       "    </tr>\n",
       "    <tr>\n",
       "      <th>12</th>\n",
       "      <td>Parthum Wan</td>\n",
       "      <td>45293</td>\n",
       "      <td>1337743</td>\n",
       "      <td>76.022725</td>\n",
       "    </tr>\n",
       "    <tr>\n",
       "      <th>13</th>\n",
       "      <td>Khlong San</td>\n",
       "      <td>38292</td>\n",
       "      <td>1376035</td>\n",
       "      <td>78.198825</td>\n",
       "    </tr>\n",
       "    <tr>\n",
       "      <th>14</th>\n",
       "      <td>Suanluang</td>\n",
       "      <td>35165</td>\n",
       "      <td>1411200</td>\n",
       "      <td>80.197220</td>\n",
       "    </tr>\n",
       "    <tr>\n",
       "      <th>15</th>\n",
       "      <td>Bang Sue</td>\n",
       "      <td>32622</td>\n",
       "      <td>1443822</td>\n",
       "      <td>82.051098</td>\n",
       "    </tr>\n",
       "    <tr>\n",
       "      <th>16</th>\n",
       "      <td>Bang Phlat</td>\n",
       "      <td>25716</td>\n",
       "      <td>1469538</td>\n",
       "      <td>83.512515</td>\n",
       "    </tr>\n",
       "    <tr>\n",
       "      <th>17</th>\n",
       "      <td>Bang Kapi</td>\n",
       "      <td>23540</td>\n",
       "      <td>1493078</td>\n",
       "      <td>84.850272</td>\n",
       "    </tr>\n",
       "    <tr>\n",
       "      <th>18</th>\n",
       "      <td>Thon buri</td>\n",
       "      <td>23115</td>\n",
       "      <td>1516193</td>\n",
       "      <td>86.163877</td>\n",
       "    </tr>\n",
       "    <tr>\n",
       "      <th>19</th>\n",
       "      <td>Yan na wa</td>\n",
       "      <td>20031</td>\n",
       "      <td>1536224</td>\n",
       "      <td>87.302221</td>\n",
       "    </tr>\n",
       "    <tr>\n",
       "      <th>20</th>\n",
       "      <td>Pra Wet</td>\n",
       "      <td>17769</td>\n",
       "      <td>1553993</td>\n",
       "      <td>88.312017</td>\n",
       "    </tr>\n",
       "    <tr>\n",
       "      <th>21</th>\n",
       "      <td>Phasi Charoen</td>\n",
       "      <td>16005</td>\n",
       "      <td>1569998</td>\n",
       "      <td>89.221566</td>\n",
       "    </tr>\n",
       "    <tr>\n",
       "      <th>22</th>\n",
       "      <td>Don Mueang</td>\n",
       "      <td>15772</td>\n",
       "      <td>1585770</td>\n",
       "      <td>90.117875</td>\n",
       "    </tr>\n",
       "    <tr>\n",
       "      <th>23</th>\n",
       "      <td>Samphanthawong</td>\n",
       "      <td>13778</td>\n",
       "      <td>1599548</td>\n",
       "      <td>90.900866</td>\n",
       "    </tr>\n",
       "    <tr>\n",
       "      <th>24</th>\n",
       "      <td>Lat Krabang</td>\n",
       "      <td>13247</td>\n",
       "      <td>1612795</td>\n",
       "      <td>91.653681</td>\n",
       "    </tr>\n",
       "    <tr>\n",
       "      <th>25</th>\n",
       "      <td>Wang Thong Lang</td>\n",
       "      <td>12652</td>\n",
       "      <td>1625447</td>\n",
       "      <td>92.372683</td>\n",
       "    </tr>\n",
       "    <tr>\n",
       "      <th>26</th>\n",
       "      <td>Bang Kho laen</td>\n",
       "      <td>12472</td>\n",
       "      <td>1637919</td>\n",
       "      <td>93.081455</td>\n",
       "    </tr>\n",
       "    <tr>\n",
       "      <th>27</th>\n",
       "      <td>Bangkok Noi</td>\n",
       "      <td>11909</td>\n",
       "      <td>1649828</td>\n",
       "      <td>93.758233</td>\n",
       "    </tr>\n",
       "    <tr>\n",
       "      <th>28</th>\n",
       "      <td>Lak Si</td>\n",
       "      <td>11789</td>\n",
       "      <td>1661617</td>\n",
       "      <td>94.428191</td>\n",
       "    </tr>\n",
       "    <tr>\n",
       "      <th>29</th>\n",
       "      <td>Pom Prap Sattru Phai</td>\n",
       "      <td>11637</td>\n",
       "      <td>1673254</td>\n",
       "      <td>95.089512</td>\n",
       "    </tr>\n",
       "    <tr>\n",
       "      <th>30</th>\n",
       "      <td>Bang Khen</td>\n",
       "      <td>11115</td>\n",
       "      <td>1684369</td>\n",
       "      <td>95.721167</td>\n",
       "    </tr>\n",
       "    <tr>\n",
       "      <th>31</th>\n",
       "      <td>Bangkok Yai</td>\n",
       "      <td>8037</td>\n",
       "      <td>1692406</td>\n",
       "      <td>96.177902</td>\n",
       "    </tr>\n",
       "    <tr>\n",
       "      <th>32</th>\n",
       "      <td>Chom Thong</td>\n",
       "      <td>7102</td>\n",
       "      <td>1699508</td>\n",
       "      <td>96.581503</td>\n",
       "    </tr>\n",
       "    <tr>\n",
       "      <th>33</th>\n",
       "      <td>Bang Khae</td>\n",
       "      <td>6836</td>\n",
       "      <td>1706344</td>\n",
       "      <td>96.969986</td>\n",
       "    </tr>\n",
       "    <tr>\n",
       "      <th>34</th>\n",
       "      <td>Khan Na Yao</td>\n",
       "      <td>6534</td>\n",
       "      <td>1712878</td>\n",
       "      <td>97.341308</td>\n",
       "    </tr>\n",
       "    <tr>\n",
       "      <th>35</th>\n",
       "      <td>Bueng Kum</td>\n",
       "      <td>6414</td>\n",
       "      <td>1719292</td>\n",
       "      <td>97.705809</td>\n",
       "    </tr>\n",
       "    <tr>\n",
       "      <th>36</th>\n",
       "      <td>Dusit</td>\n",
       "      <td>5197</td>\n",
       "      <td>1724489</td>\n",
       "      <td>98.001150</td>\n",
       "    </tr>\n",
       "    <tr>\n",
       "      <th>37</th>\n",
       "      <td>Rat Burana</td>\n",
       "      <td>5191</td>\n",
       "      <td>1729680</td>\n",
       "      <td>98.296150</td>\n",
       "    </tr>\n",
       "    <tr>\n",
       "      <th>38</th>\n",
       "      <td>Min Buri</td>\n",
       "      <td>4784</td>\n",
       "      <td>1734464</td>\n",
       "      <td>98.568020</td>\n",
       "    </tr>\n",
       "    <tr>\n",
       "      <th>39</th>\n",
       "      <td>Taling Chan</td>\n",
       "      <td>4516</td>\n",
       "      <td>1738980</td>\n",
       "      <td>98.824661</td>\n",
       "    </tr>\n",
       "    <tr>\n",
       "      <th>40</th>\n",
       "      <td>Sai Mai</td>\n",
       "      <td>4359</td>\n",
       "      <td>1743339</td>\n",
       "      <td>99.072379</td>\n",
       "    </tr>\n",
       "    <tr>\n",
       "      <th>41</th>\n",
       "      <td>Lat Phrao</td>\n",
       "      <td>3653</td>\n",
       "      <td>1746992</td>\n",
       "      <td>99.279975</td>\n",
       "    </tr>\n",
       "    <tr>\n",
       "      <th>42</th>\n",
       "      <td>Saphan Sung</td>\n",
       "      <td>2880</td>\n",
       "      <td>1749872</td>\n",
       "      <td>99.443643</td>\n",
       "    </tr>\n",
       "    <tr>\n",
       "      <th>43</th>\n",
       "      <td>Thung khru</td>\n",
       "      <td>2480</td>\n",
       "      <td>1752352</td>\n",
       "      <td>99.584579</td>\n",
       "    </tr>\n",
       "    <tr>\n",
       "      <th>44</th>\n",
       "      <td>Khlong Sam Wa</td>\n",
       "      <td>2314</td>\n",
       "      <td>1754666</td>\n",
       "      <td>99.716082</td>\n",
       "    </tr>\n",
       "    <tr>\n",
       "      <th>45</th>\n",
       "      <td>Bang Khun thain</td>\n",
       "      <td>1461</td>\n",
       "      <td>1756127</td>\n",
       "      <td>99.799109</td>\n",
       "    </tr>\n",
       "    <tr>\n",
       "      <th>46</th>\n",
       "      <td>Thawi Watthana</td>\n",
       "      <td>1402</td>\n",
       "      <td>1757529</td>\n",
       "      <td>99.878784</td>\n",
       "    </tr>\n",
       "    <tr>\n",
       "      <th>47</th>\n",
       "      <td>Nong Chok</td>\n",
       "      <td>1301</td>\n",
       "      <td>1758830</td>\n",
       "      <td>99.952718</td>\n",
       "    </tr>\n",
       "    <tr>\n",
       "      <th>48</th>\n",
       "      <td>Nong Khaem</td>\n",
       "      <td>832</td>\n",
       "      <td>1759662</td>\n",
       "      <td>100.000000</td>\n",
       "    </tr>\n",
       "    <tr>\n",
       "      <th>49</th>\n",
       "      <td>Bang Bon</td>\n",
       "      <td>0</td>\n",
       "      <td>1759662</td>\n",
       "      <td>100.000000</td>\n",
       "    </tr>\n",
       "  </tbody>\n",
       "</table>\n",
       "</div>"
      ],
      "text/plain": [
       "           neighbourhood  booked_365  cumulativesum  cumulativepercentage\n",
       "0            Khlong Toei      259017         259017             14.719702\n",
       "1                Vadhana      249905         508922             28.921577\n",
       "2            Huai Khwang      168249         677171             38.483015\n",
       "3            Ratchathewi      112724         789895             44.889018\n",
       "4               Bang Rak       86854         876749             49.824853\n",
       "5                 Sathon       77015         953764             54.201546\n",
       "6           Phra Khanong       70590        1024354             58.213111\n",
       "7             Chatu Chak       59916        1084270             61.618083\n",
       "8            Phra Nakhon       56960        1141230             64.855069\n",
       "9                Bang Na       51731        1192961             67.794895\n",
       "10             Din Daeng       50223        1243184             70.649022\n",
       "11            Phaya Thai       49266        1292450             73.448765\n",
       "12           Parthum Wan       45293        1337743             76.022725\n",
       "13            Khlong San       38292        1376035             78.198825\n",
       "14             Suanluang       35165        1411200             80.197220\n",
       "15              Bang Sue       32622        1443822             82.051098\n",
       "16            Bang Phlat       25716        1469538             83.512515\n",
       "17             Bang Kapi       23540        1493078             84.850272\n",
       "18             Thon buri       23115        1516193             86.163877\n",
       "19             Yan na wa       20031        1536224             87.302221\n",
       "20               Pra Wet       17769        1553993             88.312017\n",
       "21         Phasi Charoen       16005        1569998             89.221566\n",
       "22            Don Mueang       15772        1585770             90.117875\n",
       "23        Samphanthawong       13778        1599548             90.900866\n",
       "24           Lat Krabang       13247        1612795             91.653681\n",
       "25       Wang Thong Lang       12652        1625447             92.372683\n",
       "26         Bang Kho laen       12472        1637919             93.081455\n",
       "27           Bangkok Noi       11909        1649828             93.758233\n",
       "28                Lak Si       11789        1661617             94.428191\n",
       "29  Pom Prap Sattru Phai       11637        1673254             95.089512\n",
       "30             Bang Khen       11115        1684369             95.721167\n",
       "31           Bangkok Yai        8037        1692406             96.177902\n",
       "32            Chom Thong        7102        1699508             96.581503\n",
       "33             Bang Khae        6836        1706344             96.969986\n",
       "34           Khan Na Yao        6534        1712878             97.341308\n",
       "35             Bueng Kum        6414        1719292             97.705809\n",
       "36                 Dusit        5197        1724489             98.001150\n",
       "37            Rat Burana        5191        1729680             98.296150\n",
       "38              Min Buri        4784        1734464             98.568020\n",
       "39           Taling Chan        4516        1738980             98.824661\n",
       "40               Sai Mai        4359        1743339             99.072379\n",
       "41             Lat Phrao        3653        1746992             99.279975\n",
       "42           Saphan Sung        2880        1749872             99.443643\n",
       "43            Thung khru        2480        1752352             99.584579\n",
       "44         Khlong Sam Wa        2314        1754666             99.716082\n",
       "45       Bang Khun thain        1461        1756127             99.799109\n",
       "46        Thawi Watthana        1402        1757529             99.878784\n",
       "47             Nong Chok        1301        1758830             99.952718\n",
       "48            Nong Khaem         832        1759662            100.000000\n",
       "49              Bang Bon           0        1759662            100.000000"
      ]
     },
     "execution_count": 90,
     "metadata": {},
     "output_type": "execute_result"
    }
   ],
   "source": [
    "df_sumbook_by_neigh"
   ]
  },
  {
   "cell_type": "code",
   "execution_count": null,
   "id": "9349fe21",
   "metadata": {},
   "outputs": [
    {
     "data": {
      "image/png": "[encoded data removed]",
      "text/plain": [
       "<Figure size 1400x600 with 2 Axes>"
      ]
     },
     "metadata": {},
     "output_type": "display_data"
    }
   ],
   "source": [
    "fig, ax1 = plt.subplots(figsize=(14,6))\n",
    "\n",
    "colors = [\"skyblue\" if p <= 80 else \"orange\" for p in df_sumbook_by_neigh[\"cumulativepercentage\"]]\n",
    "\n",
    "# Bar plot (listings count per host)\n",
    "ax1.bar(df_sumbook_by_neigh.index, df_sumbook_by_neigh[\"booked_365\"], color=colors)\n",
    "ax1.set_ylabel(\"Number of Bookeddays\", color=\"blue\")\n",
    "ax1.set_xlabel(\"Neighbourhood Rank\")\n",
    "\n",
    "# X-ticks as host IDs or names\n",
    "ax1.set_xticks(df_sumbook_by_neigh.index)\n",
    "ax1.set_xticklabels(df_sumbook_by_neigh[\"neighbourhood\"], rotation=45, ha=\"right\")\n",
    "\n",
    "# Line plot for cumulative %\n",
    "ax2 = ax1.twinx()\n",
    "ax2.plot(df_sumbook_by_neigh.index, df_sumbook_by_neigh[\"cumulativepercentage\"], color=\"red\", marker=\"o\", linestyle=\"-\")\n",
    "ax2.set_ylabel(\"Cumulative % of Listings\", color=\"red\")\n",
    "ax2.axhline(80, color=\"gray\", linestyle=\"--\", linewidth=1)  # 80% reference line\n",
    "ax2.set_ylim(0, 110)\n",
    "\n",
    "n_dominant = (df_sumbook_by_neigh[\"cumulativepercentage\"] <= 80).sum()\n",
    "textstr = f\"Top {n_dominant} neighbourhoods account for ~80% of booked days\"\n",
    "\n",
    "# Place text on the figure\n",
    "ax1.text(\n",
    "    0.31, 0.2, textstr,\n",
    "    transform=ax1.transAxes,\n",
    "    fontsize=12,\n",
    "    color=\"black\",\n",
    "    bbox=dict(facecolor=\"white\", alpha=0.7, edgecolor=\"gray\")\n",
    ")\n",
    "\n",
    "plt.title(\"Pareto Chart of Airbnb Bangkok: Top Neighbourhood by Total booked days\")\n",
    "plt.tight_layout()\n",
    "plt.show()"
   ]
  },
  {
   "cell_type": "markdown",
   "id": "b6fa1bc0",
   "metadata": {},
   "source": [
    "Dari visualisasi ini dapat di simpulkan bahwa:\n",
    "\n",
    "- `Top 14 dari neighbourhood` berdasarkan jumlah booked days di 2022 `mendominasi 80% dari total booked days` di bangkok.\n",
    "- Top 2nya yaitu neighbourhood `Khlong Toei` dan `Vadhana` yang memiliki `lebih 600K possible days` to book juga menjadi top2 disini yang berarti semakin banyak listing di daerah tersebut semakin banyak kemungkinan neighbour tersebut dipilih customer.\n",
    "- banyak `neighbourhood` yang `under-penetrated` juga mempengaruhi booked days disini."
   ]
  },
  {
   "cell_type": "markdown",
   "id": "4f702777",
   "metadata": {},
   "source": [
    "- KPI section:\n",
    "- Revenue in 2022\n",
    "- `Total Booked days` in 2022\n",
    "- Most Popular `Room Type` in 2022 for customer to choose\n",
    "- Most Popular `Category Stay` in 2022 for customer to choose"
   ]
  },
  {
   "cell_type": "code",
   "execution_count": 136,
   "id": "b9e79215",
   "metadata": {},
   "outputs": [
    {
     "name": "stdout",
     "output_type": "stream",
     "text": [
      "\n",
      "      Revenue Airbnb Bangkok in 2022: 2785647102, \n",
      "      Total Booked days in 2022: 1759662, \n",
      "      Most Popular room type based on customer book: Entire home/apt, \n",
      "      Most Popular category stay based on customer book: Short\n"
     ]
    },
    {
     "name": "stderr",
     "output_type": "stream",
     "text": [
      "C:\\Users\\Ivan\\AppData\\Local\\Temp\\ipykernel_26232\\512226457.py:2: SettingWithCopyWarning:\n",
      "\n",
      "\n",
      "A value is trying to be set on a copy of a slice from a DataFrame.\n",
      "Try using .loc[row_indexer,col_indexer] = value instead\n",
      "\n",
      "See the caveats in the documentation: https://pandas.pydata.org/pandas-docs/stable/user_guide/indexing.html#returning-a-view-versus-a-copy\n",
      "\n"
     ]
    }
   ],
   "source": [
    "df1g = df1e[['booked_365', 'price']]\n",
    "df1g['revenue'] = df1g['booked_365'] * df1g['price']\n",
    "df1g['revenue'].sum()\n",
    "df1g['booked_365'].sum()\n",
    "popularroom = df1e.groupby('room_type', as_index=False)['booked_365'].sum().sort_values(by='booked_365', ascending=False).head(1)\n",
    "popularstay = df1e.groupby('category_stay', as_index=False)['booked_365'].sum().sort_values(by='booked_365', ascending=False).head(1)\n",
    "print(f'''\n",
    "      Revenue Airbnb Bangkok in 2022: {df1g['revenue'].sum()}, \n",
    "      Total Booked days in 2022: {df1g['booked_365'].sum()}, \n",
    "      Most Popular room type based on customer book: {popularroom['room_type'].iloc[0]}, \n",
    "      Most Popular category stay based on customer book: {popularstay['category_stay'].iloc[0]}''')"
   ]
  },
  {
   "cell_type": "markdown",
   "id": "f56130f7",
   "metadata": {},
   "source": []
  },
  {
   "cell_type": "markdown",
   "id": "f81350f2",
   "metadata": {},
   "source": [
    "## Summary \n",
    "- Bar Chart Comparison `booked days` in 2022 and from `2012-2021` based on `Category stay` and `Room Type`\n",
    "- KPI section:\n",
    "- Total `Revenue` all years\n",
    "- `Revenue` each year from 2012-2021\n",
    "- Total `Unique Listings`\n",
    "- Total `Unique Host`"
   ]
  },
  {
   "cell_type": "markdown",
   "id": "e168f390",
   "metadata": {},
   "source": [
    "### Bar Chart Occupancy comparison between Year 2012-2021 and 2022 by Room Type"
   ]
  },
  {
   "cell_type": "code",
   "execution_count": 146,
   "id": "40e1550b",
   "metadata": {},
   "outputs": [],
   "source": [
    "df_grouptwinroom = df1e.groupby('room_type')[['booked_365', 'occupancy_days']].sum().reset_index()"
   ]
  },
  {
   "cell_type": "code",
   "execution_count": 147,
   "id": "d3be1f45",
   "metadata": {},
   "outputs": [],
   "source": [
    "meltedroom = df_grouptwinroom.melt(id_vars='room_type',\n",
    "                               value_vars=['booked_365', 'occupancy_days'],\n",
    "                               var_name = 'year_group'\n",
    "                               )"
   ]
  },
  {
   "cell_type": "code",
   "execution_count": 148,
   "id": "ce434c51",
   "metadata": {},
   "outputs": [
    {
     "data": {
      "image/png": "[encoded data removed]",
      "text/plain": [
       "<Figure size 1000x600 with 1 Axes>"
      ]
     },
     "metadata": {},
     "output_type": "display_data"
    }
   ],
   "source": [
    "plt.figure(figsize=(10,6))\n",
    "sns.barplot(\n",
    "    data=meltedroom,\n",
    "    x=\"room_type\",\n",
    "    y=\"value\",\n",
    "    hue=\"year_group\",\n",
    ")\n",
    "for p in plt.gca().patches:\n",
    "    height = p.get_height()\n",
    "    if height > 0:  # avoid 0-height annotations\n",
    "        plt.gca().annotate(\n",
    "            f\"{int(height):,}\",\n",
    "            (p.get_x() + p.get_width()/2., height),\n",
    "            ha=\"center\", va=\"bottom\",\n",
    "            fontsize=9, color=\"black\")\n",
    "\n",
    "plt.title(\"Occupancy Comparison between Year 2012–2021 and Year 2022 by Room Type\")\n",
    "plt.ylabel(\"Booked Days\")\n",
    "plt.xlabel(\"Category Stay\")\n",
    "plt.legend(title=\"Year Group\")\n",
    "plt.tight_layout()\n",
    "plt.show()"
   ]
  },
  {
   "cell_type": "markdown",
   "id": "1c71228c",
   "metadata": {},
   "source": [
    "- `Entire home/apt` sangat diminati customer yang datang ke Bangkok dari `2012 sampai 2022`.\n",
    "- adanya `potential` di `private room` yang terlihat `4x booked days di tahun 2022 dibandingkan dari kalkulasi tahun 2012-2021`.\n",
    "- `shared room` dan `hotel room` tidak terlalu diminati customer di airbnb\n",
    "- mungkin perlu adanya `incentive untuk customer` ketika memlih tempat yang ingin disewakan `seperti diberikan discount untuk hotel room / shared room`. atau sebaliknya `airbnb dapat memberikan sugesti` untuk host untuk `menyewakan private room atau 1 rumah` secara keseluruhan karena trendnya sedang ada di tipe room seperti itu."
   ]
  },
  {
   "cell_type": "markdown",
   "id": "e55044e3",
   "metadata": {},
   "source": [
    "### Bar Chart Occupancy comparison between Year 2012-2021 and 2022 by Category Stay"
   ]
  },
  {
   "cell_type": "code",
   "execution_count": 142,
   "id": "c14aaf43",
   "metadata": {},
   "outputs": [],
   "source": [
    "df_grouptwinstay = df1e.groupby('category_stay')[['booked_365', 'occupancy_days']].sum().reset_index()\n"
   ]
  },
  {
   "cell_type": "code",
   "execution_count": 143,
   "id": "fe1db243",
   "metadata": {},
   "outputs": [],
   "source": [
    "melted = df_grouptwinstay.melt(id_vars='category_stay',\n",
    "                               value_vars=['booked_365', 'occupancy_days'],\n",
    "                               var_name = 'year_group'\n",
    "                               )\n",
    "\n"
   ]
  },
  {
   "cell_type": "code",
   "execution_count": 145,
   "id": "54168f3a",
   "metadata": {},
   "outputs": [
    {
     "data": {
      "image/png": "[encoded data removed]",
      "text/plain": [
       "<Figure size 1000x600 with 1 Axes>"
      ]
     },
     "metadata": {},
     "output_type": "display_data"
    }
   ],
   "source": [
    "plt.figure(figsize=(10,6))\n",
    "sns.barplot(\n",
    "    data=melted,\n",
    "    x=\"category_stay\",\n",
    "    y=\"value\",\n",
    "    hue=\"year_group\",\n",
    ")\n",
    "for p in plt.gca().patches:\n",
    "    height = p.get_height()\n",
    "    if height > 0:  # avoid 0-height annotations\n",
    "        plt.gca().annotate(\n",
    "            f\"{int(height):,}\",\n",
    "            (p.get_x() + p.get_width()/2., height),\n",
    "            ha=\"center\", va=\"bottom\",\n",
    "            fontsize=9, color=\"black\")\n",
    "\n",
    "plt.title(\"Occupancy Comparison between Year 2012–2021 and Year 2022 by Category Stay\")\n",
    "plt.ylabel(\"Booked Days\")\n",
    "plt.xlabel(\"Category Stay\")\n",
    "plt.legend(title=\"Year Group\")\n",
    "plt.tight_layout()\n",
    "plt.show()"
   ]
  },
  {
   "cell_type": "markdown",
   "id": "a8b73bca",
   "metadata": {},
   "source": [
    "- adanya `trend shift` dari sisi `category stay`, dimana pada tahun `2012-2021`, `extended stay sangat diminati` customer lebih dari `1.2 Million booked days` di ikuti `long stay, medium stay, dan terakhir short stay`.\n",
    "- sedangkan pada tahun `2022`, trend terjadi `terbalik`, dimana extended stay menjadi pilihan yang paling tidak diminati, dan `short stay` sangat diminati customer yang booking `pada tahun 2022 dengan 1.2 Million booked days`.\n",
    "- `trend shift ini penting untuk host`, karena semakin banyak host yang mulai `mengubah minimum nights menjadi lebih kecil`, semakin banyak juga `customer memiliki variasi tempat` yang dapat ditinggalkkan selama ada di bangkok untuk vacation. Ini akan `berdampak kepada revenue karena lebih optimal`."
   ]
  },
  {
   "cell_type": "markdown",
   "id": "87608c00",
   "metadata": {},
   "source": [
    "- KPI section:\n",
    "- Total `Revenue` all years\n",
    "- `Revenue` each year from 2012-2021\n",
    "- Total `Unique Listings`\n",
    "- Total `Unique Host`"
   ]
  },
  {
   "cell_type": "code",
   "execution_count": 141,
   "id": "3221eed8",
   "metadata": {},
   "outputs": [
    {
     "name": "stdout",
     "output_type": "stream",
     "text": [
      "\n",
      "      Total Revenue Airbnb Bangkok All Years: 7099059817, \n",
      "      Revenue each year from 2012-2021: 431341271.5, \n",
      "      Total Unique Listings: 14442, \n",
      "      Total Unique Host: 6191\n"
     ]
    },
    {
     "name": "stderr",
     "output_type": "stream",
     "text": [
      "C:\\Users\\Ivan\\AppData\\Local\\Temp\\ipykernel_26232\\136086985.py:2: SettingWithCopyWarning:\n",
      "\n",
      "\n",
      "A value is trying to be set on a copy of a slice from a DataFrame.\n",
      "Try using .loc[row_indexer,col_indexer] = value instead\n",
      "\n",
      "See the caveats in the documentation: https://pandas.pydata.org/pandas-docs/stable/user_guide/indexing.html#returning-a-view-versus-a-copy\n",
      "\n",
      "C:\\Users\\Ivan\\AppData\\Local\\Temp\\ipykernel_26232\\136086985.py:3: SettingWithCopyWarning:\n",
      "\n",
      "\n",
      "A value is trying to be set on a copy of a slice from a DataFrame.\n",
      "Try using .loc[row_indexer,col_indexer] = value instead\n",
      "\n",
      "See the caveats in the documentation: https://pandas.pydata.org/pandas-docs/stable/user_guide/indexing.html#returning-a-view-versus-a-copy\n",
      "\n"
     ]
    }
   ],
   "source": [
    "df1h = df1e[['price', 'booked_365', 'occupancy_days']]\n",
    "df1h['revenue2022'] = df1h['price'] * df1h['booked_365']\n",
    "df1h['revenuebefore'] = df1h['price'] * df1h['occupancy_days']\n",
    "totalrevenue = df1h['revenue2022'].sum() + df1h['revenuebefore'].sum()\n",
    "revenueeachyearbefore = df1h['revenuebefore'].sum() / 10\n",
    "df1e['id'].nunique()\n",
    "df1e['host_id'].nunique()\n",
    "print(f'''\n",
    "      Total Revenue Airbnb Bangkok All Years: {totalrevenue}, \n",
    "      Revenue each year from 2012-2021: {revenueeachyearbefore}, \n",
    "      Total Unique Listings: {df1e['id'].nunique()}, \n",
    "      Total Unique Host: {df1e['host_id'].nunique()}''')"
   ]
  },
  {
   "cell_type": "markdown",
   "id": "2c1ecbfa",
   "metadata": {},
   "source": [
    "## Conclusion\n",
    "- di tahun 2022 sendiri, revenue airbnb mencapai 2.7 Billion Baht tertinggi dari tahun tahun sebelumnya. \n",
    "\n",
    "- 14 wilayah atau neighbour mendominasi dari segi jumlah possible booked days dan juga booked days di tahun 2022 yang berarti semakin banyak listing di daerah tersebut, semakin banyak juga kemungkinan customer memilih daerah tersebut untuk menyewa tempat di bangkok.\n",
    "\n",
    "- Customer preference kepada entire home/apt sebagai tempat untuk disewa dari tahun 2012-2022 memberikan gambaran bahwa customer yang datang ke bangkok dan ingin vacation sangat senang dengan tipe ini karena memberikan privasi lebih dibandingkan dengan room type lainnya.\n",
    "\n",
    "- Customer times preference yang terjadi trend shift dari extended stay menjadi short stay dapat dijadikan bahan pembelajaran kepada host bahwa flexibility di minimum-nights adalah prioritas bagi customer."
   ]
  },
  {
   "cell_type": "markdown",
   "id": "a5050204",
   "metadata": {},
   "source": [
    "## Actionable Recommendation\n",
    "- Airbnb di bangkok masih dapat berkembang dari sisi potensi customer. perkembangan ini bisa lebih di maksimalkan dengan memberikan iklan yang dapat dilihat potential customer dan juga memberikan discount atau bonus untuk customer baru.\n",
    "\n",
    "- Airbnb dapat memberikan incentive kepada host untuk membuka tempat baru untuk di sewa di daerah yang under-penetrated seperti cut percentage dikurangi sehingga host dapat mendapatkan untung lebih dari revenuenya.\n",
    "\n",
    "- Airbnb dapat memberikan bonus atau discount untuk customer yang memilih room type lain selain entire home/apt atau bahkan memberikan sugesti kepada host baru untuk menyewakan tempat dengan tipe 1 rumah sekaligus dan tidak menyarankan bentuk/ tipe ruangan lainnya untuk disewakan berdasarkan customer behaviour ketika memilih tempat untuk ditinggali berdasarkan tipe ruangan.\n",
    "\n",
    "- Airbnb dapat memberikan nasihat kepada host untuk mengurangi minimum night to book supaya listing yang host sewa memiliki kesempatan yang lebih besar untuk dipilih dan disewa customer. Atau kalau host sulit melakukan hal tersebut, Airbnb dapat memberikan customer discount ketika menyewa tempat dengan minimum nights tinggi atau lebih lama menempati tempat tersebut."
   ]
  },
  {
   "cell_type": "markdown",
   "id": "52e5c605",
   "metadata": {},
   "source": []
  }
 ],
 "metadata": {
  "kernelspec": {
   "display_name": "venv",
   "language": "python",
   "name": "python3"
  },
  "language_info": {
   "codemirror_mode": {
    "name": "ipython",
    "version": 3
   },
   "file_extension": ".py",
   "mimetype": "text/x-python",
   "name": "python",
   "nbconvert_exporter": "python",
   "pygments_lexer": "ipython3",
   "version": "3.13.5"
  }
 },
 "nbformat": 4,
 "nbformat_minor": 5
}
